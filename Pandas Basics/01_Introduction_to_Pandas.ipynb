{
 "cells": [
  {
   "cell_type": "markdown",
   "id": "sizrj-ak0eTt",
   "metadata": {
    "id": "sizrj-ak0eTt"
   },
   "source": [
    " <div class=\"alert alert-info\" style=\"background-color:#006666; color:white; padding:0px 10px; border-radius:5px;\"><h2 style='margin:10px 5px'>1. What is pandas?</h2>\n",
    "</div>"
   ]
  },
  {
   "cell_type": "markdown",
   "id": "Hemccw9f0eTu",
   "metadata": {
    "id": "Hemccw9f0eTu"
   },
   "source": [
    "Pandas is Python's most popular and widely used library for Data Manipulation and Analysis. Data analysts and Scientists often work with data coming in various formats such as .csv, .xlsx files and such. Pandas makes it easy to import, process and analyse the data.\n",
    "\n",
    "The __DataFrame__ is a popular data structure modeled after the dataframe object from R programming language. It is further enhanced to Python's object oriented capabilities. \n",
    "\n",
    "It is built on top of NumPy, which is famous for the arrays."
   ]
  },
  {
   "cell_type": "markdown",
   "id": "jZEP0le90eTv",
   "metadata": {
    "id": "jZEP0le90eTv"
   },
   "source": [
    "__Built By:__\n",
    "\n",
    "_Wes McKinney_ and Team.\n",
    "\n",
    "Originally started in the year 2008 at AQR Capital Management. \n",
    "2009 -> Open Source.\n",
    "\n",
    "Today actively developed and maintained by contributors throughout the world. \n",
    "\n",
    "All of this is done via two primary data structures: \n",
    "1. Series\n",
    "2. DataFrame\n",
    "\n",
    "\n",
    "One column of a __DataFrame__ when extracted becomes a __Series__.\n",
    "\n",
    "__Why Pandas?__\n",
    "\n",
    "1. Do all sort of Data Manipulation\n",
    "2. Default library used for handling tabular data.\n",
    "3. Compatible with ML libraries like scikit-learn.\n",
    "4. Excellent documentation\n",
    "5. Wide adoption => Easy to find a solution for anything\n",
    "6. Plotting for Data Analysis\n",
    "7. Ability to handle multiple datatypes in same dataframe.\n",
    "\n",
    "More here: https://pandas.pydata.org/about/"
   ]
  },
  {
   "cell_type": "markdown",
   "id": "05Oz2jvi0eTv",
   "metadata": {
    "id": "05Oz2jvi0eTv"
   },
   "source": [
    " <div class=\"alert alert-info\" style=\"background-color:#006666; color:white; padding:0px 10px; border-radius:5px;\"><h2 style='margin:10px 5px'>2. DataFrame</h2>\n",
    "</div>\n"
   ]
  },
  {
   "cell_type": "markdown",
   "id": "aYBySk350eTw",
   "metadata": {
    "id": "aYBySk350eTw"
   },
   "source": [
    "It is customary to import `numpy` as `np` and `pandas` as `pd`. Everyone does it this way."
   ]
  },
  {
   "cell_type": "code",
   "execution_count": 4,
   "id": "NY7IEdj50eTw",
   "metadata": {
    "id": "NY7IEdj50eTw"
   },
   "outputs": [],
   "source": [
    "# Import convention\n",
    "import numpy as np\n",
    "import pandas as pd"
   ]
  },
  {
   "cell_type": "code",
   "execution_count": 2,
   "id": "yGdlKWiO0eTx",
   "metadata": {
    "id": "yGdlKWiO0eTx",
    "outputId": "eedba8dc-88c3-4a13-dfc3-047a3b8bc421"
   },
   "outputs": [
    {
     "data": {
      "text/plain": [
       "array([[ 8, 24, 67],\n",
       "       [87, 79, 48],\n",
       "       [10, 94, 52],\n",
       "       [98, 53, 66],\n",
       "       [98, 14, 34]], dtype=int32)"
      ]
     },
     "execution_count": 2,
     "metadata": {},
     "output_type": "execute_result"
    }
   ],
   "source": [
    "# Create Numpy Array or List\n",
    "np.random.seed(100)\n",
    "arr = np.random.randint(0,100,(5,3))\n",
    "arr"
   ]
  },
  {
   "cell_type": "markdown",
   "id": "S1xlt3c_0eTz",
   "metadata": {
    "id": "S1xlt3c_0eTz"
   },
   "source": [
    "Create DataFrame from the Array. Default Column names and Row indexs starting from 0, 1, .. is generated."
   ]
  },
  {
   "cell_type": "code",
   "execution_count": 3,
   "id": "C89q86TR0eTz",
   "metadata": {
    "id": "C89q86TR0eTz",
    "outputId": "3098e979-fa37-43fa-d2c9-eab6023c6282",
    "scrolled": true
   },
   "outputs": [
    {
     "data": {
      "text/html": [
       "<div>\n",
       "<style scoped>\n",
       "    .dataframe tbody tr th:only-of-type {\n",
       "        vertical-align: middle;\n",
       "    }\n",
       "\n",
       "    .dataframe tbody tr th {\n",
       "        vertical-align: top;\n",
       "    }\n",
       "\n",
       "    .dataframe thead th {\n",
       "        text-align: right;\n",
       "    }\n",
       "</style>\n",
       "<table border=\"1\" class=\"dataframe\">\n",
       "  <thead>\n",
       "    <tr style=\"text-align: right;\">\n",
       "      <th></th>\n",
       "      <th>0</th>\n",
       "      <th>1</th>\n",
       "      <th>2</th>\n",
       "    </tr>\n",
       "  </thead>\n",
       "  <tbody>\n",
       "    <tr>\n",
       "      <th>0</th>\n",
       "      <td>8</td>\n",
       "      <td>24</td>\n",
       "      <td>67</td>\n",
       "    </tr>\n",
       "    <tr>\n",
       "      <th>1</th>\n",
       "      <td>87</td>\n",
       "      <td>79</td>\n",
       "      <td>48</td>\n",
       "    </tr>\n",
       "    <tr>\n",
       "      <th>2</th>\n",
       "      <td>10</td>\n",
       "      <td>94</td>\n",
       "      <td>52</td>\n",
       "    </tr>\n",
       "    <tr>\n",
       "      <th>3</th>\n",
       "      <td>98</td>\n",
       "      <td>53</td>\n",
       "      <td>66</td>\n",
       "    </tr>\n",
       "    <tr>\n",
       "      <th>4</th>\n",
       "      <td>98</td>\n",
       "      <td>14</td>\n",
       "      <td>34</td>\n",
       "    </tr>\n",
       "  </tbody>\n",
       "</table>\n",
       "</div>"
      ],
      "text/plain": [
       "    0   1   2\n",
       "0   8  24  67\n",
       "1  87  79  48\n",
       "2  10  94  52\n",
       "3  98  53  66\n",
       "4  98  14  34"
      ]
     },
     "execution_count": 3,
     "metadata": {},
     "output_type": "execute_result"
    }
   ],
   "source": [
    "df = pd.DataFrame(arr)\n",
    "df"
   ]
  },
  {
   "cell_type": "code",
   "execution_count": 4,
   "id": "bkVMGtEz0eT0",
   "metadata": {
    "id": "bkVMGtEz0eT0",
    "outputId": "81d18ff2-286e-4a66-ce89-2aa1b213add6"
   },
   "outputs": [
    {
     "data": {
      "text/plain": [
       "pandas.core.frame.DataFrame"
      ]
     },
     "execution_count": 4,
     "metadata": {},
     "output_type": "execute_result"
    }
   ],
   "source": [
    "type(df)"
   ]
  },
  {
   "cell_type": "markdown",
   "id": "0PdQUYc30eT0",
   "metadata": {
    "id": "0PdQUYc30eT0"
   },
   "source": [
    "You can create your own custom columns and rows as well."
   ]
  },
  {
   "cell_type": "code",
   "execution_count": 5,
   "id": "UayWmkWA0eT1",
   "metadata": {
    "id": "UayWmkWA0eT1"
   },
   "outputs": [],
   "source": [
    "rownames = ['Mon', 'Tue', 'Wed', 'Thu', 'Fri']\n",
    "columnnames = ['Jan', 'Feb', 'Mar']"
   ]
  },
  {
   "cell_type": "code",
   "execution_count": 6,
   "id": "5MqIGrm80eT1",
   "metadata": {
    "id": "5MqIGrm80eT1",
    "outputId": "5a0d538b-dde4-48fa-8b63-d0bbe3fdea31"
   },
   "outputs": [
    {
     "data": {
      "text/html": [
       "<div>\n",
       "<style scoped>\n",
       "    .dataframe tbody tr th:only-of-type {\n",
       "        vertical-align: middle;\n",
       "    }\n",
       "\n",
       "    .dataframe tbody tr th {\n",
       "        vertical-align: top;\n",
       "    }\n",
       "\n",
       "    .dataframe thead th {\n",
       "        text-align: right;\n",
       "    }\n",
       "</style>\n",
       "<table border=\"1\" class=\"dataframe\">\n",
       "  <thead>\n",
       "    <tr style=\"text-align: right;\">\n",
       "      <th></th>\n",
       "      <th>Jan</th>\n",
       "      <th>Feb</th>\n",
       "      <th>Mar</th>\n",
       "    </tr>\n",
       "  </thead>\n",
       "  <tbody>\n",
       "    <tr>\n",
       "      <th>Mon</th>\n",
       "      <td>8</td>\n",
       "      <td>24</td>\n",
       "      <td>67</td>\n",
       "    </tr>\n",
       "    <tr>\n",
       "      <th>Tue</th>\n",
       "      <td>87</td>\n",
       "      <td>79</td>\n",
       "      <td>48</td>\n",
       "    </tr>\n",
       "    <tr>\n",
       "      <th>Wed</th>\n",
       "      <td>10</td>\n",
       "      <td>94</td>\n",
       "      <td>52</td>\n",
       "    </tr>\n",
       "    <tr>\n",
       "      <th>Thu</th>\n",
       "      <td>98</td>\n",
       "      <td>53</td>\n",
       "      <td>66</td>\n",
       "    </tr>\n",
       "    <tr>\n",
       "      <th>Fri</th>\n",
       "      <td>98</td>\n",
       "      <td>14</td>\n",
       "      <td>34</td>\n",
       "    </tr>\n",
       "  </tbody>\n",
       "</table>\n",
       "</div>"
      ],
      "text/plain": [
       "     Jan  Feb  Mar\n",
       "Mon    8   24   67\n",
       "Tue   87   79   48\n",
       "Wed   10   94   52\n",
       "Thu   98   53   66\n",
       "Fri   98   14   34"
      ]
     },
     "execution_count": 6,
     "metadata": {},
     "output_type": "execute_result"
    }
   ],
   "source": [
    "df = pd.DataFrame(arr, index=rownames, columns=columnnames)\n",
    "df"
   ]
  },
  {
   "cell_type": "markdown",
   "id": "ZVlRlW5c0eT1",
   "metadata": {
    "id": "ZVlRlW5c0eT1"
   },
   "source": [
    "### How to create a DataFrame from a Dictionary?"
   ]
  },
  {
   "cell_type": "code",
   "execution_count": 7,
   "id": "9NknzBNP0eT2",
   "metadata": {
    "id": "9NknzBNP0eT2",
    "outputId": "3e257a61-77aa-484e-ff9b-40108cc4584f",
    "scrolled": true
   },
   "outputs": [
    {
     "data": {
      "text/html": [
       "<div>\n",
       "<style scoped>\n",
       "    .dataframe tbody tr th:only-of-type {\n",
       "        vertical-align: middle;\n",
       "    }\n",
       "\n",
       "    .dataframe tbody tr th {\n",
       "        vertical-align: top;\n",
       "    }\n",
       "\n",
       "    .dataframe thead th {\n",
       "        text-align: right;\n",
       "    }\n",
       "</style>\n",
       "<table border=\"1\" class=\"dataframe\">\n",
       "  <thead>\n",
       "    <tr style=\"text-align: right;\">\n",
       "      <th></th>\n",
       "      <th>Jan</th>\n",
       "      <th>Feb</th>\n",
       "      <th>Mar</th>\n",
       "    </tr>\n",
       "  </thead>\n",
       "  <tbody>\n",
       "    <tr>\n",
       "      <th>Mon</th>\n",
       "      <td>1</td>\n",
       "      <td>10</td>\n",
       "      <td>15</td>\n",
       "    </tr>\n",
       "    <tr>\n",
       "      <th>Tue</th>\n",
       "      <td>2</td>\n",
       "      <td>20</td>\n",
       "      <td>25</td>\n",
       "    </tr>\n",
       "    <tr>\n",
       "      <th>Wed</th>\n",
       "      <td>3</td>\n",
       "      <td>30</td>\n",
       "      <td>35</td>\n",
       "    </tr>\n",
       "    <tr>\n",
       "      <th>Thu</th>\n",
       "      <td>4</td>\n",
       "      <td>40</td>\n",
       "      <td>45</td>\n",
       "    </tr>\n",
       "    <tr>\n",
       "      <th>Fri</th>\n",
       "      <td>5</td>\n",
       "      <td>50</td>\n",
       "      <td>55</td>\n",
       "    </tr>\n",
       "  </tbody>\n",
       "</table>\n",
       "</div>"
      ],
      "text/plain": [
       "     Jan  Feb  Mar\n",
       "Mon    1   10   15\n",
       "Tue    2   20   25\n",
       "Wed    3   30   35\n",
       "Thu    4   40   45\n",
       "Fri    5   50   55"
      ]
     },
     "execution_count": 7,
     "metadata": {},
     "output_type": "execute_result"
    }
   ],
   "source": [
    "mydict = {\n",
    "    'Jan' : [1, 2, 3, 4, 5],\n",
    "    'Feb' : [10, 20, 30, 40, 50],\n",
    "    'Mar' : [15, 25, 35, 45, 55],\n",
    "}\n",
    "  \n",
    "# dataframe from dict\n",
    "df = pd.DataFrame(mydict, index=['Mon', 'Tue', 'Wed', 'Thu', 'Fri'])\n",
    "df"
   ]
  },
  {
   "cell_type": "markdown",
   "id": "4o6nf-5t0eT2",
   "metadata": {
    "id": "4o6nf-5t0eT2"
   },
   "source": [
    "A dictionary does not have an inherent ordering of key. So, to get your columns in specific order, explicitly mention it."
   ]
  },
  {
   "cell_type": "code",
   "execution_count": 8,
   "id": "w025nxJ-0eT2",
   "metadata": {
    "id": "w025nxJ-0eT2",
    "outputId": "2bef20d4-6ea6-4555-f297-6467b179266a"
   },
   "outputs": [
    {
     "data": {
      "text/html": [
       "<div>\n",
       "<style scoped>\n",
       "    .dataframe tbody tr th:only-of-type {\n",
       "        vertical-align: middle;\n",
       "    }\n",
       "\n",
       "    .dataframe tbody tr th {\n",
       "        vertical-align: top;\n",
       "    }\n",
       "\n",
       "    .dataframe thead th {\n",
       "        text-align: right;\n",
       "    }\n",
       "</style>\n",
       "<table border=\"1\" class=\"dataframe\">\n",
       "  <thead>\n",
       "    <tr style=\"text-align: right;\">\n",
       "      <th></th>\n",
       "      <th>Mar</th>\n",
       "      <th>Jan</th>\n",
       "      <th>Feb</th>\n",
       "    </tr>\n",
       "  </thead>\n",
       "  <tbody>\n",
       "    <tr>\n",
       "      <th>Mon</th>\n",
       "      <td>15</td>\n",
       "      <td>1</td>\n",
       "      <td>10</td>\n",
       "    </tr>\n",
       "    <tr>\n",
       "      <th>Tue</th>\n",
       "      <td>25</td>\n",
       "      <td>2</td>\n",
       "      <td>20</td>\n",
       "    </tr>\n",
       "    <tr>\n",
       "      <th>Wed</th>\n",
       "      <td>35</td>\n",
       "      <td>3</td>\n",
       "      <td>30</td>\n",
       "    </tr>\n",
       "    <tr>\n",
       "      <th>Thu</th>\n",
       "      <td>45</td>\n",
       "      <td>4</td>\n",
       "      <td>40</td>\n",
       "    </tr>\n",
       "    <tr>\n",
       "      <th>Fri</th>\n",
       "      <td>55</td>\n",
       "      <td>5</td>\n",
       "      <td>50</td>\n",
       "    </tr>\n",
       "  </tbody>\n",
       "</table>\n",
       "</div>"
      ],
      "text/plain": [
       "     Mar  Jan  Feb\n",
       "Mon   15    1   10\n",
       "Tue   25    2   20\n",
       "Wed   35    3   30\n",
       "Thu   45    4   40\n",
       "Fri   55    5   50"
      ]
     },
     "execution_count": 8,
     "metadata": {},
     "output_type": "execute_result"
    }
   ],
   "source": [
    "mydict = {\n",
    "    'Jan' : [1, 2, 3, 4, 5],\n",
    "    'Feb' : [10, 20, 30, 40, 50],\n",
    "    'Mar' : [15, 25, 35, 45, 55],\n",
    "}\n",
    "  \n",
    "# dataframe from dict\n",
    "df = pd.DataFrame(mydict, \n",
    "                  index=['Mon', 'Tue', 'Wed', 'Thu', 'Fri'],\n",
    "                  columns=['Mar', 'Jan', 'Feb'])\n",
    "df"
   ]
  },
  {
   "cell_type": "markdown",
   "id": "FYweI85r0eT2",
   "metadata": {
    "id": "FYweI85r0eT2"
   },
   "source": [
    "__Reading Data From Files__\n",
    "\n",
    "Data can come in various file formats. Pandas supports importing data from multiple different sources. \n",
    "\n",
    "One of the common file formats is csv files. You can use `pd.read_csv` to import data."
   ]
  },
  {
   "cell_type": "code",
   "execution_count": 5,
   "id": "06QL8xyy0eT3",
   "metadata": {
    "id": "06QL8xyy0eT3"
   },
   "outputs": [],
   "source": [
    "df = pd.read_csv(r'..\\Datasets\\bios.csv')"
   ]
  },
  {
   "cell_type": "code",
   "execution_count": 6,
   "id": "7BeabcL-0eT3",
   "metadata": {
    "id": "7BeabcL-0eT3",
    "outputId": "d1a1243b-87dd-4ed5-be3f-bba0c1e929fa",
    "scrolled": false
   },
   "outputs": [
    {
     "data": {
      "text/html": [
       "<div>\n",
       "<style scoped>\n",
       "    .dataframe tbody tr th:only-of-type {\n",
       "        vertical-align: middle;\n",
       "    }\n",
       "\n",
       "    .dataframe tbody tr th {\n",
       "        vertical-align: top;\n",
       "    }\n",
       "\n",
       "    .dataframe thead th {\n",
       "        text-align: right;\n",
       "    }\n",
       "</style>\n",
       "<table border=\"1\" class=\"dataframe\">\n",
       "  <thead>\n",
       "    <tr style=\"text-align: right;\">\n",
       "      <th></th>\n",
       "      <th>athlete_id</th>\n",
       "      <th>name</th>\n",
       "      <th>born_date</th>\n",
       "      <th>born_city</th>\n",
       "      <th>born_region</th>\n",
       "      <th>born_country</th>\n",
       "      <th>NOC</th>\n",
       "      <th>height_cm</th>\n",
       "      <th>weight_kg</th>\n",
       "      <th>died_date</th>\n",
       "    </tr>\n",
       "  </thead>\n",
       "  <tbody>\n",
       "    <tr>\n",
       "      <th>0</th>\n",
       "      <td>1</td>\n",
       "      <td>Jean-François Blanchy</td>\n",
       "      <td>1886-12-12</td>\n",
       "      <td>Bordeaux</td>\n",
       "      <td>Gironde</td>\n",
       "      <td>FRA</td>\n",
       "      <td>France</td>\n",
       "      <td>NaN</td>\n",
       "      <td>NaN</td>\n",
       "      <td>1960-10-02</td>\n",
       "    </tr>\n",
       "    <tr>\n",
       "      <th>1</th>\n",
       "      <td>2</td>\n",
       "      <td>Arnaud Boetsch</td>\n",
       "      <td>1969-04-01</td>\n",
       "      <td>Meulan</td>\n",
       "      <td>Yvelines</td>\n",
       "      <td>FRA</td>\n",
       "      <td>France</td>\n",
       "      <td>183.0</td>\n",
       "      <td>76.0</td>\n",
       "      <td>NaN</td>\n",
       "    </tr>\n",
       "    <tr>\n",
       "      <th>2</th>\n",
       "      <td>3</td>\n",
       "      <td>Jean Borotra</td>\n",
       "      <td>1898-08-13</td>\n",
       "      <td>Biarritz</td>\n",
       "      <td>Pyrénées-Atlantiques</td>\n",
       "      <td>FRA</td>\n",
       "      <td>France</td>\n",
       "      <td>183.0</td>\n",
       "      <td>76.0</td>\n",
       "      <td>1994-07-17</td>\n",
       "    </tr>\n",
       "    <tr>\n",
       "      <th>3</th>\n",
       "      <td>4</td>\n",
       "      <td>Jacques Brugnon</td>\n",
       "      <td>1895-05-11</td>\n",
       "      <td>Paris VIIIe</td>\n",
       "      <td>Paris</td>\n",
       "      <td>FRA</td>\n",
       "      <td>France</td>\n",
       "      <td>168.0</td>\n",
       "      <td>64.0</td>\n",
       "      <td>1978-03-20</td>\n",
       "    </tr>\n",
       "    <tr>\n",
       "      <th>4</th>\n",
       "      <td>5</td>\n",
       "      <td>Albert Canet</td>\n",
       "      <td>1878-04-17</td>\n",
       "      <td>Wandsworth</td>\n",
       "      <td>England</td>\n",
       "      <td>GBR</td>\n",
       "      <td>France</td>\n",
       "      <td>NaN</td>\n",
       "      <td>NaN</td>\n",
       "      <td>1930-07-25</td>\n",
       "    </tr>\n",
       "    <tr>\n",
       "      <th>...</th>\n",
       "      <td>...</td>\n",
       "      <td>...</td>\n",
       "      <td>...</td>\n",
       "      <td>...</td>\n",
       "      <td>...</td>\n",
       "      <td>...</td>\n",
       "      <td>...</td>\n",
       "      <td>...</td>\n",
       "      <td>...</td>\n",
       "      <td>...</td>\n",
       "    </tr>\n",
       "    <tr>\n",
       "      <th>145495</th>\n",
       "      <td>149222</td>\n",
       "      <td>Polina Luchnikova</td>\n",
       "      <td>2002-01-30</td>\n",
       "      <td>Serov</td>\n",
       "      <td>Sverdlovsk</td>\n",
       "      <td>RUS</td>\n",
       "      <td>ROC</td>\n",
       "      <td>167.0</td>\n",
       "      <td>61.0</td>\n",
       "      <td>NaN</td>\n",
       "    </tr>\n",
       "    <tr>\n",
       "      <th>145496</th>\n",
       "      <td>149223</td>\n",
       "      <td>Valeriya Merkusheva</td>\n",
       "      <td>1999-09-20</td>\n",
       "      <td>Moskva (Moscow)</td>\n",
       "      <td>Moskva</td>\n",
       "      <td>RUS</td>\n",
       "      <td>ROC</td>\n",
       "      <td>168.0</td>\n",
       "      <td>65.0</td>\n",
       "      <td>NaN</td>\n",
       "    </tr>\n",
       "    <tr>\n",
       "      <th>145497</th>\n",
       "      <td>149224</td>\n",
       "      <td>Yuliya Smirnova</td>\n",
       "      <td>1998-05-08</td>\n",
       "      <td>Kotlas</td>\n",
       "      <td>Arkhangelsk</td>\n",
       "      <td>RUS</td>\n",
       "      <td>ROC</td>\n",
       "      <td>163.0</td>\n",
       "      <td>55.0</td>\n",
       "      <td>NaN</td>\n",
       "    </tr>\n",
       "    <tr>\n",
       "      <th>145498</th>\n",
       "      <td>149225</td>\n",
       "      <td>André Foussard</td>\n",
       "      <td>1899-05-19</td>\n",
       "      <td>Niort</td>\n",
       "      <td>Deux-Sèvres</td>\n",
       "      <td>FRA</td>\n",
       "      <td>France</td>\n",
       "      <td>166.0</td>\n",
       "      <td>NaN</td>\n",
       "      <td>1986-03-18</td>\n",
       "    </tr>\n",
       "    <tr>\n",
       "      <th>145499</th>\n",
       "      <td>149814</td>\n",
       "      <td>Bill Phillips</td>\n",
       "      <td>1913-07-15</td>\n",
       "      <td>Dulwich Hill</td>\n",
       "      <td>New South Wales</td>\n",
       "      <td>AUS</td>\n",
       "      <td>Australia</td>\n",
       "      <td>NaN</td>\n",
       "      <td>NaN</td>\n",
       "      <td>2003-10-20</td>\n",
       "    </tr>\n",
       "  </tbody>\n",
       "</table>\n",
       "<p>145500 rows × 10 columns</p>\n",
       "</div>"
      ],
      "text/plain": [
       "        athlete_id                   name   born_date        born_city  \\\n",
       "0                1  Jean-François Blanchy  1886-12-12         Bordeaux   \n",
       "1                2         Arnaud Boetsch  1969-04-01           Meulan   \n",
       "2                3           Jean Borotra  1898-08-13         Biarritz   \n",
       "3                4        Jacques Brugnon  1895-05-11      Paris VIIIe   \n",
       "4                5           Albert Canet  1878-04-17       Wandsworth   \n",
       "...            ...                    ...         ...              ...   \n",
       "145495      149222      Polina Luchnikova  2002-01-30            Serov   \n",
       "145496      149223    Valeriya Merkusheva  1999-09-20  Moskva (Moscow)   \n",
       "145497      149224        Yuliya Smirnova  1998-05-08           Kotlas   \n",
       "145498      149225         André Foussard  1899-05-19            Niort   \n",
       "145499      149814          Bill Phillips  1913-07-15     Dulwich Hill   \n",
       "\n",
       "                 born_region born_country        NOC  height_cm  weight_kg  \\\n",
       "0                    Gironde          FRA     France        NaN        NaN   \n",
       "1                   Yvelines          FRA     France      183.0       76.0   \n",
       "2       Pyrénées-Atlantiques          FRA     France      183.0       76.0   \n",
       "3                      Paris          FRA     France      168.0       64.0   \n",
       "4                    England          GBR     France        NaN        NaN   \n",
       "...                      ...          ...        ...        ...        ...   \n",
       "145495            Sverdlovsk          RUS        ROC      167.0       61.0   \n",
       "145496                Moskva          RUS        ROC      168.0       65.0   \n",
       "145497           Arkhangelsk          RUS        ROC      163.0       55.0   \n",
       "145498           Deux-Sèvres          FRA     France      166.0        NaN   \n",
       "145499       New South Wales          AUS  Australia        NaN        NaN   \n",
       "\n",
       "         died_date  \n",
       "0       1960-10-02  \n",
       "1              NaN  \n",
       "2       1994-07-17  \n",
       "3       1978-03-20  \n",
       "4       1930-07-25  \n",
       "...            ...  \n",
       "145495         NaN  \n",
       "145496         NaN  \n",
       "145497         NaN  \n",
       "145498  1986-03-18  \n",
       "145499  2003-10-20  \n",
       "\n",
       "[145500 rows x 10 columns]"
      ]
     },
     "execution_count": 6,
     "metadata": {},
     "output_type": "execute_result"
    }
   ],
   "source": [
    "df"
   ]
  },
  {
   "cell_type": "markdown",
   "id": "rmfLVwd70eT3",
   "metadata": {
    "id": "rmfLVwd70eT3"
   },
   "source": [
    "To see top 5 rows alone use `df.head()`. Likewise `df.tail` returns the bottom 5 rows."
   ]
  },
  {
   "cell_type": "code",
   "execution_count": 13,
   "id": "PiL6Z4mX0eT3",
   "metadata": {
    "id": "PiL6Z4mX0eT3",
    "outputId": "94bce000-605d-40f5-d5bd-6b3186feb25d"
   },
   "outputs": [
    {
     "data": {
      "text/html": [
       "<div>\n",
       "<style scoped>\n",
       "    .dataframe tbody tr th:only-of-type {\n",
       "        vertical-align: middle;\n",
       "    }\n",
       "\n",
       "    .dataframe tbody tr th {\n",
       "        vertical-align: top;\n",
       "    }\n",
       "\n",
       "    .dataframe thead th {\n",
       "        text-align: right;\n",
       "    }\n",
       "</style>\n",
       "<table border=\"1\" class=\"dataframe\">\n",
       "  <thead>\n",
       "    <tr style=\"text-align: right;\">\n",
       "      <th></th>\n",
       "      <th>athlete_id</th>\n",
       "      <th>name</th>\n",
       "      <th>born_date</th>\n",
       "      <th>born_city</th>\n",
       "      <th>born_region</th>\n",
       "      <th>born_country</th>\n",
       "      <th>NOC</th>\n",
       "      <th>height_cm</th>\n",
       "      <th>weight_kg</th>\n",
       "      <th>died_date</th>\n",
       "    </tr>\n",
       "  </thead>\n",
       "  <tbody>\n",
       "    <tr>\n",
       "      <th>0</th>\n",
       "      <td>1</td>\n",
       "      <td>Jean-François Blanchy</td>\n",
       "      <td>1886-12-12</td>\n",
       "      <td>Bordeaux</td>\n",
       "      <td>Gironde</td>\n",
       "      <td>FRA</td>\n",
       "      <td>France</td>\n",
       "      <td>NaN</td>\n",
       "      <td>NaN</td>\n",
       "      <td>1960-10-02</td>\n",
       "    </tr>\n",
       "    <tr>\n",
       "      <th>1</th>\n",
       "      <td>2</td>\n",
       "      <td>Arnaud Boetsch</td>\n",
       "      <td>1969-04-01</td>\n",
       "      <td>Meulan</td>\n",
       "      <td>Yvelines</td>\n",
       "      <td>FRA</td>\n",
       "      <td>France</td>\n",
       "      <td>183.0</td>\n",
       "      <td>76.0</td>\n",
       "      <td>NaN</td>\n",
       "    </tr>\n",
       "    <tr>\n",
       "      <th>2</th>\n",
       "      <td>3</td>\n",
       "      <td>Jean Borotra</td>\n",
       "      <td>1898-08-13</td>\n",
       "      <td>Biarritz</td>\n",
       "      <td>Pyrénées-Atlantiques</td>\n",
       "      <td>FRA</td>\n",
       "      <td>France</td>\n",
       "      <td>183.0</td>\n",
       "      <td>76.0</td>\n",
       "      <td>1994-07-17</td>\n",
       "    </tr>\n",
       "    <tr>\n",
       "      <th>3</th>\n",
       "      <td>4</td>\n",
       "      <td>Jacques Brugnon</td>\n",
       "      <td>1895-05-11</td>\n",
       "      <td>Paris VIIIe</td>\n",
       "      <td>Paris</td>\n",
       "      <td>FRA</td>\n",
       "      <td>France</td>\n",
       "      <td>168.0</td>\n",
       "      <td>64.0</td>\n",
       "      <td>1978-03-20</td>\n",
       "    </tr>\n",
       "    <tr>\n",
       "      <th>4</th>\n",
       "      <td>5</td>\n",
       "      <td>Albert Canet</td>\n",
       "      <td>1878-04-17</td>\n",
       "      <td>Wandsworth</td>\n",
       "      <td>England</td>\n",
       "      <td>GBR</td>\n",
       "      <td>France</td>\n",
       "      <td>NaN</td>\n",
       "      <td>NaN</td>\n",
       "      <td>1930-07-25</td>\n",
       "    </tr>\n",
       "  </tbody>\n",
       "</table>\n",
       "</div>"
      ],
      "text/plain": [
       "   athlete_id                   name   born_date    born_city  \\\n",
       "0           1  Jean-François Blanchy  1886-12-12     Bordeaux   \n",
       "1           2         Arnaud Boetsch  1969-04-01       Meulan   \n",
       "2           3           Jean Borotra  1898-08-13     Biarritz   \n",
       "3           4        Jacques Brugnon  1895-05-11  Paris VIIIe   \n",
       "4           5           Albert Canet  1878-04-17   Wandsworth   \n",
       "\n",
       "            born_region born_country     NOC  height_cm  weight_kg   died_date  \n",
       "0               Gironde          FRA  France        NaN        NaN  1960-10-02  \n",
       "1              Yvelines          FRA  France      183.0       76.0         NaN  \n",
       "2  Pyrénées-Atlantiques          FRA  France      183.0       76.0  1994-07-17  \n",
       "3                 Paris          FRA  France      168.0       64.0  1978-03-20  \n",
       "4               England          GBR  France        NaN        NaN  1930-07-25  "
      ]
     },
     "execution_count": 13,
     "metadata": {},
     "output_type": "execute_result"
    }
   ],
   "source": [
    "df.head()"
   ]
  },
  {
   "cell_type": "markdown",
   "id": "pOMNDfRn0eT3",
   "metadata": {
    "id": "pOMNDfRn0eT3"
   },
   "source": [
    "See bottom 5 rows"
   ]
  },
  {
   "cell_type": "code",
   "execution_count": 14,
   "id": "fCzYRaxG0eT4",
   "metadata": {
    "id": "fCzYRaxG0eT4",
    "outputId": "a883cf94-fb67-40f8-84cd-6348191ab60e"
   },
   "outputs": [
    {
     "data": {
      "text/html": [
       "<div>\n",
       "<style scoped>\n",
       "    .dataframe tbody tr th:only-of-type {\n",
       "        vertical-align: middle;\n",
       "    }\n",
       "\n",
       "    .dataframe tbody tr th {\n",
       "        vertical-align: top;\n",
       "    }\n",
       "\n",
       "    .dataframe thead th {\n",
       "        text-align: right;\n",
       "    }\n",
       "</style>\n",
       "<table border=\"1\" class=\"dataframe\">\n",
       "  <thead>\n",
       "    <tr style=\"text-align: right;\">\n",
       "      <th></th>\n",
       "      <th>athlete_id</th>\n",
       "      <th>name</th>\n",
       "      <th>born_date</th>\n",
       "      <th>born_city</th>\n",
       "      <th>born_region</th>\n",
       "      <th>born_country</th>\n",
       "      <th>NOC</th>\n",
       "      <th>height_cm</th>\n",
       "      <th>weight_kg</th>\n",
       "      <th>died_date</th>\n",
       "    </tr>\n",
       "  </thead>\n",
       "  <tbody>\n",
       "    <tr>\n",
       "      <th>145495</th>\n",
       "      <td>149222</td>\n",
       "      <td>Polina Luchnikova</td>\n",
       "      <td>2002-01-30</td>\n",
       "      <td>Serov</td>\n",
       "      <td>Sverdlovsk</td>\n",
       "      <td>RUS</td>\n",
       "      <td>ROC</td>\n",
       "      <td>167.0</td>\n",
       "      <td>61.0</td>\n",
       "      <td>NaN</td>\n",
       "    </tr>\n",
       "    <tr>\n",
       "      <th>145496</th>\n",
       "      <td>149223</td>\n",
       "      <td>Valeriya Merkusheva</td>\n",
       "      <td>1999-09-20</td>\n",
       "      <td>Moskva (Moscow)</td>\n",
       "      <td>Moskva</td>\n",
       "      <td>RUS</td>\n",
       "      <td>ROC</td>\n",
       "      <td>168.0</td>\n",
       "      <td>65.0</td>\n",
       "      <td>NaN</td>\n",
       "    </tr>\n",
       "    <tr>\n",
       "      <th>145497</th>\n",
       "      <td>149224</td>\n",
       "      <td>Yuliya Smirnova</td>\n",
       "      <td>1998-05-08</td>\n",
       "      <td>Kotlas</td>\n",
       "      <td>Arkhangelsk</td>\n",
       "      <td>RUS</td>\n",
       "      <td>ROC</td>\n",
       "      <td>163.0</td>\n",
       "      <td>55.0</td>\n",
       "      <td>NaN</td>\n",
       "    </tr>\n",
       "    <tr>\n",
       "      <th>145498</th>\n",
       "      <td>149225</td>\n",
       "      <td>André Foussard</td>\n",
       "      <td>1899-05-19</td>\n",
       "      <td>Niort</td>\n",
       "      <td>Deux-Sèvres</td>\n",
       "      <td>FRA</td>\n",
       "      <td>France</td>\n",
       "      <td>166.0</td>\n",
       "      <td>NaN</td>\n",
       "      <td>1986-03-18</td>\n",
       "    </tr>\n",
       "    <tr>\n",
       "      <th>145499</th>\n",
       "      <td>149814</td>\n",
       "      <td>Bill Phillips</td>\n",
       "      <td>1913-07-15</td>\n",
       "      <td>Dulwich Hill</td>\n",
       "      <td>New South Wales</td>\n",
       "      <td>AUS</td>\n",
       "      <td>Australia</td>\n",
       "      <td>NaN</td>\n",
       "      <td>NaN</td>\n",
       "      <td>2003-10-20</td>\n",
       "    </tr>\n",
       "  </tbody>\n",
       "</table>\n",
       "</div>"
      ],
      "text/plain": [
       "        athlete_id                 name   born_date        born_city  \\\n",
       "145495      149222    Polina Luchnikova  2002-01-30            Serov   \n",
       "145496      149223  Valeriya Merkusheva  1999-09-20  Moskva (Moscow)   \n",
       "145497      149224      Yuliya Smirnova  1998-05-08           Kotlas   \n",
       "145498      149225       André Foussard  1899-05-19            Niort   \n",
       "145499      149814        Bill Phillips  1913-07-15     Dulwich Hill   \n",
       "\n",
       "            born_region born_country        NOC  height_cm  weight_kg  \\\n",
       "145495       Sverdlovsk          RUS        ROC      167.0       61.0   \n",
       "145496           Moskva          RUS        ROC      168.0       65.0   \n",
       "145497      Arkhangelsk          RUS        ROC      163.0       55.0   \n",
       "145498      Deux-Sèvres          FRA     France      166.0        NaN   \n",
       "145499  New South Wales          AUS  Australia        NaN        NaN   \n",
       "\n",
       "         died_date  \n",
       "145495         NaN  \n",
       "145496         NaN  \n",
       "145497         NaN  \n",
       "145498  1986-03-18  \n",
       "145499  2003-10-20  "
      ]
     },
     "execution_count": 14,
     "metadata": {},
     "output_type": "execute_result"
    }
   ],
   "source": [
    "df.tail()"
   ]
  },
  {
   "cell_type": "markdown",
   "id": "bQvcEdXi0eT4",
   "metadata": {
    "id": "bQvcEdXi0eT4"
   },
   "source": [
    "Shape of the dataframe. For tabular data, it is number of rows and columns."
   ]
  },
  {
   "cell_type": "code",
   "execution_count": 15,
   "id": "l03Nngi00eT4",
   "metadata": {
    "id": "l03Nngi00eT4",
    "outputId": "2ddaee6a-89eb-4a2d-d651-04b3dd909798",
    "scrolled": true
   },
   "outputs": [
    {
     "data": {
      "text/plain": [
       "(145500, 10)"
      ]
     },
     "execution_count": 15,
     "metadata": {},
     "output_type": "execute_result"
    }
   ],
   "source": [
    "df.shape"
   ]
  },
  {
   "cell_type": "markdown",
   "id": "CmhjgcxI0eT4",
   "metadata": {
    "id": "CmhjgcxI0eT4"
   },
   "source": [
    "To get the underlying numpy array behind the dataframe, use the `.values` attribute."
   ]
  },
  {
   "cell_type": "code",
   "execution_count": 16,
   "id": "dYfnX9fS0eT5",
   "metadata": {
    "id": "dYfnX9fS0eT5",
    "outputId": "222e9309-7a6b-4dd3-84bc-f87ce9c039ab"
   },
   "outputs": [
    {
     "data": {
      "text/plain": [
       "array([[1, 'Jean-François Blanchy', '1886-12-12', ..., nan, nan,\n",
       "        '1960-10-02'],\n",
       "       [2, 'Arnaud Boetsch', '1969-04-01', ..., 183.0, 76.0, nan],\n",
       "       [3, 'Jean Borotra', '1898-08-13', ..., 183.0, 76.0, '1994-07-17'],\n",
       "       ...,\n",
       "       [149224, 'Yuliya Smirnova', '1998-05-08', ..., 163.0, 55.0, nan],\n",
       "       [149225, 'André Foussard', '1899-05-19', ..., 166.0, nan,\n",
       "        '1986-03-18'],\n",
       "       [149814, 'Bill Phillips', '1913-07-15', ..., nan, nan,\n",
       "        '2003-10-20']], dtype=object)"
      ]
     },
     "execution_count": 16,
     "metadata": {},
     "output_type": "execute_result"
    }
   ],
   "source": [
    "df.values"
   ]
  },
  {
   "cell_type": "markdown",
   "id": "NerNW9vG0eT5",
   "metadata": {
    "id": "NerNW9vG0eT5"
   },
   "source": [
    "You can import data from text files as well. But mention the separator correctly."
   ]
  },
  {
   "cell_type": "code",
   "execution_count": 21,
   "id": "wCng6_mB0eT5",
   "metadata": {
    "id": "wCng6_mB0eT5",
    "outputId": "aad2960b-ff69-4594-aa75-8490016f71c8"
   },
   "outputs": [
    {
     "data": {
      "text/html": [
       "<div>\n",
       "<style scoped>\n",
       "    .dataframe tbody tr th:only-of-type {\n",
       "        vertical-align: middle;\n",
       "    }\n",
       "\n",
       "    .dataframe tbody tr th {\n",
       "        vertical-align: top;\n",
       "    }\n",
       "\n",
       "    .dataframe thead th {\n",
       "        text-align: right;\n",
       "    }\n",
       "</style>\n",
       "<table border=\"1\" class=\"dataframe\">\n",
       "  <thead>\n",
       "    <tr style=\"text-align: right;\">\n",
       "      <th></th>\n",
       "      <th>I</th>\n",
       "      <th>New</th>\n",
       "      <th>You</th>\n",
       "      <th>We</th>\n",
       "      <th>King</th>\n",
       "    </tr>\n",
       "  </thead>\n",
       "  <tbody>\n",
       "  </tbody>\n",
       "</table>\n",
       "</div>"
      ],
      "text/plain": [
       "Empty DataFrame\n",
       "Columns: [I ,  New ,  You ,  We ,  King]\n",
       "Index: []"
      ]
     },
     "execution_count": 21,
     "metadata": {},
     "output_type": "execute_result"
    }
   ],
   "source": [
    "df = pd.read_table(r'C:\\Users\\yuvra\\OneDrive\\Desktop\\Hello.txt', sep=',')\n",
    "df.head()"
   ]
  },
  {
   "cell_type": "markdown",
   "id": "tDjx8o1c0eT7",
   "metadata": {
    "id": "tDjx8o1c0eT7"
   },
   "source": [
    "__You can directly read a file from the internet__"
   ]
  },
  {
   "cell_type": "code",
   "execution_count": 22,
   "id": "SWZs1uJL0eT7",
   "metadata": {
    "id": "SWZs1uJL0eT7",
    "outputId": "10cd0312-6002-4c25-d30c-222c1e66471b"
   },
   "outputs": [
    {
     "data": {
      "text/html": [
       "<div>\n",
       "<style scoped>\n",
       "    .dataframe tbody tr th:only-of-type {\n",
       "        vertical-align: middle;\n",
       "    }\n",
       "\n",
       "    .dataframe tbody tr th {\n",
       "        vertical-align: top;\n",
       "    }\n",
       "\n",
       "    .dataframe thead th {\n",
       "        text-align: right;\n",
       "    }\n",
       "</style>\n",
       "<table border=\"1\" class=\"dataframe\">\n",
       "  <thead>\n",
       "    <tr style=\"text-align: right;\">\n",
       "      <th></th>\n",
       "      <th>len</th>\n",
       "      <th>supp</th>\n",
       "      <th>dose</th>\n",
       "    </tr>\n",
       "  </thead>\n",
       "  <tbody>\n",
       "    <tr>\n",
       "      <th>0</th>\n",
       "      <td>4.2</td>\n",
       "      <td>VC</td>\n",
       "      <td>0.5</td>\n",
       "    </tr>\n",
       "    <tr>\n",
       "      <th>1</th>\n",
       "      <td>11.5</td>\n",
       "      <td>VC</td>\n",
       "      <td>0.5</td>\n",
       "    </tr>\n",
       "    <tr>\n",
       "      <th>2</th>\n",
       "      <td>7.3</td>\n",
       "      <td>VC</td>\n",
       "      <td>0.5</td>\n",
       "    </tr>\n",
       "    <tr>\n",
       "      <th>3</th>\n",
       "      <td>5.8</td>\n",
       "      <td>VC</td>\n",
       "      <td>0.5</td>\n",
       "    </tr>\n",
       "    <tr>\n",
       "      <th>4</th>\n",
       "      <td>6.4</td>\n",
       "      <td>VC</td>\n",
       "      <td>0.5</td>\n",
       "    </tr>\n",
       "  </tbody>\n",
       "</table>\n",
       "</div>"
      ],
      "text/plain": [
       "    len supp  dose\n",
       "0   4.2   VC   0.5\n",
       "1  11.5   VC   0.5\n",
       "2   7.3   VC   0.5\n",
       "3   5.8   VC   0.5\n",
       "4   6.4   VC   0.5"
      ]
     },
     "execution_count": 22,
     "metadata": {},
     "output_type": "execute_result"
    }
   ],
   "source": [
    "df = pd.read_csv(\"https://raw.githubusercontent.com/selva86/datasets/master/ToothGrowth.csv\")\n",
    "df.head()"
   ]
  },
  {
   "cell_type": "markdown",
   "id": "BoRuw-wD0eT7",
   "metadata": {
    "id": "BoRuw-wD0eT7"
   },
   "source": [
    "__From your clipboard as well__"
   ]
  },
  {
   "cell_type": "code",
   "execution_count": 23,
   "id": "4ag3MTsS0eT7",
   "metadata": {
    "id": "4ag3MTsS0eT7",
    "outputId": "46897ae5-c648-48fb-d17f-be3fe490b817",
    "scrolled": false
   },
   "outputs": [
    {
     "data": {
      "text/html": [
       "<div>\n",
       "<style scoped>\n",
       "    .dataframe tbody tr th:only-of-type {\n",
       "        vertical-align: middle;\n",
       "    }\n",
       "\n",
       "    .dataframe tbody tr th {\n",
       "        vertical-align: top;\n",
       "    }\n",
       "\n",
       "    .dataframe thead th {\n",
       "        text-align: right;\n",
       "    }\n",
       "</style>\n",
       "<table border=\"1\" class=\"dataframe\">\n",
       "  <thead>\n",
       "    <tr style=\"text-align: right;\">\n",
       "      <th></th>\n",
       "      <th>C:\\Users\\yuvra\\OneDrive\\Desktop\\Hello.txt</th>\n",
       "    </tr>\n",
       "  </thead>\n",
       "  <tbody>\n",
       "  </tbody>\n",
       "</table>\n",
       "</div>"
      ],
      "text/plain": [
       "Empty DataFrame\n",
       "Columns: [C:\\Users\\yuvra\\OneDrive\\Desktop\\Hello.txt]\n",
       "Index: []"
      ]
     },
     "execution_count": 23,
     "metadata": {},
     "output_type": "execute_result"
    }
   ],
   "source": [
    "df = pd.read_clipboard(sep=\"\\t\")\n",
    "df.head()"
   ]
  },
  {
   "cell_type": "code",
   "execution_count": 24,
   "id": "NDj2Kdlu0eT8",
   "metadata": {
    "id": "NDj2Kdlu0eT8",
    "outputId": "624a1326-1b05-46f6-a317-4f8dc63fd78f"
   },
   "outputs": [
    {
     "data": {
      "text/html": [
       "<div>\n",
       "<style scoped>\n",
       "    .dataframe tbody tr th:only-of-type {\n",
       "        vertical-align: middle;\n",
       "    }\n",
       "\n",
       "    .dataframe tbody tr th {\n",
       "        vertical-align: top;\n",
       "    }\n",
       "\n",
       "    .dataframe thead th {\n",
       "        text-align: right;\n",
       "    }\n",
       "</style>\n",
       "<table border=\"1\" class=\"dataframe\">\n",
       "  <thead>\n",
       "    <tr style=\"text-align: right;\">\n",
       "      <th></th>\n",
       "      <th>C:\\Users\\yuvra\\OneDrive\\Desktop\\Hello.txt</th>\n",
       "    </tr>\n",
       "  </thead>\n",
       "  <tbody>\n",
       "  </tbody>\n",
       "</table>\n",
       "</div>"
      ],
      "text/plain": [
       "Empty DataFrame\n",
       "Columns: [C:\\Users\\yuvra\\OneDrive\\Desktop\\Hello.txt]\n",
       "Index: []"
      ]
     },
     "execution_count": 24,
     "metadata": {},
     "output_type": "execute_result"
    }
   ],
   "source": [
    "df"
   ]
  },
  {
   "cell_type": "markdown",
   "id": "2-NCs79J0eT9",
   "metadata": {
    "id": "2-NCs79J0eT9"
   },
   "source": [
    "Besides this, pandas also support reading files in a variety of file formats such as __pickle__, __fwf__ (fixed width format), __Excel__, __JSON, HTML Tables, HDF Store, Feather, Parquet, ORC, SAS, SPSS, Stata, Sql Queries and Google Big Query__."
   ]
  },
  {
   "cell_type": "markdown",
   "id": "RqxE4e1o0eT9",
   "metadata": {
    "id": "RqxE4e1o0eT9",
    "solution": "shown",
    "solution_first": true
   },
   "source": [
    "### Mini Challenge\n",
    "\n",
    "Convert the following lists to a Pandas DataFrame with two columns and an index.\n",
    "\n",
    "1. \n",
    "```python\n",
    "index = [1,2,3,4,5]\n",
    "col1 = list('abcde')\n",
    "col2 = list('pqrst')\n",
    "```"
   ]
  },
  {
   "cell_type": "code",
   "execution_count": 29,
   "id": "_8u7oC9t0eT9",
   "metadata": {
    "id": "_8u7oC9t0eT9",
    "solution": "shown"
   },
   "outputs": [
    {
     "data": {
      "text/html": [
       "<div>\n",
       "<style scoped>\n",
       "    .dataframe tbody tr th:only-of-type {\n",
       "        vertical-align: middle;\n",
       "    }\n",
       "\n",
       "    .dataframe tbody tr th {\n",
       "        vertical-align: top;\n",
       "    }\n",
       "\n",
       "    .dataframe thead th {\n",
       "        text-align: right;\n",
       "    }\n",
       "</style>\n",
       "<table border=\"1\" class=\"dataframe\">\n",
       "  <thead>\n",
       "    <tr style=\"text-align: right;\">\n",
       "      <th></th>\n",
       "      <th>col1</th>\n",
       "      <th>col2</th>\n",
       "    </tr>\n",
       "  </thead>\n",
       "  <tbody>\n",
       "    <tr>\n",
       "      <th>1</th>\n",
       "      <td>a</td>\n",
       "      <td>p</td>\n",
       "    </tr>\n",
       "    <tr>\n",
       "      <th>2</th>\n",
       "      <td>b</td>\n",
       "      <td>q</td>\n",
       "    </tr>\n",
       "    <tr>\n",
       "      <th>3</th>\n",
       "      <td>c</td>\n",
       "      <td>r</td>\n",
       "    </tr>\n",
       "    <tr>\n",
       "      <th>4</th>\n",
       "      <td>d</td>\n",
       "      <td>s</td>\n",
       "    </tr>\n",
       "    <tr>\n",
       "      <th>5</th>\n",
       "      <td>e</td>\n",
       "      <td>t</td>\n",
       "    </tr>\n",
       "  </tbody>\n",
       "</table>\n",
       "</div>"
      ],
      "text/plain": [
       "  col1 col2\n",
       "1    a    p\n",
       "2    b    q\n",
       "3    c    r\n",
       "4    d    s\n",
       "5    e    t"
      ]
     },
     "execution_count": 29,
     "metadata": {},
     "output_type": "execute_result"
    }
   ],
   "source": [
    "# Solution 1\n",
    "import pandas as pd\n",
    "index = [1,2,3,4,5]\n",
    "col1 = list('abcde')\n",
    "col2 = list('pqrst')\n",
    "\n",
    "pd.DataFrame({'col1':col1, 'col2':col2}, index=index)"
   ]
  },
  {
   "cell_type": "markdown",
   "id": "BfuGzhlF0eT-",
   "metadata": {
    "id": "BfuGzhlF0eT-",
    "solution": "shown",
    "solution_first": true
   },
   "source": [
    "2.\n",
    "```python\n",
    "# column names: 'name' and 'age'\n",
    "lst = [['Bunny', 25], ['Sunny', 30], \n",
    "       ['Funny', 26], ['Hunny', 22]] \n",
    "```"
   ]
  },
  {
   "cell_type": "code",
   "execution_count": 30,
   "id": "xd6sbAtK0eT-",
   "metadata": {
    "id": "xd6sbAtK0eT-",
    "solution": "shown"
   },
   "outputs": [
    {
     "name": "stdout",
     "output_type": "stream",
     "text": [
      "    name  age\n",
      "0  Bunny   25\n",
      "1  Sunny   30\n",
      "2  Funny   26\n",
      "3  Hunny   22\n"
     ]
    }
   ],
   "source": [
    "# Solution 2\n",
    "lst = [['Bunny', 25], \n",
    "       ['Sunny', 30], \n",
    "       ['Funny', 26], \n",
    "       ['Hunny', 22]] \n",
    "\n",
    "df = pd.DataFrame(lst, columns =['name', 'age']) \n",
    "print(df )"
   ]
  },
  {
   "cell_type": "markdown",
   "id": "tQgJxvkL0eUA",
   "metadata": {
    "id": "tQgJxvkL0eUA"
   },
   "source": [
    " <div class=\"alert alert-info\" style=\"background-color:#006666; color:white; padding:0px 10px; border-radius:5px;\"><h2 style='margin:10px 5px'>3. Series and its relation with Dataframe</h2>\n",
    "</div>"
   ]
  },
  {
   "cell_type": "markdown",
   "id": "_icHR1-G0eUB",
   "metadata": {
    "id": "_icHR1-G0eUB"
   },
   "source": [
    "A `Series` is a type that is used to store one column only. You can think of a Series as one column of a `DataFrame` extracted.\n",
    "\n",
    "Series is very similar to a NumPy array, with a main difference that it has an index label for each observation. "
   ]
  },
  {
   "cell_type": "code",
   "execution_count": 31,
   "id": "vPA-ktal0eUB",
   "metadata": {
    "id": "vPA-ktal0eUB"
   },
   "outputs": [],
   "source": [
    "import numpy as np\n",
    "import pandas as pd"
   ]
  },
  {
   "cell_type": "markdown",
   "id": "sYNWGlPo0eUB",
   "metadata": {
    "id": "sYNWGlPo0eUB"
   },
   "source": [
    "__Relationship between a Series and a DataFrame__\n",
    "\n",
    "If you extract any given column from a DataFrame, the resulting object is a Series. "
   ]
  },
  {
   "cell_type": "code",
   "execution_count": 35,
   "id": "Y1Z40igK0eUB",
   "metadata": {
    "id": "Y1Z40igK0eUB",
    "outputId": "6d018ae2-85e8-4502-a5b5-b35faeffd34a"
   },
   "outputs": [
    {
     "data": {
      "text/html": [
       "<div>\n",
       "<style scoped>\n",
       "    .dataframe tbody tr th:only-of-type {\n",
       "        vertical-align: middle;\n",
       "    }\n",
       "\n",
       "    .dataframe tbody tr th {\n",
       "        vertical-align: top;\n",
       "    }\n",
       "\n",
       "    .dataframe thead th {\n",
       "        text-align: right;\n",
       "    }\n",
       "</style>\n",
       "<table border=\"1\" class=\"dataframe\">\n",
       "  <thead>\n",
       "    <tr style=\"text-align: right;\">\n",
       "      <th></th>\n",
       "      <th>a</th>\n",
       "      <th>b</th>\n",
       "      <th>c</th>\n",
       "      <th>d</th>\n",
       "    </tr>\n",
       "  </thead>\n",
       "  <tbody>\n",
       "    <tr>\n",
       "      <th>0</th>\n",
       "      <td>48</td>\n",
       "      <td>10</td>\n",
       "      <td>77</td>\n",
       "      <td>44</td>\n",
       "    </tr>\n",
       "    <tr>\n",
       "      <th>1</th>\n",
       "      <td>41</td>\n",
       "      <td>73</td>\n",
       "      <td>32</td>\n",
       "      <td>25</td>\n",
       "    </tr>\n",
       "    <tr>\n",
       "      <th>2</th>\n",
       "      <td>28</td>\n",
       "      <td>59</td>\n",
       "      <td>7</td>\n",
       "      <td>36</td>\n",
       "    </tr>\n",
       "    <tr>\n",
       "      <th>3</th>\n",
       "      <td>77</td>\n",
       "      <td>76</td>\n",
       "      <td>63</td>\n",
       "      <td>99</td>\n",
       "    </tr>\n",
       "    <tr>\n",
       "      <th>4</th>\n",
       "      <td>86</td>\n",
       "      <td>17</td>\n",
       "      <td>44</td>\n",
       "      <td>72</td>\n",
       "    </tr>\n",
       "  </tbody>\n",
       "</table>\n",
       "</div>"
      ],
      "text/plain": [
       "    a   b   c   d\n",
       "0  48  10  77  44\n",
       "1  41  73  32  25\n",
       "2  28  59   7  36\n",
       "3  77  76  63  99\n",
       "4  86  17  44  72"
      ]
     },
     "execution_count": 35,
     "metadata": {},
     "output_type": "execute_result"
    }
   ],
   "source": [
    "df = pd.DataFrame(np.random.randint(1,100, (5,4)), columns=list('abcd'))\n",
    "df"
   ]
  },
  {
   "cell_type": "code",
   "execution_count": 36,
   "id": "aLOaW4FA0eUC",
   "metadata": {
    "id": "aLOaW4FA0eUC",
    "outputId": "50986b43-8e41-4252-8a2d-789b3a936928"
   },
   "outputs": [
    {
     "data": {
      "text/plain": [
       "0    48\n",
       "1    41\n",
       "2    28\n",
       "3    77\n",
       "4    86\n",
       "Name: a, dtype: int32"
      ]
     },
     "execution_count": 36,
     "metadata": {},
     "output_type": "execute_result"
    }
   ],
   "source": [
    "df['a']"
   ]
  },
  {
   "cell_type": "code",
   "execution_count": null,
   "id": "Ove61zZb0eUC",
   "metadata": {
    "id": "Ove61zZb0eUC",
    "outputId": "4d603e35-e39b-490b-ffc2-54dc49134f8e"
   },
   "outputs": [
    {
     "data": {
      "text/plain": [
       "pandas.core.series.Series"
      ]
     },
     "execution_count": 24,
     "metadata": {},
     "output_type": "execute_result"
    }
   ],
   "source": [
    "type(df['a'])"
   ]
  },
  {
   "cell_type": "markdown",
   "id": "gqyu7YR30eUD",
   "metadata": {
    "id": "gqyu7YR30eUD"
   },
   "source": [
    "From this you can use indexing to get specific elements."
   ]
  },
  {
   "cell_type": "code",
   "execution_count": 37,
   "id": "_CP2fTvj0eUD",
   "metadata": {
    "id": "_CP2fTvj0eUD",
    "outputId": "78ed1c26-9ea6-4593-a507-62bf7e8fe429",
    "scrolled": true
   },
   "outputs": [
    {
     "data": {
      "text/plain": [
       "0    48\n",
       "1    41\n",
       "2    28\n",
       "Name: a, dtype: int32"
      ]
     },
     "execution_count": 37,
     "metadata": {},
     "output_type": "execute_result"
    }
   ],
   "source": [
    "df['a'][0:3]"
   ]
  },
  {
   "cell_type": "markdown",
   "id": "MMEw4ECM0eUD",
   "metadata": {
    "id": "MMEw4ECM0eUD"
   },
   "source": [
    "To get the numpy array, use `.values`."
   ]
  },
  {
   "cell_type": "code",
   "execution_count": null,
   "id": "aVSgNjks0eUD",
   "metadata": {
    "id": "aVSgNjks0eUD",
    "outputId": "d7406230-b758-43f6-a41a-4abdbcfd857f"
   },
   "outputs": [
    {
     "data": {
      "text/plain": [
       "array([25, 17,  3])"
      ]
     },
     "execution_count": 26,
     "metadata": {},
     "output_type": "execute_result"
    }
   ],
   "source": [
    "df['a'][0:3].values"
   ]
  },
  {
   "cell_type": "markdown",
   "id": "RcjC7Zpm0eUE",
   "metadata": {
    "id": "RcjC7Zpm0eUE"
   },
   "source": [
    "You can further convert it to a list."
   ]
  },
  {
   "cell_type": "code",
   "execution_count": null,
   "id": "CVNCGbaC0eUE",
   "metadata": {
    "id": "CVNCGbaC0eUE",
    "outputId": "837525cd-189a-4f1e-9eea-39cddbe18b7b"
   },
   "outputs": [
    {
     "data": {
      "text/plain": [
       "[25, 17, 3]"
      ]
     },
     "execution_count": 27,
     "metadata": {},
     "output_type": "execute_result"
    }
   ],
   "source": [
    "df['a'][0:3].values.tolist()"
   ]
  },
  {
   "cell_type": "markdown",
   "id": "FNMm3Jov0eUF",
   "metadata": {
    "id": "FNMm3Jov0eUF"
   },
   "source": [
    "__Create a standalone Series object__"
   ]
  },
  {
   "cell_type": "code",
   "execution_count": null,
   "id": "9aOjI-NG0eUF",
   "metadata": {
    "id": "9aOjI-NG0eUF",
    "outputId": "e7ec0956-d050-417e-ca71-28713c16d0cc"
   },
   "outputs": [
    {
     "data": {
      "text/plain": [
       "0    0\n",
       "1    1\n",
       "2    2\n",
       "3    3\n",
       "4    4\n",
       "5    5\n",
       "6    6\n",
       "7    7\n",
       "8    8\n",
       "9    9\n",
       "Name: numbers, dtype: int32"
      ]
     },
     "execution_count": 28,
     "metadata": {},
     "output_type": "execute_result"
    }
   ],
   "source": [
    "data = np.arange(10)\n",
    "index = ['a', 'b', 'c', 'd', 'e', 'f', 'g', 'h', 'i', 'j']\n",
    "\n",
    "ser = pd.Series(data=data, name='numbers')  # name is optional. \n",
    "ser\n",
    "\n",
    "# IF you don't provide index, pandas will create a default starting with 0 "
   ]
  },
  {
   "cell_type": "code",
   "execution_count": null,
   "id": "Ub_wIRIu0eUG",
   "metadata": {
    "id": "Ub_wIRIu0eUG",
    "outputId": "a8cd8f7a-607e-4b71-cce6-4b2b7a40e426"
   },
   "outputs": [
    {
     "data": {
      "text/plain": [
       "a    0\n",
       "b    1\n",
       "c    2\n",
       "d    3\n",
       "e    4\n",
       "f    5\n",
       "g    6\n",
       "h    7\n",
       "i    8\n",
       "j    9\n",
       "Name: numbers, dtype: int32"
      ]
     },
     "execution_count": 29,
     "metadata": {},
     "output_type": "execute_result"
    }
   ],
   "source": [
    "ser = pd.Series(data=data, index=index, name='numbers')  # name is optional. \n",
    "ser"
   ]
  },
  {
   "cell_type": "code",
   "execution_count": null,
   "id": "5fiErHph0eUG",
   "metadata": {
    "id": "5fiErHph0eUG",
    "outputId": "d23bc7da-18ad-41e9-ad08-fa546dd09dcd"
   },
   "outputs": [
    {
     "data": {
      "text/plain": [
       "pandas.core.series.Series"
      ]
     },
     "execution_count": 30,
     "metadata": {},
     "output_type": "execute_result"
    }
   ],
   "source": [
    "type(ser)"
   ]
  },
  {
   "cell_type": "markdown",
   "id": "ll3CnNox0eUH",
   "metadata": {
    "id": "ll3CnNox0eUH"
   },
   "source": [
    "Series are vectorized objects by default. Ex: To multiply every item by 2, you don't have to write a for-loop. Just multiply the series by 2"
   ]
  },
  {
   "cell_type": "code",
   "execution_count": null,
   "id": "Pd3lD1L-0eUH",
   "metadata": {
    "id": "Pd3lD1L-0eUH",
    "outputId": "8e1b0f25-2689-4f76-ce4f-2391d9f2eb60"
   },
   "outputs": [
    {
     "data": {
      "text/plain": [
       "a     0\n",
       "b     2\n",
       "c     4\n",
       "d     6\n",
       "e     8\n",
       "f    10\n",
       "g    12\n",
       "h    14\n",
       "i    16\n",
       "j    18\n",
       "Name: numbers, dtype: int32"
      ]
     },
     "execution_count": 31,
     "metadata": {},
     "output_type": "execute_result"
    }
   ],
   "source": [
    "ser * 2"
   ]
  },
  {
   "cell_type": "markdown",
   "id": "3n6zfUlD0eUI",
   "metadata": {
    "id": "3n6zfUlD0eUI"
   },
   "source": [
    "__Extract an item__"
   ]
  },
  {
   "cell_type": "code",
   "execution_count": null,
   "id": "aPOA0vzh0eUI",
   "metadata": {
    "id": "aPOA0vzh0eUI",
    "outputId": "c930a442-ca86-4df9-81e2-a6748b5b679d",
    "scrolled": true
   },
   "outputs": [
    {
     "data": {
      "text/plain": [
       "1"
      ]
     },
     "execution_count": 32,
     "metadata": {},
     "output_type": "execute_result"
    }
   ],
   "source": [
    "ser['b']"
   ]
  },
  {
   "cell_type": "markdown",
   "id": "vNlqJkZW0eUI",
   "metadata": {
    "id": "vNlqJkZW0eUI"
   },
   "source": [
    "To extract more than one item, put all the item labels in a list and pass that list as argument."
   ]
  },
  {
   "cell_type": "markdown",
   "id": "ROG2ndBO0eUJ",
   "metadata": {
    "id": "ROG2ndBO0eUJ"
   },
   "source": [
    "This won't work. Because, Series is one dimensional object and therefore will accept only one argument."
   ]
  },
  {
   "cell_type": "code",
   "execution_count": null,
   "id": "vGcCnvKw0eUJ",
   "metadata": {
    "id": "vGcCnvKw0eUJ"
   },
   "outputs": [],
   "source": [
    "# This wont work\n",
    "# ser['a', 'b']"
   ]
  },
  {
   "cell_type": "markdown",
   "id": "X8NQHWm70eUJ",
   "metadata": {
    "id": "X8NQHWm70eUJ"
   },
   "source": [
    "So, pass all arguments in a square bracket."
   ]
  },
  {
   "cell_type": "code",
   "execution_count": null,
   "id": "8jUvtpbC0eUJ",
   "metadata": {
    "id": "8jUvtpbC0eUJ",
    "outputId": "064e7878-4634-4736-ecd3-15810336b334"
   },
   "outputs": [
    {
     "data": {
      "text/plain": [
       "a    0\n",
       "b    1\n",
       "Name: numbers, dtype: int32"
      ]
     },
     "execution_count": 33,
     "metadata": {},
     "output_type": "execute_result"
    }
   ],
   "source": [
    "ser[['a', 'b']]"
   ]
  },
  {
   "cell_type": "markdown",
   "id": "mFWAn75O0eUK",
   "metadata": {
    "id": "mFWAn75O0eUK"
   },
   "source": [
    "You can extract the index as well."
   ]
  },
  {
   "cell_type": "code",
   "execution_count": null,
   "id": "C8kIFlgP0eUL",
   "metadata": {
    "id": "C8kIFlgP0eUL",
    "outputId": "fceecbd0-6fb3-4eea-b164-86f66eb1b200"
   },
   "outputs": [
    {
     "data": {
      "text/plain": [
       "Index(['a', 'b', 'c', 'd', 'e', 'f', 'g', 'h', 'i', 'j'], dtype='object')"
      ]
     },
     "execution_count": 34,
     "metadata": {},
     "output_type": "execute_result"
    }
   ],
   "source": [
    "# method 1\n",
    "ser.index"
   ]
  },
  {
   "cell_type": "code",
   "execution_count": null,
   "id": "UMbaqAr60eUL",
   "metadata": {
    "id": "UMbaqAr60eUL",
    "outputId": "7f74d3db-166d-4f5b-cf60-ef558651498e"
   },
   "outputs": [
    {
     "data": {
      "text/plain": [
       "Index(['a', 'b', 'c', 'd', 'e', 'f', 'g', 'h', 'i', 'j'], dtype='object')"
      ]
     },
     "execution_count": 35,
     "metadata": {},
     "output_type": "execute_result"
    }
   ],
   "source": [
    "# method 2\n",
    "ser.keys()"
   ]
  },
  {
   "cell_type": "markdown",
   "id": "DzR-_W_p0eUL",
   "metadata": {
    "id": "DzR-_W_p0eUL"
   },
   "source": [
    "Also if you simply extract one column from a DataFrame, it becomes a Series. So, you can think of a DataFrame as a 'column-wise arrangement of Series'."
   ]
  },
  {
   "cell_type": "markdown",
   "id": "9kl3G7pE0eUM",
   "metadata": {
    "id": "9kl3G7pE0eUM"
   },
   "source": [
    "You can __create a `series` from a `dict` as well__"
   ]
  },
  {
   "cell_type": "code",
   "execution_count": null,
   "id": "aCRf24lD0eUP",
   "metadata": {
    "id": "aCRf24lD0eUP"
   },
   "outputs": [],
   "source": [
    "d1 = {'a': 0, 'b':1, 'c':3}\n",
    "d2 = {'b': 0, 'c':1, 'd':3}"
   ]
  },
  {
   "cell_type": "code",
   "execution_count": null,
   "id": "Irph-pmb0eUP",
   "metadata": {
    "id": "Irph-pmb0eUP",
    "outputId": "28a6b300-f637-43e6-d0cd-8efdef9b684c"
   },
   "outputs": [
    {
     "data": {
      "text/plain": [
       "a    0\n",
       "b    1\n",
       "c    3\n",
       "dtype: int64"
      ]
     },
     "execution_count": 38,
     "metadata": {},
     "output_type": "execute_result"
    }
   ],
   "source": [
    "ser1 = pd.Series(d1)\n",
    "ser2 = pd.Series(d2)\n",
    "ser1"
   ]
  },
  {
   "cell_type": "code",
   "execution_count": null,
   "id": "xSXuw-Fl0eUQ",
   "metadata": {
    "id": "xSXuw-Fl0eUQ",
    "outputId": "fd1f8c64-d649-40b3-93e9-af6b9feaf77b"
   },
   "outputs": [
    {
     "data": {
      "text/plain": [
       "b    0\n",
       "c    1\n",
       "d    3\n",
       "dtype: int64"
      ]
     },
     "execution_count": 39,
     "metadata": {},
     "output_type": "execute_result"
    }
   ],
   "source": [
    "ser2"
   ]
  },
  {
   "cell_type": "markdown",
   "id": "r7IZWZz80eUQ",
   "metadata": {
    "id": "r7IZWZz80eUQ"
   },
   "source": [
    "__Addition__"
   ]
  },
  {
   "cell_type": "code",
   "execution_count": null,
   "id": "qgoVuJFM0eUQ",
   "metadata": {
    "id": "qgoVuJFM0eUQ",
    "outputId": "5d5cafca-fc3f-44e0-da61-60f63d26993d"
   },
   "outputs": [
    {
     "data": {
      "text/plain": [
       "a    NaN\n",
       "b    1.0\n",
       "c    4.0\n",
       "d    NaN\n",
       "dtype: float64"
      ]
     },
     "execution_count": 40,
     "metadata": {},
     "output_type": "execute_result"
    }
   ],
   "source": [
    "ser1 + ser2"
   ]
  },
  {
   "cell_type": "markdown",
   "id": "fqhhx2Nq0eUR",
   "metadata": {
    "id": "fqhhx2Nq0eUR"
   },
   "source": [
    "In place of missing value, use zero for computation."
   ]
  },
  {
   "cell_type": "code",
   "execution_count": null,
   "id": "QGYPuI0h0eUR",
   "metadata": {
    "id": "QGYPuI0h0eUR",
    "outputId": "f27754a1-b952-4933-b1d7-b8bf920e9a51"
   },
   "outputs": [
    {
     "data": {
      "text/plain": [
       "a    0.0\n",
       "b    1.0\n",
       "c    4.0\n",
       "d    3.0\n",
       "dtype: float64"
      ]
     },
     "execution_count": 41,
     "metadata": {},
     "output_type": "execute_result"
    }
   ],
   "source": [
    "ser1.add(ser2, fill_value=0)"
   ]
  },
  {
   "cell_type": "markdown",
   "id": "fHDHj8fp0eUR",
   "metadata": {
    "id": "fHDHj8fp0eUR"
   },
   "source": [
    "### Mini Challenge"
   ]
  },
  {
   "cell_type": "markdown",
   "id": "uNxylJLR0eUR",
   "metadata": {
    "id": "uNxylJLR0eUR"
   },
   "source": [
    "For the given series, compute the differences between successive elements.\n",
    "\n",
    "__Input__\n",
    "```python\n",
    "np.random.seed(101)\n",
    "ser = pd.Series(np.random.randint(1,100, 10))\n",
    "ser\n",
    "#> 0    96\n",
    "#> 1    12\n",
    "#> 2    82\n",
    "#> 3    71\n",
    "#> 4    64\n",
    "#> 5    88\n",
    "#> 6    76\n",
    "#> 7    10\n",
    "#> 8    78\n",
    "#> 9    41\n",
    "#> dtype: int32\n",
    "```\n",
    "\n",
    "__Desired Output__\n",
    "\n",
    "```\n",
    "#> [-84,  70, -11,  -7,  24, -12, -66,  68, -37]\n",
    "```"
   ]
  },
  {
   "cell_type": "code",
   "execution_count": null,
   "id": "87lXuqjn0eUS",
   "metadata": {
    "id": "87lXuqjn0eUS",
    "outputId": "d666763f-45b9-4f5c-ca3f-1c5db7c32afe"
   },
   "outputs": [
    {
     "data": {
      "text/plain": [
       "0    96\n",
       "1    12\n",
       "2    82\n",
       "3    71\n",
       "4    64\n",
       "5    88\n",
       "6    76\n",
       "7    10\n",
       "8    78\n",
       "9    41\n",
       "dtype: int32"
      ]
     },
     "execution_count": 42,
     "metadata": {},
     "output_type": "execute_result"
    }
   ],
   "source": [
    "np.random.seed(101)\n",
    "ser = pd.Series(np.random.randint(1,100, 10))\n",
    "ser"
   ]
  },
  {
   "cell_type": "markdown",
   "id": "jBVLnz2C0eUS",
   "metadata": {
    "id": "jBVLnz2C0eUS"
   },
   "source": [
    "If you just subtract the series the result will not be as intended, because the subtraction happens after aligning the indexes."
   ]
  },
  {
   "cell_type": "code",
   "execution_count": null,
   "id": "GyM_7YK30eUS",
   "metadata": {
    "id": "GyM_7YK30eUS",
    "outputId": "f96bfabb-7ac3-4b54-d22c-08de61a6918a"
   },
   "outputs": [
    {
     "data": {
      "text/plain": [
       "0    NaN\n",
       "1    0.0\n",
       "2    0.0\n",
       "3    0.0\n",
       "4    0.0\n",
       "5    0.0\n",
       "6    0.0\n",
       "7    0.0\n",
       "8    0.0\n",
       "9    NaN\n",
       "dtype: float64"
      ]
     },
     "execution_count": 43,
     "metadata": {},
     "output_type": "execute_result"
    }
   ],
   "source": [
    "ser[1:] - ser[:-1]"
   ]
  },
  {
   "cell_type": "markdown",
   "id": "cCf0LTZZ0eUS",
   "metadata": {
    "id": "cCf0LTZZ0eUS"
   },
   "source": [
    "So convert to a numpy array and then do subtraction."
   ]
  },
  {
   "cell_type": "code",
   "execution_count": null,
   "id": "G6s_nzrS0eUT",
   "metadata": {
    "id": "G6s_nzrS0eUT",
    "outputId": "8028b7c2-208c-40e5-c8d9-ca1d86fa401b"
   },
   "outputs": [
    {
     "data": {
      "text/plain": [
       "array([-84,  70, -11,  -7,  24, -12, -66,  68, -37])"
      ]
     },
     "execution_count": 44,
     "metadata": {},
     "output_type": "execute_result"
    }
   ],
   "source": [
    "ser.values[1:] - ser.values[:-1]"
   ]
  },
  {
   "cell_type": "code",
   "execution_count": null,
   "id": "2HP8PBRj0eUT",
   "metadata": {
    "id": "2HP8PBRj0eUT",
    "outputId": "0cb38cdb-5c9a-4dff-d14b-33ae313b979c"
   },
   "outputs": [
    {
     "data": {
      "text/plain": [
       "[-84, 70, -11, -7, 24, -12, -66, 68, -37]"
      ]
     },
     "execution_count": 45,
     "metadata": {},
     "output_type": "execute_result"
    }
   ],
   "source": [
    "out = ser.values[1:] - ser.values[:-1]\n",
    "out.tolist()"
   ]
  },
  {
   "cell_type": "markdown",
   "id": "T4S6flOz0eUT",
   "metadata": {
    "id": "T4S6flOz0eUT"
   },
   "source": [
    "Or simply use the in-built `diff()` method. \n",
    "\n",
    "Don't bother about this new method at the moment, we will be covering all functions you need to know as we go through the course."
   ]
  },
  {
   "cell_type": "code",
   "execution_count": null,
   "id": "8ZCIYphy0eUT",
   "metadata": {
    "id": "8ZCIYphy0eUT",
    "outputId": "3a7d1feb-edb4-42ce-da6c-8f2ffad708f0"
   },
   "outputs": [
    {
     "data": {
      "text/plain": [
       "0     NaN\n",
       "1   -84.0\n",
       "2    70.0\n",
       "3   -11.0\n",
       "4    -7.0\n",
       "5    24.0\n",
       "6   -12.0\n",
       "7   -66.0\n",
       "8    68.0\n",
       "9   -37.0\n",
       "dtype: float64"
      ]
     },
     "execution_count": 46,
     "metadata": {},
     "output_type": "execute_result"
    }
   ],
   "source": [
    "ser.diff()"
   ]
  }
 ],
 "metadata": {
  "colab": {
   "collapsed_sections": [
    "RqxE4e1o0eT9",
    "fHDHj8fp0eUR"
   ],
   "name": "01_Introduction_to_Pandas.ipynb",
   "provenance": []
  },
  "hide_input": false,
  "kernelspec": {
   "display_name": "base",
   "language": "python",
   "name": "python3"
  },
  "language_info": {
   "codemirror_mode": {
    "name": "ipython",
    "version": 3
   },
   "file_extension": ".py",
   "mimetype": "text/x-python",
   "name": "python",
   "nbconvert_exporter": "python",
   "pygments_lexer": "ipython3",
   "version": "3.12.7"
  },
  "toc": {
   "base_numbering": 1,
   "nav_menu": {},
   "number_sections": false,
   "sideBar": true,
   "skip_h1_title": false,
   "title_cell": "Table of Contents",
   "title_sidebar": "Contents",
   "toc_cell": false,
   "toc_position": {
    "height": "calc(100% - 180px)",
    "left": "10px",
    "top": "150px",
    "width": "387.2px"
   },
   "toc_section_display": true,
   "toc_window_display": false
  }
 },
 "nbformat": 4,
 "nbformat_minor": 5
}
