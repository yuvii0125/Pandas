{
 "cells": [
  {
   "cell_type": "markdown",
   "id": "AYp1rFmK0eTr",
   "metadata": {
    "id": "AYp1rFmK0eTr"
   },
   "source": [
    "<div style=\"color:#006666; padding:0px 10px; border-radius:5px; font-size:18px;\"><h1 style='margin:10px 5px'>Introduction to Pandas</h1>\n",
    "</div>\n",
    "\n",
    "© Copyright Machine Learning Plus"
   ]
  },
  {
   "cell_type": "markdown",
   "id": "sizrj-ak0eTt",
   "metadata": {
    "id": "sizrj-ak0eTt"
   },
   "source": [
    " <div class=\"alert alert-info\" style=\"background-color:#006666; color:white; padding:0px 10px; border-radius:5px;\"><h2 style='margin:10px 5px'>1. What is pandas?</h2>\n",
    "</div>"
   ]
  },
  {
   "cell_type": "markdown",
   "id": "Hemccw9f0eTu",
   "metadata": {
    "id": "Hemccw9f0eTu"
   },
   "source": [
    "Pandas is Python's most popular and widely used library for Data Manipulation and Analysis. Data analysts and Scientists often work with data coming in various formats such as .csv, .xlsx files and such. Pandas makes it easy to import, process and analyse the data.\n",
    "\n",
    "The __DataFrame__ is a popular data structure modeled after the dataframe object from R programming language. It is further enhanced to Python's object oriented capabilities. \n",
    "\n",
    "It is built on top of NumPy, which is famous for the arrays."
   ]
  },
  {
   "cell_type": "markdown",
   "id": "jZEP0le90eTv",
   "metadata": {
    "id": "jZEP0le90eTv"
   },
   "source": [
    "__Built By:__\n",
    "\n",
    "_Wes McKinney_ and Team.\n",
    "\n",
    "Originally started in the year 2008 at AQR Capital Management. \n",
    "2009 -> Open Source.\n",
    "\n",
    "Today actively developed and maintained by contributors throughout the world. \n",
    "\n",
    "All of this is done via two primary data structures: \n",
    "1. Series\n",
    "2. DataFrame\n",
    "\n",
    "\n",
    "One column of a __DataFrame__ when extracted becomes a __Series__.\n",
    "\n",
    "__Why Pandas?__\n",
    "\n",
    "1. Do all sort of Data Manipulation\n",
    "2. Default library used for handling tabular data.\n",
    "3. Compatible with ML libraries like scikit-learn.\n",
    "4. Excellent documentation\n",
    "5. Wide adoption => Easy to find a solution for anything\n",
    "6. Plotting for Data Analysis\n",
    "7. Ability to handle multiple datatypes in same dataframe.\n",
    "\n",
    "More here: https://pandas.pydata.org/about/"
   ]
  },
  {
   "cell_type": "markdown",
   "id": "05Oz2jvi0eTv",
   "metadata": {
    "id": "05Oz2jvi0eTv"
   },
   "source": [
    " <div class=\"alert alert-info\" style=\"background-color:#006666; color:white; padding:0px 10px; border-radius:5px;\"><h2 style='margin:10px 5px'>2. DataFrame</h2>\n",
    "</div>\n"
   ]
  },
  {
   "cell_type": "markdown",
   "id": "aYBySk350eTw",
   "metadata": {
    "id": "aYBySk350eTw"
   },
   "source": [
    "It is customary to import `numpy` as `np` and `pandas` as `pd`. Everyone does it this way."
   ]
  },
  {
   "cell_type": "code",
   "execution_count": 1,
   "id": "NY7IEdj50eTw",
   "metadata": {
    "id": "NY7IEdj50eTw"
   },
   "outputs": [],
   "source": [
    "# Import convention\n",
    "import numpy as np\n",
    "import pandas as pd"
   ]
  },
  {
   "cell_type": "code",
   "execution_count": 2,
   "id": "yGdlKWiO0eTx",
   "metadata": {
    "id": "yGdlKWiO0eTx",
    "outputId": "eedba8dc-88c3-4a13-dfc3-047a3b8bc421"
   },
   "outputs": [
    {
     "data": {
      "text/plain": [
       "array([[ 8, 24, 67],\n",
       "       [87, 79, 48],\n",
       "       [10, 94, 52],\n",
       "       [98, 53, 66],\n",
       "       [98, 14, 34]], dtype=int32)"
      ]
     },
     "execution_count": 2,
     "metadata": {},
     "output_type": "execute_result"
    }
   ],
   "source": [
    "# Create Numpy Array or List\n",
    "np.random.seed(100)\n",
    "arr = np.random.randint(0,100,(5,3))\n",
    "arr"
   ]
  },
  {
   "cell_type": "markdown",
   "id": "S1xlt3c_0eTz",
   "metadata": {
    "id": "S1xlt3c_0eTz"
   },
   "source": [
    "Create DataFrame from the Array. Default Column names and Row indexs starting from 0, 1, .. is generated."
   ]
  },
  {
   "cell_type": "code",
   "execution_count": 3,
   "id": "C89q86TR0eTz",
   "metadata": {
    "id": "C89q86TR0eTz",
    "outputId": "3098e979-fa37-43fa-d2c9-eab6023c6282",
    "scrolled": true
   },
   "outputs": [
    {
     "data": {
      "text/html": [
       "<div>\n",
       "<style scoped>\n",
       "    .dataframe tbody tr th:only-of-type {\n",
       "        vertical-align: middle;\n",
       "    }\n",
       "\n",
       "    .dataframe tbody tr th {\n",
       "        vertical-align: top;\n",
       "    }\n",
       "\n",
       "    .dataframe thead th {\n",
       "        text-align: right;\n",
       "    }\n",
       "</style>\n",
       "<table border=\"1\" class=\"dataframe\">\n",
       "  <thead>\n",
       "    <tr style=\"text-align: right;\">\n",
       "      <th></th>\n",
       "      <th>0</th>\n",
       "      <th>1</th>\n",
       "      <th>2</th>\n",
       "    </tr>\n",
       "  </thead>\n",
       "  <tbody>\n",
       "    <tr>\n",
       "      <th>0</th>\n",
       "      <td>8</td>\n",
       "      <td>24</td>\n",
       "      <td>67</td>\n",
       "    </tr>\n",
       "    <tr>\n",
       "      <th>1</th>\n",
       "      <td>87</td>\n",
       "      <td>79</td>\n",
       "      <td>48</td>\n",
       "    </tr>\n",
       "    <tr>\n",
       "      <th>2</th>\n",
       "      <td>10</td>\n",
       "      <td>94</td>\n",
       "      <td>52</td>\n",
       "    </tr>\n",
       "    <tr>\n",
       "      <th>3</th>\n",
       "      <td>98</td>\n",
       "      <td>53</td>\n",
       "      <td>66</td>\n",
       "    </tr>\n",
       "    <tr>\n",
       "      <th>4</th>\n",
       "      <td>98</td>\n",
       "      <td>14</td>\n",
       "      <td>34</td>\n",
       "    </tr>\n",
       "  </tbody>\n",
       "</table>\n",
       "</div>"
      ],
      "text/plain": [
       "    0   1   2\n",
       "0   8  24  67\n",
       "1  87  79  48\n",
       "2  10  94  52\n",
       "3  98  53  66\n",
       "4  98  14  34"
      ]
     },
     "execution_count": 3,
     "metadata": {},
     "output_type": "execute_result"
    }
   ],
   "source": [
    "df = pd.DataFrame(arr)\n",
    "df"
   ]
  },
  {
   "cell_type": "code",
   "execution_count": 4,
   "id": "bkVMGtEz0eT0",
   "metadata": {
    "id": "bkVMGtEz0eT0",
    "outputId": "81d18ff2-286e-4a66-ce89-2aa1b213add6"
   },
   "outputs": [
    {
     "data": {
      "text/plain": [
       "pandas.core.frame.DataFrame"
      ]
     },
     "execution_count": 4,
     "metadata": {},
     "output_type": "execute_result"
    }
   ],
   "source": [
    "type(df)"
   ]
  },
  {
   "cell_type": "markdown",
   "id": "0PdQUYc30eT0",
   "metadata": {
    "id": "0PdQUYc30eT0"
   },
   "source": [
    "You can create your own custom columns and rows as well."
   ]
  },
  {
   "cell_type": "code",
   "execution_count": 5,
   "id": "UayWmkWA0eT1",
   "metadata": {
    "id": "UayWmkWA0eT1"
   },
   "outputs": [],
   "source": [
    "rownames = ['Mon', 'Tue', 'Wed', 'Thu', 'Fri']\n",
    "columnnames = ['Jan', 'Feb', 'Mar']"
   ]
  },
  {
   "cell_type": "code",
   "execution_count": 6,
   "id": "5MqIGrm80eT1",
   "metadata": {
    "id": "5MqIGrm80eT1",
    "outputId": "5a0d538b-dde4-48fa-8b63-d0bbe3fdea31"
   },
   "outputs": [
    {
     "data": {
      "text/html": [
       "<div>\n",
       "<style scoped>\n",
       "    .dataframe tbody tr th:only-of-type {\n",
       "        vertical-align: middle;\n",
       "    }\n",
       "\n",
       "    .dataframe tbody tr th {\n",
       "        vertical-align: top;\n",
       "    }\n",
       "\n",
       "    .dataframe thead th {\n",
       "        text-align: right;\n",
       "    }\n",
       "</style>\n",
       "<table border=\"1\" class=\"dataframe\">\n",
       "  <thead>\n",
       "    <tr style=\"text-align: right;\">\n",
       "      <th></th>\n",
       "      <th>Jan</th>\n",
       "      <th>Feb</th>\n",
       "      <th>Mar</th>\n",
       "    </tr>\n",
       "  </thead>\n",
       "  <tbody>\n",
       "    <tr>\n",
       "      <th>Mon</th>\n",
       "      <td>8</td>\n",
       "      <td>24</td>\n",
       "      <td>67</td>\n",
       "    </tr>\n",
       "    <tr>\n",
       "      <th>Tue</th>\n",
       "      <td>87</td>\n",
       "      <td>79</td>\n",
       "      <td>48</td>\n",
       "    </tr>\n",
       "    <tr>\n",
       "      <th>Wed</th>\n",
       "      <td>10</td>\n",
       "      <td>94</td>\n",
       "      <td>52</td>\n",
       "    </tr>\n",
       "    <tr>\n",
       "      <th>Thu</th>\n",
       "      <td>98</td>\n",
       "      <td>53</td>\n",
       "      <td>66</td>\n",
       "    </tr>\n",
       "    <tr>\n",
       "      <th>Fri</th>\n",
       "      <td>98</td>\n",
       "      <td>14</td>\n",
       "      <td>34</td>\n",
       "    </tr>\n",
       "  </tbody>\n",
       "</table>\n",
       "</div>"
      ],
      "text/plain": [
       "     Jan  Feb  Mar\n",
       "Mon    8   24   67\n",
       "Tue   87   79   48\n",
       "Wed   10   94   52\n",
       "Thu   98   53   66\n",
       "Fri   98   14   34"
      ]
     },
     "execution_count": 6,
     "metadata": {},
     "output_type": "execute_result"
    }
   ],
   "source": [
    "df = pd.DataFrame(arr, index=rownames, columns=columnnames)\n",
    "df"
   ]
  },
  {
   "cell_type": "markdown",
   "id": "ZVlRlW5c0eT1",
   "metadata": {
    "id": "ZVlRlW5c0eT1"
   },
   "source": [
    "### How to create a DataFrame from a Dictionary?"
   ]
  },
  {
   "cell_type": "code",
   "execution_count": 7,
   "id": "9NknzBNP0eT2",
   "metadata": {
    "id": "9NknzBNP0eT2",
    "outputId": "3e257a61-77aa-484e-ff9b-40108cc4584f",
    "scrolled": true
   },
   "outputs": [
    {
     "data": {
      "text/html": [
       "<div>\n",
       "<style scoped>\n",
       "    .dataframe tbody tr th:only-of-type {\n",
       "        vertical-align: middle;\n",
       "    }\n",
       "\n",
       "    .dataframe tbody tr th {\n",
       "        vertical-align: top;\n",
       "    }\n",
       "\n",
       "    .dataframe thead th {\n",
       "        text-align: right;\n",
       "    }\n",
       "</style>\n",
       "<table border=\"1\" class=\"dataframe\">\n",
       "  <thead>\n",
       "    <tr style=\"text-align: right;\">\n",
       "      <th></th>\n",
       "      <th>Jan</th>\n",
       "      <th>Feb</th>\n",
       "      <th>Mar</th>\n",
       "    </tr>\n",
       "  </thead>\n",
       "  <tbody>\n",
       "    <tr>\n",
       "      <th>Mon</th>\n",
       "      <td>1</td>\n",
       "      <td>10</td>\n",
       "      <td>15</td>\n",
       "    </tr>\n",
       "    <tr>\n",
       "      <th>Tue</th>\n",
       "      <td>2</td>\n",
       "      <td>20</td>\n",
       "      <td>25</td>\n",
       "    </tr>\n",
       "    <tr>\n",
       "      <th>Wed</th>\n",
       "      <td>3</td>\n",
       "      <td>30</td>\n",
       "      <td>35</td>\n",
       "    </tr>\n",
       "    <tr>\n",
       "      <th>Thu</th>\n",
       "      <td>4</td>\n",
       "      <td>40</td>\n",
       "      <td>45</td>\n",
       "    </tr>\n",
       "    <tr>\n",
       "      <th>Fri</th>\n",
       "      <td>5</td>\n",
       "      <td>50</td>\n",
       "      <td>55</td>\n",
       "    </tr>\n",
       "  </tbody>\n",
       "</table>\n",
       "</div>"
      ],
      "text/plain": [
       "     Jan  Feb  Mar\n",
       "Mon    1   10   15\n",
       "Tue    2   20   25\n",
       "Wed    3   30   35\n",
       "Thu    4   40   45\n",
       "Fri    5   50   55"
      ]
     },
     "execution_count": 7,
     "metadata": {},
     "output_type": "execute_result"
    }
   ],
   "source": [
    "mydict = {\n",
    "    'Jan' : [1, 2, 3, 4, 5],\n",
    "    'Feb' : [10, 20, 30, 40, 50],\n",
    "    'Mar' : [15, 25, 35, 45, 55],\n",
    "}\n",
    "  \n",
    "# dataframe from dict\n",
    "df = pd.DataFrame(mydict, index=['Mon', 'Tue', 'Wed', 'Thu', 'Fri'])\n",
    "df"
   ]
  },
  {
   "cell_type": "markdown",
   "id": "4o6nf-5t0eT2",
   "metadata": {
    "id": "4o6nf-5t0eT2"
   },
   "source": [
    "A dictionary does not have an inherent ordering of key. So, to get your columns in specific order, explicitly mention it."
   ]
  },
  {
   "cell_type": "code",
   "execution_count": 8,
   "id": "w025nxJ-0eT2",
   "metadata": {
    "id": "w025nxJ-0eT2",
    "outputId": "2bef20d4-6ea6-4555-f297-6467b179266a"
   },
   "outputs": [
    {
     "data": {
      "text/html": [
       "<div>\n",
       "<style scoped>\n",
       "    .dataframe tbody tr th:only-of-type {\n",
       "        vertical-align: middle;\n",
       "    }\n",
       "\n",
       "    .dataframe tbody tr th {\n",
       "        vertical-align: top;\n",
       "    }\n",
       "\n",
       "    .dataframe thead th {\n",
       "        text-align: right;\n",
       "    }\n",
       "</style>\n",
       "<table border=\"1\" class=\"dataframe\">\n",
       "  <thead>\n",
       "    <tr style=\"text-align: right;\">\n",
       "      <th></th>\n",
       "      <th>Mar</th>\n",
       "      <th>Jan</th>\n",
       "      <th>Feb</th>\n",
       "    </tr>\n",
       "  </thead>\n",
       "  <tbody>\n",
       "    <tr>\n",
       "      <th>Mon</th>\n",
       "      <td>15</td>\n",
       "      <td>1</td>\n",
       "      <td>10</td>\n",
       "    </tr>\n",
       "    <tr>\n",
       "      <th>Tue</th>\n",
       "      <td>25</td>\n",
       "      <td>2</td>\n",
       "      <td>20</td>\n",
       "    </tr>\n",
       "    <tr>\n",
       "      <th>Wed</th>\n",
       "      <td>35</td>\n",
       "      <td>3</td>\n",
       "      <td>30</td>\n",
       "    </tr>\n",
       "    <tr>\n",
       "      <th>Thu</th>\n",
       "      <td>45</td>\n",
       "      <td>4</td>\n",
       "      <td>40</td>\n",
       "    </tr>\n",
       "    <tr>\n",
       "      <th>Fri</th>\n",
       "      <td>55</td>\n",
       "      <td>5</td>\n",
       "      <td>50</td>\n",
       "    </tr>\n",
       "  </tbody>\n",
       "</table>\n",
       "</div>"
      ],
      "text/plain": [
       "     Mar  Jan  Feb\n",
       "Mon   15    1   10\n",
       "Tue   25    2   20\n",
       "Wed   35    3   30\n",
       "Thu   45    4   40\n",
       "Fri   55    5   50"
      ]
     },
     "execution_count": 8,
     "metadata": {},
     "output_type": "execute_result"
    }
   ],
   "source": [
    "mydict = {\n",
    "    'Jan' : [1, 2, 3, 4, 5],\n",
    "    'Feb' : [10, 20, 30, 40, 50],\n",
    "    'Mar' : [15, 25, 35, 45, 55],\n",
    "}\n",
    "  \n",
    "# dataframe from dict\n",
    "df = pd.DataFrame(mydict, \n",
    "                  index=['Mon', 'Tue', 'Wed', 'Thu', 'Fri'],\n",
    "                  columns=['Mar', 'Jan', 'Feb'])\n",
    "df"
   ]
  },
  {
   "cell_type": "markdown",
   "id": "FYweI85r0eT2",
   "metadata": {
    "id": "FYweI85r0eT2"
   },
   "source": [
    "__Reading Data From Files__\n",
    "\n",
    "Data can come in various file formats. Pandas supports importing data from multiple different sources. \n",
    "\n",
    "One of the common file formats is csv files. You can use `pd.read_csv` to import data."
   ]
  },
  {
   "cell_type": "code",
   "execution_count": 9,
   "id": "06QL8xyy0eT3",
   "metadata": {
    "id": "06QL8xyy0eT3"
   },
   "outputs": [
    {
     "ename": "FileNotFoundError",
     "evalue": "[Errno 2] No such file or directory: 'Datasets/ToothGrowth.csv'",
     "output_type": "error",
     "traceback": [
      "\u001b[1;31m---------------------------------------------------------------------------\u001b[0m",
      "\u001b[1;31mFileNotFoundError\u001b[0m                         Traceback (most recent call last)",
      "Cell \u001b[1;32mIn[9], line 1\u001b[0m\n\u001b[1;32m----> 1\u001b[0m df \u001b[38;5;241m=\u001b[39m \u001b[43mpd\u001b[49m\u001b[38;5;241;43m.\u001b[39;49m\u001b[43mread_csv\u001b[49m\u001b[43m(\u001b[49m\u001b[38;5;124;43m'\u001b[39;49m\u001b[38;5;124;43mDatasets/ToothGrowth.csv\u001b[39;49m\u001b[38;5;124;43m'\u001b[39;49m\u001b[43m)\u001b[49m\n",
      "File \u001b[1;32m~\\AppData\\Roaming\\Python\\Python312\\site-packages\\pandas\\io\\parsers\\readers.py:1026\u001b[0m, in \u001b[0;36mread_csv\u001b[1;34m(filepath_or_buffer, sep, delimiter, header, names, index_col, usecols, dtype, engine, converters, true_values, false_values, skipinitialspace, skiprows, skipfooter, nrows, na_values, keep_default_na, na_filter, verbose, skip_blank_lines, parse_dates, infer_datetime_format, keep_date_col, date_parser, date_format, dayfirst, cache_dates, iterator, chunksize, compression, thousands, decimal, lineterminator, quotechar, quoting, doublequote, escapechar, comment, encoding, encoding_errors, dialect, on_bad_lines, delim_whitespace, low_memory, memory_map, float_precision, storage_options, dtype_backend)\u001b[0m\n\u001b[0;32m   1013\u001b[0m kwds_defaults \u001b[38;5;241m=\u001b[39m _refine_defaults_read(\n\u001b[0;32m   1014\u001b[0m     dialect,\n\u001b[0;32m   1015\u001b[0m     delimiter,\n\u001b[1;32m   (...)\u001b[0m\n\u001b[0;32m   1022\u001b[0m     dtype_backend\u001b[38;5;241m=\u001b[39mdtype_backend,\n\u001b[0;32m   1023\u001b[0m )\n\u001b[0;32m   1024\u001b[0m kwds\u001b[38;5;241m.\u001b[39mupdate(kwds_defaults)\n\u001b[1;32m-> 1026\u001b[0m \u001b[38;5;28;01mreturn\u001b[39;00m \u001b[43m_read\u001b[49m\u001b[43m(\u001b[49m\u001b[43mfilepath_or_buffer\u001b[49m\u001b[43m,\u001b[49m\u001b[43m \u001b[49m\u001b[43mkwds\u001b[49m\u001b[43m)\u001b[49m\n",
      "File \u001b[1;32m~\\AppData\\Roaming\\Python\\Python312\\site-packages\\pandas\\io\\parsers\\readers.py:620\u001b[0m, in \u001b[0;36m_read\u001b[1;34m(filepath_or_buffer, kwds)\u001b[0m\n\u001b[0;32m    617\u001b[0m _validate_names(kwds\u001b[38;5;241m.\u001b[39mget(\u001b[38;5;124m\"\u001b[39m\u001b[38;5;124mnames\u001b[39m\u001b[38;5;124m\"\u001b[39m, \u001b[38;5;28;01mNone\u001b[39;00m))\n\u001b[0;32m    619\u001b[0m \u001b[38;5;66;03m# Create the parser.\u001b[39;00m\n\u001b[1;32m--> 620\u001b[0m parser \u001b[38;5;241m=\u001b[39m \u001b[43mTextFileReader\u001b[49m\u001b[43m(\u001b[49m\u001b[43mfilepath_or_buffer\u001b[49m\u001b[43m,\u001b[49m\u001b[43m \u001b[49m\u001b[38;5;241;43m*\u001b[39;49m\u001b[38;5;241;43m*\u001b[39;49m\u001b[43mkwds\u001b[49m\u001b[43m)\u001b[49m\n\u001b[0;32m    622\u001b[0m \u001b[38;5;28;01mif\u001b[39;00m chunksize \u001b[38;5;129;01mor\u001b[39;00m iterator:\n\u001b[0;32m    623\u001b[0m     \u001b[38;5;28;01mreturn\u001b[39;00m parser\n",
      "File \u001b[1;32m~\\AppData\\Roaming\\Python\\Python312\\site-packages\\pandas\\io\\parsers\\readers.py:1620\u001b[0m, in \u001b[0;36mTextFileReader.__init__\u001b[1;34m(self, f, engine, **kwds)\u001b[0m\n\u001b[0;32m   1617\u001b[0m     \u001b[38;5;28mself\u001b[39m\u001b[38;5;241m.\u001b[39moptions[\u001b[38;5;124m\"\u001b[39m\u001b[38;5;124mhas_index_names\u001b[39m\u001b[38;5;124m\"\u001b[39m] \u001b[38;5;241m=\u001b[39m kwds[\u001b[38;5;124m\"\u001b[39m\u001b[38;5;124mhas_index_names\u001b[39m\u001b[38;5;124m\"\u001b[39m]\n\u001b[0;32m   1619\u001b[0m \u001b[38;5;28mself\u001b[39m\u001b[38;5;241m.\u001b[39mhandles: IOHandles \u001b[38;5;241m|\u001b[39m \u001b[38;5;28;01mNone\u001b[39;00m \u001b[38;5;241m=\u001b[39m \u001b[38;5;28;01mNone\u001b[39;00m\n\u001b[1;32m-> 1620\u001b[0m \u001b[38;5;28mself\u001b[39m\u001b[38;5;241m.\u001b[39m_engine \u001b[38;5;241m=\u001b[39m \u001b[38;5;28;43mself\u001b[39;49m\u001b[38;5;241;43m.\u001b[39;49m\u001b[43m_make_engine\u001b[49m\u001b[43m(\u001b[49m\u001b[43mf\u001b[49m\u001b[43m,\u001b[49m\u001b[43m \u001b[49m\u001b[38;5;28;43mself\u001b[39;49m\u001b[38;5;241;43m.\u001b[39;49m\u001b[43mengine\u001b[49m\u001b[43m)\u001b[49m\n",
      "File \u001b[1;32m~\\AppData\\Roaming\\Python\\Python312\\site-packages\\pandas\\io\\parsers\\readers.py:1880\u001b[0m, in \u001b[0;36mTextFileReader._make_engine\u001b[1;34m(self, f, engine)\u001b[0m\n\u001b[0;32m   1878\u001b[0m     \u001b[38;5;28;01mif\u001b[39;00m \u001b[38;5;124m\"\u001b[39m\u001b[38;5;124mb\u001b[39m\u001b[38;5;124m\"\u001b[39m \u001b[38;5;129;01mnot\u001b[39;00m \u001b[38;5;129;01min\u001b[39;00m mode:\n\u001b[0;32m   1879\u001b[0m         mode \u001b[38;5;241m+\u001b[39m\u001b[38;5;241m=\u001b[39m \u001b[38;5;124m\"\u001b[39m\u001b[38;5;124mb\u001b[39m\u001b[38;5;124m\"\u001b[39m\n\u001b[1;32m-> 1880\u001b[0m \u001b[38;5;28mself\u001b[39m\u001b[38;5;241m.\u001b[39mhandles \u001b[38;5;241m=\u001b[39m \u001b[43mget_handle\u001b[49m\u001b[43m(\u001b[49m\n\u001b[0;32m   1881\u001b[0m \u001b[43m    \u001b[49m\u001b[43mf\u001b[49m\u001b[43m,\u001b[49m\n\u001b[0;32m   1882\u001b[0m \u001b[43m    \u001b[49m\u001b[43mmode\u001b[49m\u001b[43m,\u001b[49m\n\u001b[0;32m   1883\u001b[0m \u001b[43m    \u001b[49m\u001b[43mencoding\u001b[49m\u001b[38;5;241;43m=\u001b[39;49m\u001b[38;5;28;43mself\u001b[39;49m\u001b[38;5;241;43m.\u001b[39;49m\u001b[43moptions\u001b[49m\u001b[38;5;241;43m.\u001b[39;49m\u001b[43mget\u001b[49m\u001b[43m(\u001b[49m\u001b[38;5;124;43m\"\u001b[39;49m\u001b[38;5;124;43mencoding\u001b[39;49m\u001b[38;5;124;43m\"\u001b[39;49m\u001b[43m,\u001b[49m\u001b[43m \u001b[49m\u001b[38;5;28;43;01mNone\u001b[39;49;00m\u001b[43m)\u001b[49m\u001b[43m,\u001b[49m\n\u001b[0;32m   1884\u001b[0m \u001b[43m    \u001b[49m\u001b[43mcompression\u001b[49m\u001b[38;5;241;43m=\u001b[39;49m\u001b[38;5;28;43mself\u001b[39;49m\u001b[38;5;241;43m.\u001b[39;49m\u001b[43moptions\u001b[49m\u001b[38;5;241;43m.\u001b[39;49m\u001b[43mget\u001b[49m\u001b[43m(\u001b[49m\u001b[38;5;124;43m\"\u001b[39;49m\u001b[38;5;124;43mcompression\u001b[39;49m\u001b[38;5;124;43m\"\u001b[39;49m\u001b[43m,\u001b[49m\u001b[43m \u001b[49m\u001b[38;5;28;43;01mNone\u001b[39;49;00m\u001b[43m)\u001b[49m\u001b[43m,\u001b[49m\n\u001b[0;32m   1885\u001b[0m \u001b[43m    \u001b[49m\u001b[43mmemory_map\u001b[49m\u001b[38;5;241;43m=\u001b[39;49m\u001b[38;5;28;43mself\u001b[39;49m\u001b[38;5;241;43m.\u001b[39;49m\u001b[43moptions\u001b[49m\u001b[38;5;241;43m.\u001b[39;49m\u001b[43mget\u001b[49m\u001b[43m(\u001b[49m\u001b[38;5;124;43m\"\u001b[39;49m\u001b[38;5;124;43mmemory_map\u001b[39;49m\u001b[38;5;124;43m\"\u001b[39;49m\u001b[43m,\u001b[49m\u001b[43m \u001b[49m\u001b[38;5;28;43;01mFalse\u001b[39;49;00m\u001b[43m)\u001b[49m\u001b[43m,\u001b[49m\n\u001b[0;32m   1886\u001b[0m \u001b[43m    \u001b[49m\u001b[43mis_text\u001b[49m\u001b[38;5;241;43m=\u001b[39;49m\u001b[43mis_text\u001b[49m\u001b[43m,\u001b[49m\n\u001b[0;32m   1887\u001b[0m \u001b[43m    \u001b[49m\u001b[43merrors\u001b[49m\u001b[38;5;241;43m=\u001b[39;49m\u001b[38;5;28;43mself\u001b[39;49m\u001b[38;5;241;43m.\u001b[39;49m\u001b[43moptions\u001b[49m\u001b[38;5;241;43m.\u001b[39;49m\u001b[43mget\u001b[49m\u001b[43m(\u001b[49m\u001b[38;5;124;43m\"\u001b[39;49m\u001b[38;5;124;43mencoding_errors\u001b[39;49m\u001b[38;5;124;43m\"\u001b[39;49m\u001b[43m,\u001b[49m\u001b[43m \u001b[49m\u001b[38;5;124;43m\"\u001b[39;49m\u001b[38;5;124;43mstrict\u001b[39;49m\u001b[38;5;124;43m\"\u001b[39;49m\u001b[43m)\u001b[49m\u001b[43m,\u001b[49m\n\u001b[0;32m   1888\u001b[0m \u001b[43m    \u001b[49m\u001b[43mstorage_options\u001b[49m\u001b[38;5;241;43m=\u001b[39;49m\u001b[38;5;28;43mself\u001b[39;49m\u001b[38;5;241;43m.\u001b[39;49m\u001b[43moptions\u001b[49m\u001b[38;5;241;43m.\u001b[39;49m\u001b[43mget\u001b[49m\u001b[43m(\u001b[49m\u001b[38;5;124;43m\"\u001b[39;49m\u001b[38;5;124;43mstorage_options\u001b[39;49m\u001b[38;5;124;43m\"\u001b[39;49m\u001b[43m,\u001b[49m\u001b[43m \u001b[49m\u001b[38;5;28;43;01mNone\u001b[39;49;00m\u001b[43m)\u001b[49m\u001b[43m,\u001b[49m\n\u001b[0;32m   1889\u001b[0m \u001b[43m\u001b[49m\u001b[43m)\u001b[49m\n\u001b[0;32m   1890\u001b[0m \u001b[38;5;28;01massert\u001b[39;00m \u001b[38;5;28mself\u001b[39m\u001b[38;5;241m.\u001b[39mhandles \u001b[38;5;129;01mis\u001b[39;00m \u001b[38;5;129;01mnot\u001b[39;00m \u001b[38;5;28;01mNone\u001b[39;00m\n\u001b[0;32m   1891\u001b[0m f \u001b[38;5;241m=\u001b[39m \u001b[38;5;28mself\u001b[39m\u001b[38;5;241m.\u001b[39mhandles\u001b[38;5;241m.\u001b[39mhandle\n",
      "File \u001b[1;32m~\\AppData\\Roaming\\Python\\Python312\\site-packages\\pandas\\io\\common.py:873\u001b[0m, in \u001b[0;36mget_handle\u001b[1;34m(path_or_buf, mode, encoding, compression, memory_map, is_text, errors, storage_options)\u001b[0m\n\u001b[0;32m    868\u001b[0m \u001b[38;5;28;01melif\u001b[39;00m \u001b[38;5;28misinstance\u001b[39m(handle, \u001b[38;5;28mstr\u001b[39m):\n\u001b[0;32m    869\u001b[0m     \u001b[38;5;66;03m# Check whether the filename is to be opened in binary mode.\u001b[39;00m\n\u001b[0;32m    870\u001b[0m     \u001b[38;5;66;03m# Binary mode does not support 'encoding' and 'newline'.\u001b[39;00m\n\u001b[0;32m    871\u001b[0m     \u001b[38;5;28;01mif\u001b[39;00m ioargs\u001b[38;5;241m.\u001b[39mencoding \u001b[38;5;129;01mand\u001b[39;00m \u001b[38;5;124m\"\u001b[39m\u001b[38;5;124mb\u001b[39m\u001b[38;5;124m\"\u001b[39m \u001b[38;5;129;01mnot\u001b[39;00m \u001b[38;5;129;01min\u001b[39;00m ioargs\u001b[38;5;241m.\u001b[39mmode:\n\u001b[0;32m    872\u001b[0m         \u001b[38;5;66;03m# Encoding\u001b[39;00m\n\u001b[1;32m--> 873\u001b[0m         handle \u001b[38;5;241m=\u001b[39m \u001b[38;5;28;43mopen\u001b[39;49m\u001b[43m(\u001b[49m\n\u001b[0;32m    874\u001b[0m \u001b[43m            \u001b[49m\u001b[43mhandle\u001b[49m\u001b[43m,\u001b[49m\n\u001b[0;32m    875\u001b[0m \u001b[43m            \u001b[49m\u001b[43mioargs\u001b[49m\u001b[38;5;241;43m.\u001b[39;49m\u001b[43mmode\u001b[49m\u001b[43m,\u001b[49m\n\u001b[0;32m    876\u001b[0m \u001b[43m            \u001b[49m\u001b[43mencoding\u001b[49m\u001b[38;5;241;43m=\u001b[39;49m\u001b[43mioargs\u001b[49m\u001b[38;5;241;43m.\u001b[39;49m\u001b[43mencoding\u001b[49m\u001b[43m,\u001b[49m\n\u001b[0;32m    877\u001b[0m \u001b[43m            \u001b[49m\u001b[43merrors\u001b[49m\u001b[38;5;241;43m=\u001b[39;49m\u001b[43merrors\u001b[49m\u001b[43m,\u001b[49m\n\u001b[0;32m    878\u001b[0m \u001b[43m            \u001b[49m\u001b[43mnewline\u001b[49m\u001b[38;5;241;43m=\u001b[39;49m\u001b[38;5;124;43m\"\u001b[39;49m\u001b[38;5;124;43m\"\u001b[39;49m\u001b[43m,\u001b[49m\n\u001b[0;32m    879\u001b[0m \u001b[43m        \u001b[49m\u001b[43m)\u001b[49m\n\u001b[0;32m    880\u001b[0m     \u001b[38;5;28;01melse\u001b[39;00m:\n\u001b[0;32m    881\u001b[0m         \u001b[38;5;66;03m# Binary mode\u001b[39;00m\n\u001b[0;32m    882\u001b[0m         handle \u001b[38;5;241m=\u001b[39m \u001b[38;5;28mopen\u001b[39m(handle, ioargs\u001b[38;5;241m.\u001b[39mmode)\n",
      "\u001b[1;31mFileNotFoundError\u001b[0m: [Errno 2] No such file or directory: 'Datasets/ToothGrowth.csv'"
     ]
    }
   ],
   "source": [
    "df = pd.read_csv('Datasets/ToothGrowth.csv')"
   ]
  },
  {
   "cell_type": "code",
   "execution_count": null,
   "id": "7BeabcL-0eT3",
   "metadata": {
    "id": "7BeabcL-0eT3",
    "outputId": "d1a1243b-87dd-4ed5-be3f-bba0c1e929fa",
    "scrolled": false
   },
   "outputs": [
    {
     "data": {
      "text/html": [
       "<div>\n",
       "<style scoped>\n",
       "    .dataframe tbody tr th:only-of-type {\n",
       "        vertical-align: middle;\n",
       "    }\n",
       "\n",
       "    .dataframe tbody tr th {\n",
       "        vertical-align: top;\n",
       "    }\n",
       "\n",
       "    .dataframe thead th {\n",
       "        text-align: right;\n",
       "    }\n",
       "</style>\n",
       "<table border=\"1\" class=\"dataframe\">\n",
       "  <thead>\n",
       "    <tr style=\"text-align: right;\">\n",
       "      <th></th>\n",
       "      <th>len</th>\n",
       "      <th>supp</th>\n",
       "      <th>dose</th>\n",
       "    </tr>\n",
       "  </thead>\n",
       "  <tbody>\n",
       "    <tr>\n",
       "      <th>0</th>\n",
       "      <td>4.2</td>\n",
       "      <td>VC</td>\n",
       "      <td>0.5</td>\n",
       "    </tr>\n",
       "    <tr>\n",
       "      <th>1</th>\n",
       "      <td>11.5</td>\n",
       "      <td>VC</td>\n",
       "      <td>0.5</td>\n",
       "    </tr>\n",
       "    <tr>\n",
       "      <th>2</th>\n",
       "      <td>7.3</td>\n",
       "      <td>VC</td>\n",
       "      <td>0.5</td>\n",
       "    </tr>\n",
       "    <tr>\n",
       "      <th>3</th>\n",
       "      <td>5.8</td>\n",
       "      <td>VC</td>\n",
       "      <td>0.5</td>\n",
       "    </tr>\n",
       "    <tr>\n",
       "      <th>4</th>\n",
       "      <td>6.4</td>\n",
       "      <td>VC</td>\n",
       "      <td>0.5</td>\n",
       "    </tr>\n",
       "    <tr>\n",
       "      <th>5</th>\n",
       "      <td>10.0</td>\n",
       "      <td>VC</td>\n",
       "      <td>0.5</td>\n",
       "    </tr>\n",
       "    <tr>\n",
       "      <th>6</th>\n",
       "      <td>11.2</td>\n",
       "      <td>VC</td>\n",
       "      <td>0.5</td>\n",
       "    </tr>\n",
       "    <tr>\n",
       "      <th>7</th>\n",
       "      <td>11.2</td>\n",
       "      <td>VC</td>\n",
       "      <td>0.5</td>\n",
       "    </tr>\n",
       "    <tr>\n",
       "      <th>8</th>\n",
       "      <td>5.2</td>\n",
       "      <td>VC</td>\n",
       "      <td>0.5</td>\n",
       "    </tr>\n",
       "    <tr>\n",
       "      <th>9</th>\n",
       "      <td>7.0</td>\n",
       "      <td>VC</td>\n",
       "      <td>0.5</td>\n",
       "    </tr>\n",
       "    <tr>\n",
       "      <th>10</th>\n",
       "      <td>16.5</td>\n",
       "      <td>VC</td>\n",
       "      <td>1.0</td>\n",
       "    </tr>\n",
       "    <tr>\n",
       "      <th>11</th>\n",
       "      <td>16.5</td>\n",
       "      <td>VC</td>\n",
       "      <td>1.0</td>\n",
       "    </tr>\n",
       "    <tr>\n",
       "      <th>12</th>\n",
       "      <td>15.2</td>\n",
       "      <td>VC</td>\n",
       "      <td>1.0</td>\n",
       "    </tr>\n",
       "    <tr>\n",
       "      <th>13</th>\n",
       "      <td>17.3</td>\n",
       "      <td>VC</td>\n",
       "      <td>1.0</td>\n",
       "    </tr>\n",
       "    <tr>\n",
       "      <th>14</th>\n",
       "      <td>22.5</td>\n",
       "      <td>VC</td>\n",
       "      <td>1.0</td>\n",
       "    </tr>\n",
       "    <tr>\n",
       "      <th>15</th>\n",
       "      <td>17.3</td>\n",
       "      <td>VC</td>\n",
       "      <td>1.0</td>\n",
       "    </tr>\n",
       "    <tr>\n",
       "      <th>16</th>\n",
       "      <td>13.6</td>\n",
       "      <td>VC</td>\n",
       "      <td>1.0</td>\n",
       "    </tr>\n",
       "    <tr>\n",
       "      <th>17</th>\n",
       "      <td>14.5</td>\n",
       "      <td>VC</td>\n",
       "      <td>1.0</td>\n",
       "    </tr>\n",
       "    <tr>\n",
       "      <th>18</th>\n",
       "      <td>18.8</td>\n",
       "      <td>VC</td>\n",
       "      <td>1.0</td>\n",
       "    </tr>\n",
       "    <tr>\n",
       "      <th>19</th>\n",
       "      <td>15.5</td>\n",
       "      <td>VC</td>\n",
       "      <td>1.0</td>\n",
       "    </tr>\n",
       "    <tr>\n",
       "      <th>20</th>\n",
       "      <td>23.6</td>\n",
       "      <td>VC</td>\n",
       "      <td>2.0</td>\n",
       "    </tr>\n",
       "    <tr>\n",
       "      <th>21</th>\n",
       "      <td>18.5</td>\n",
       "      <td>VC</td>\n",
       "      <td>2.0</td>\n",
       "    </tr>\n",
       "    <tr>\n",
       "      <th>22</th>\n",
       "      <td>33.9</td>\n",
       "      <td>VC</td>\n",
       "      <td>2.0</td>\n",
       "    </tr>\n",
       "    <tr>\n",
       "      <th>23</th>\n",
       "      <td>25.5</td>\n",
       "      <td>VC</td>\n",
       "      <td>2.0</td>\n",
       "    </tr>\n",
       "    <tr>\n",
       "      <th>24</th>\n",
       "      <td>26.4</td>\n",
       "      <td>VC</td>\n",
       "      <td>2.0</td>\n",
       "    </tr>\n",
       "    <tr>\n",
       "      <th>25</th>\n",
       "      <td>32.5</td>\n",
       "      <td>VC</td>\n",
       "      <td>2.0</td>\n",
       "    </tr>\n",
       "    <tr>\n",
       "      <th>26</th>\n",
       "      <td>26.7</td>\n",
       "      <td>VC</td>\n",
       "      <td>2.0</td>\n",
       "    </tr>\n",
       "    <tr>\n",
       "      <th>27</th>\n",
       "      <td>21.5</td>\n",
       "      <td>VC</td>\n",
       "      <td>2.0</td>\n",
       "    </tr>\n",
       "    <tr>\n",
       "      <th>28</th>\n",
       "      <td>23.3</td>\n",
       "      <td>VC</td>\n",
       "      <td>2.0</td>\n",
       "    </tr>\n",
       "    <tr>\n",
       "      <th>29</th>\n",
       "      <td>29.5</td>\n",
       "      <td>VC</td>\n",
       "      <td>2.0</td>\n",
       "    </tr>\n",
       "    <tr>\n",
       "      <th>30</th>\n",
       "      <td>15.2</td>\n",
       "      <td>OJ</td>\n",
       "      <td>0.5</td>\n",
       "    </tr>\n",
       "    <tr>\n",
       "      <th>31</th>\n",
       "      <td>21.5</td>\n",
       "      <td>OJ</td>\n",
       "      <td>0.5</td>\n",
       "    </tr>\n",
       "    <tr>\n",
       "      <th>32</th>\n",
       "      <td>17.6</td>\n",
       "      <td>OJ</td>\n",
       "      <td>0.5</td>\n",
       "    </tr>\n",
       "    <tr>\n",
       "      <th>33</th>\n",
       "      <td>9.7</td>\n",
       "      <td>OJ</td>\n",
       "      <td>0.5</td>\n",
       "    </tr>\n",
       "    <tr>\n",
       "      <th>34</th>\n",
       "      <td>14.5</td>\n",
       "      <td>OJ</td>\n",
       "      <td>0.5</td>\n",
       "    </tr>\n",
       "    <tr>\n",
       "      <th>35</th>\n",
       "      <td>10.0</td>\n",
       "      <td>OJ</td>\n",
       "      <td>0.5</td>\n",
       "    </tr>\n",
       "    <tr>\n",
       "      <th>36</th>\n",
       "      <td>8.2</td>\n",
       "      <td>OJ</td>\n",
       "      <td>0.5</td>\n",
       "    </tr>\n",
       "    <tr>\n",
       "      <th>37</th>\n",
       "      <td>9.4</td>\n",
       "      <td>OJ</td>\n",
       "      <td>0.5</td>\n",
       "    </tr>\n",
       "    <tr>\n",
       "      <th>38</th>\n",
       "      <td>16.5</td>\n",
       "      <td>OJ</td>\n",
       "      <td>0.5</td>\n",
       "    </tr>\n",
       "    <tr>\n",
       "      <th>39</th>\n",
       "      <td>9.7</td>\n",
       "      <td>OJ</td>\n",
       "      <td>0.5</td>\n",
       "    </tr>\n",
       "    <tr>\n",
       "      <th>40</th>\n",
       "      <td>19.7</td>\n",
       "      <td>OJ</td>\n",
       "      <td>1.0</td>\n",
       "    </tr>\n",
       "    <tr>\n",
       "      <th>41</th>\n",
       "      <td>23.3</td>\n",
       "      <td>OJ</td>\n",
       "      <td>1.0</td>\n",
       "    </tr>\n",
       "    <tr>\n",
       "      <th>42</th>\n",
       "      <td>23.6</td>\n",
       "      <td>OJ</td>\n",
       "      <td>1.0</td>\n",
       "    </tr>\n",
       "    <tr>\n",
       "      <th>43</th>\n",
       "      <td>26.4</td>\n",
       "      <td>OJ</td>\n",
       "      <td>1.0</td>\n",
       "    </tr>\n",
       "    <tr>\n",
       "      <th>44</th>\n",
       "      <td>20.0</td>\n",
       "      <td>OJ</td>\n",
       "      <td>1.0</td>\n",
       "    </tr>\n",
       "    <tr>\n",
       "      <th>45</th>\n",
       "      <td>25.2</td>\n",
       "      <td>OJ</td>\n",
       "      <td>1.0</td>\n",
       "    </tr>\n",
       "    <tr>\n",
       "      <th>46</th>\n",
       "      <td>25.8</td>\n",
       "      <td>OJ</td>\n",
       "      <td>1.0</td>\n",
       "    </tr>\n",
       "    <tr>\n",
       "      <th>47</th>\n",
       "      <td>21.2</td>\n",
       "      <td>OJ</td>\n",
       "      <td>1.0</td>\n",
       "    </tr>\n",
       "    <tr>\n",
       "      <th>48</th>\n",
       "      <td>14.5</td>\n",
       "      <td>OJ</td>\n",
       "      <td>1.0</td>\n",
       "    </tr>\n",
       "    <tr>\n",
       "      <th>49</th>\n",
       "      <td>27.3</td>\n",
       "      <td>OJ</td>\n",
       "      <td>1.0</td>\n",
       "    </tr>\n",
       "    <tr>\n",
       "      <th>50</th>\n",
       "      <td>25.5</td>\n",
       "      <td>OJ</td>\n",
       "      <td>2.0</td>\n",
       "    </tr>\n",
       "    <tr>\n",
       "      <th>51</th>\n",
       "      <td>26.4</td>\n",
       "      <td>OJ</td>\n",
       "      <td>2.0</td>\n",
       "    </tr>\n",
       "    <tr>\n",
       "      <th>52</th>\n",
       "      <td>22.4</td>\n",
       "      <td>OJ</td>\n",
       "      <td>2.0</td>\n",
       "    </tr>\n",
       "    <tr>\n",
       "      <th>53</th>\n",
       "      <td>24.5</td>\n",
       "      <td>OJ</td>\n",
       "      <td>2.0</td>\n",
       "    </tr>\n",
       "    <tr>\n",
       "      <th>54</th>\n",
       "      <td>24.8</td>\n",
       "      <td>OJ</td>\n",
       "      <td>2.0</td>\n",
       "    </tr>\n",
       "    <tr>\n",
       "      <th>55</th>\n",
       "      <td>30.9</td>\n",
       "      <td>OJ</td>\n",
       "      <td>2.0</td>\n",
       "    </tr>\n",
       "    <tr>\n",
       "      <th>56</th>\n",
       "      <td>26.4</td>\n",
       "      <td>OJ</td>\n",
       "      <td>2.0</td>\n",
       "    </tr>\n",
       "    <tr>\n",
       "      <th>57</th>\n",
       "      <td>27.3</td>\n",
       "      <td>OJ</td>\n",
       "      <td>2.0</td>\n",
       "    </tr>\n",
       "    <tr>\n",
       "      <th>58</th>\n",
       "      <td>29.4</td>\n",
       "      <td>OJ</td>\n",
       "      <td>2.0</td>\n",
       "    </tr>\n",
       "    <tr>\n",
       "      <th>59</th>\n",
       "      <td>23.0</td>\n",
       "      <td>OJ</td>\n",
       "      <td>2.0</td>\n",
       "    </tr>\n",
       "  </tbody>\n",
       "</table>\n",
       "</div>"
      ],
      "text/plain": [
       "     len supp  dose\n",
       "0    4.2   VC   0.5\n",
       "1   11.5   VC   0.5\n",
       "2    7.3   VC   0.5\n",
       "3    5.8   VC   0.5\n",
       "4    6.4   VC   0.5\n",
       "5   10.0   VC   0.5\n",
       "6   11.2   VC   0.5\n",
       "7   11.2   VC   0.5\n",
       "8    5.2   VC   0.5\n",
       "9    7.0   VC   0.5\n",
       "10  16.5   VC   1.0\n",
       "11  16.5   VC   1.0\n",
       "12  15.2   VC   1.0\n",
       "13  17.3   VC   1.0\n",
       "14  22.5   VC   1.0\n",
       "15  17.3   VC   1.0\n",
       "16  13.6   VC   1.0\n",
       "17  14.5   VC   1.0\n",
       "18  18.8   VC   1.0\n",
       "19  15.5   VC   1.0\n",
       "20  23.6   VC   2.0\n",
       "21  18.5   VC   2.0\n",
       "22  33.9   VC   2.0\n",
       "23  25.5   VC   2.0\n",
       "24  26.4   VC   2.0\n",
       "25  32.5   VC   2.0\n",
       "26  26.7   VC   2.0\n",
       "27  21.5   VC   2.0\n",
       "28  23.3   VC   2.0\n",
       "29  29.5   VC   2.0\n",
       "30  15.2   OJ   0.5\n",
       "31  21.5   OJ   0.5\n",
       "32  17.6   OJ   0.5\n",
       "33   9.7   OJ   0.5\n",
       "34  14.5   OJ   0.5\n",
       "35  10.0   OJ   0.5\n",
       "36   8.2   OJ   0.5\n",
       "37   9.4   OJ   0.5\n",
       "38  16.5   OJ   0.5\n",
       "39   9.7   OJ   0.5\n",
       "40  19.7   OJ   1.0\n",
       "41  23.3   OJ   1.0\n",
       "42  23.6   OJ   1.0\n",
       "43  26.4   OJ   1.0\n",
       "44  20.0   OJ   1.0\n",
       "45  25.2   OJ   1.0\n",
       "46  25.8   OJ   1.0\n",
       "47  21.2   OJ   1.0\n",
       "48  14.5   OJ   1.0\n",
       "49  27.3   OJ   1.0\n",
       "50  25.5   OJ   2.0\n",
       "51  26.4   OJ   2.0\n",
       "52  22.4   OJ   2.0\n",
       "53  24.5   OJ   2.0\n",
       "54  24.8   OJ   2.0\n",
       "55  30.9   OJ   2.0\n",
       "56  26.4   OJ   2.0\n",
       "57  27.3   OJ   2.0\n",
       "58  29.4   OJ   2.0\n",
       "59  23.0   OJ   2.0"
      ]
     },
     "execution_count": 12,
     "metadata": {},
     "output_type": "execute_result"
    }
   ],
   "source": [
    "df"
   ]
  },
  {
   "cell_type": "markdown",
   "id": "rmfLVwd70eT3",
   "metadata": {
    "id": "rmfLVwd70eT3"
   },
   "source": [
    "To see top 5 rows alone use `df.head()`. Likewise `df.tail` returns the bottom 5 rows."
   ]
  },
  {
   "cell_type": "code",
   "execution_count": null,
   "id": "PiL6Z4mX0eT3",
   "metadata": {
    "id": "PiL6Z4mX0eT3",
    "outputId": "94bce000-605d-40f5-d5bd-6b3186feb25d"
   },
   "outputs": [
    {
     "data": {
      "text/html": [
       "<div>\n",
       "<style scoped>\n",
       "    .dataframe tbody tr th:only-of-type {\n",
       "        vertical-align: middle;\n",
       "    }\n",
       "\n",
       "    .dataframe tbody tr th {\n",
       "        vertical-align: top;\n",
       "    }\n",
       "\n",
       "    .dataframe thead th {\n",
       "        text-align: right;\n",
       "    }\n",
       "</style>\n",
       "<table border=\"1\" class=\"dataframe\">\n",
       "  <thead>\n",
       "    <tr style=\"text-align: right;\">\n",
       "      <th></th>\n",
       "      <th>len</th>\n",
       "      <th>supp</th>\n",
       "      <th>dose</th>\n",
       "    </tr>\n",
       "  </thead>\n",
       "  <tbody>\n",
       "    <tr>\n",
       "      <th>0</th>\n",
       "      <td>4.2</td>\n",
       "      <td>VC</td>\n",
       "      <td>0.5</td>\n",
       "    </tr>\n",
       "    <tr>\n",
       "      <th>1</th>\n",
       "      <td>11.5</td>\n",
       "      <td>VC</td>\n",
       "      <td>0.5</td>\n",
       "    </tr>\n",
       "    <tr>\n",
       "      <th>2</th>\n",
       "      <td>7.3</td>\n",
       "      <td>VC</td>\n",
       "      <td>0.5</td>\n",
       "    </tr>\n",
       "    <tr>\n",
       "      <th>3</th>\n",
       "      <td>5.8</td>\n",
       "      <td>VC</td>\n",
       "      <td>0.5</td>\n",
       "    </tr>\n",
       "    <tr>\n",
       "      <th>4</th>\n",
       "      <td>6.4</td>\n",
       "      <td>VC</td>\n",
       "      <td>0.5</td>\n",
       "    </tr>\n",
       "  </tbody>\n",
       "</table>\n",
       "</div>"
      ],
      "text/plain": [
       "    len supp  dose\n",
       "0   4.2   VC   0.5\n",
       "1  11.5   VC   0.5\n",
       "2   7.3   VC   0.5\n",
       "3   5.8   VC   0.5\n",
       "4   6.4   VC   0.5"
      ]
     },
     "execution_count": 13,
     "metadata": {},
     "output_type": "execute_result"
    }
   ],
   "source": [
    "df.head()"
   ]
  },
  {
   "cell_type": "markdown",
   "id": "pOMNDfRn0eT3",
   "metadata": {
    "id": "pOMNDfRn0eT3"
   },
   "source": [
    "See bottom 5 rows"
   ]
  },
  {
   "cell_type": "code",
   "execution_count": null,
   "id": "fCzYRaxG0eT4",
   "metadata": {
    "id": "fCzYRaxG0eT4",
    "outputId": "a883cf94-fb67-40f8-84cd-6348191ab60e"
   },
   "outputs": [
    {
     "data": {
      "text/html": [
       "<div>\n",
       "<style scoped>\n",
       "    .dataframe tbody tr th:only-of-type {\n",
       "        vertical-align: middle;\n",
       "    }\n",
       "\n",
       "    .dataframe tbody tr th {\n",
       "        vertical-align: top;\n",
       "    }\n",
       "\n",
       "    .dataframe thead th {\n",
       "        text-align: right;\n",
       "    }\n",
       "</style>\n",
       "<table border=\"1\" class=\"dataframe\">\n",
       "  <thead>\n",
       "    <tr style=\"text-align: right;\">\n",
       "      <th></th>\n",
       "      <th>len</th>\n",
       "      <th>supp</th>\n",
       "      <th>dose</th>\n",
       "    </tr>\n",
       "  </thead>\n",
       "  <tbody>\n",
       "    <tr>\n",
       "      <th>55</th>\n",
       "      <td>30.9</td>\n",
       "      <td>OJ</td>\n",
       "      <td>2.0</td>\n",
       "    </tr>\n",
       "    <tr>\n",
       "      <th>56</th>\n",
       "      <td>26.4</td>\n",
       "      <td>OJ</td>\n",
       "      <td>2.0</td>\n",
       "    </tr>\n",
       "    <tr>\n",
       "      <th>57</th>\n",
       "      <td>27.3</td>\n",
       "      <td>OJ</td>\n",
       "      <td>2.0</td>\n",
       "    </tr>\n",
       "    <tr>\n",
       "      <th>58</th>\n",
       "      <td>29.4</td>\n",
       "      <td>OJ</td>\n",
       "      <td>2.0</td>\n",
       "    </tr>\n",
       "    <tr>\n",
       "      <th>59</th>\n",
       "      <td>23.0</td>\n",
       "      <td>OJ</td>\n",
       "      <td>2.0</td>\n",
       "    </tr>\n",
       "  </tbody>\n",
       "</table>\n",
       "</div>"
      ],
      "text/plain": [
       "     len supp  dose\n",
       "55  30.9   OJ   2.0\n",
       "56  26.4   OJ   2.0\n",
       "57  27.3   OJ   2.0\n",
       "58  29.4   OJ   2.0\n",
       "59  23.0   OJ   2.0"
      ]
     },
     "execution_count": 14,
     "metadata": {},
     "output_type": "execute_result"
    }
   ],
   "source": [
    "df.tail()"
   ]
  },
  {
   "cell_type": "markdown",
   "id": "bQvcEdXi0eT4",
   "metadata": {
    "id": "bQvcEdXi0eT4"
   },
   "source": [
    "Shape of the dataframe. For tabular data, it is number of rows and columns."
   ]
  },
  {
   "cell_type": "code",
   "execution_count": null,
   "id": "l03Nngi00eT4",
   "metadata": {
    "id": "l03Nngi00eT4",
    "outputId": "2ddaee6a-89eb-4a2d-d651-04b3dd909798",
    "scrolled": true
   },
   "outputs": [
    {
     "data": {
      "text/plain": [
       "(60, 3)"
      ]
     },
     "execution_count": 15,
     "metadata": {},
     "output_type": "execute_result"
    }
   ],
   "source": [
    "df.shape"
   ]
  },
  {
   "cell_type": "markdown",
   "id": "CmhjgcxI0eT4",
   "metadata": {
    "id": "CmhjgcxI0eT4"
   },
   "source": [
    "To get the underlying numpy array behind the dataframe, use the `.values` attribute."
   ]
  },
  {
   "cell_type": "code",
   "execution_count": null,
   "id": "dYfnX9fS0eT5",
   "metadata": {
    "id": "dYfnX9fS0eT5",
    "outputId": "222e9309-7a6b-4dd3-84bc-f87ce9c039ab"
   },
   "outputs": [
    {
     "data": {
      "text/plain": [
       "array([[4.2, 'VC', 0.5],\n",
       "       [11.5, 'VC', 0.5],\n",
       "       [7.3, 'VC', 0.5],\n",
       "       [5.8, 'VC', 0.5],\n",
       "       [6.4, 'VC', 0.5],\n",
       "       [10.0, 'VC', 0.5],\n",
       "       [11.2, 'VC', 0.5],\n",
       "       [11.2, 'VC', 0.5],\n",
       "       [5.2, 'VC', 0.5],\n",
       "       [7.0, 'VC', 0.5],\n",
       "       [16.5, 'VC', 1.0],\n",
       "       [16.5, 'VC', 1.0],\n",
       "       [15.2, 'VC', 1.0],\n",
       "       [17.3, 'VC', 1.0],\n",
       "       [22.5, 'VC', 1.0],\n",
       "       [17.3, 'VC', 1.0],\n",
       "       [13.6, 'VC', 1.0],\n",
       "       [14.5, 'VC', 1.0],\n",
       "       [18.8, 'VC', 1.0],\n",
       "       [15.5, 'VC', 1.0],\n",
       "       [23.6, 'VC', 2.0],\n",
       "       [18.5, 'VC', 2.0],\n",
       "       [33.9, 'VC', 2.0],\n",
       "       [25.5, 'VC', 2.0],\n",
       "       [26.4, 'VC', 2.0],\n",
       "       [32.5, 'VC', 2.0],\n",
       "       [26.7, 'VC', 2.0],\n",
       "       [21.5, 'VC', 2.0],\n",
       "       [23.3, 'VC', 2.0],\n",
       "       [29.5, 'VC', 2.0],\n",
       "       [15.2, 'OJ', 0.5],\n",
       "       [21.5, 'OJ', 0.5],\n",
       "       [17.6, 'OJ', 0.5],\n",
       "       [9.7, 'OJ', 0.5],\n",
       "       [14.5, 'OJ', 0.5],\n",
       "       [10.0, 'OJ', 0.5],\n",
       "       [8.2, 'OJ', 0.5],\n",
       "       [9.4, 'OJ', 0.5],\n",
       "       [16.5, 'OJ', 0.5],\n",
       "       [9.7, 'OJ', 0.5],\n",
       "       [19.7, 'OJ', 1.0],\n",
       "       [23.3, 'OJ', 1.0],\n",
       "       [23.6, 'OJ', 1.0],\n",
       "       [26.4, 'OJ', 1.0],\n",
       "       [20.0, 'OJ', 1.0],\n",
       "       [25.2, 'OJ', 1.0],\n",
       "       [25.8, 'OJ', 1.0],\n",
       "       [21.2, 'OJ', 1.0],\n",
       "       [14.5, 'OJ', 1.0],\n",
       "       [27.3, 'OJ', 1.0],\n",
       "       [25.5, 'OJ', 2.0],\n",
       "       [26.4, 'OJ', 2.0],\n",
       "       [22.4, 'OJ', 2.0],\n",
       "       [24.5, 'OJ', 2.0],\n",
       "       [24.8, 'OJ', 2.0],\n",
       "       [30.9, 'OJ', 2.0],\n",
       "       [26.4, 'OJ', 2.0],\n",
       "       [27.3, 'OJ', 2.0],\n",
       "       [29.4, 'OJ', 2.0],\n",
       "       [23.0, 'OJ', 2.0]], dtype=object)"
      ]
     },
     "execution_count": 16,
     "metadata": {},
     "output_type": "execute_result"
    }
   ],
   "source": [
    "df.values"
   ]
  },
  {
   "cell_type": "markdown",
   "id": "NerNW9vG0eT5",
   "metadata": {
    "id": "NerNW9vG0eT5"
   },
   "source": [
    "You can import data from text files as well. But mention the separator correctly."
   ]
  },
  {
   "cell_type": "code",
   "execution_count": null,
   "id": "wCng6_mB0eT5",
   "metadata": {
    "id": "wCng6_mB0eT5",
    "outputId": "aad2960b-ff69-4594-aa75-8490016f71c8"
   },
   "outputs": [
    {
     "data": {
      "text/html": [
       "<div>\n",
       "<style scoped>\n",
       "    .dataframe tbody tr th:only-of-type {\n",
       "        vertical-align: middle;\n",
       "    }\n",
       "\n",
       "    .dataframe tbody tr th {\n",
       "        vertical-align: top;\n",
       "    }\n",
       "\n",
       "    .dataframe thead th {\n",
       "        text-align: right;\n",
       "    }\n",
       "</style>\n",
       "<table border=\"1\" class=\"dataframe\">\n",
       "  <thead>\n",
       "    <tr style=\"text-align: right;\">\n",
       "      <th></th>\n",
       "      <th>len</th>\n",
       "      <th>supp</th>\n",
       "      <th>dose</th>\n",
       "    </tr>\n",
       "  </thead>\n",
       "  <tbody>\n",
       "    <tr>\n",
       "      <th>0</th>\n",
       "      <td>4.2</td>\n",
       "      <td>VC</td>\n",
       "      <td>0.5</td>\n",
       "    </tr>\n",
       "    <tr>\n",
       "      <th>1</th>\n",
       "      <td>11.5</td>\n",
       "      <td>VC</td>\n",
       "      <td>0.5</td>\n",
       "    </tr>\n",
       "    <tr>\n",
       "      <th>2</th>\n",
       "      <td>7.3</td>\n",
       "      <td>VC</td>\n",
       "      <td>0.5</td>\n",
       "    </tr>\n",
       "    <tr>\n",
       "      <th>3</th>\n",
       "      <td>5.8</td>\n",
       "      <td>VC</td>\n",
       "      <td>0.5</td>\n",
       "    </tr>\n",
       "    <tr>\n",
       "      <th>4</th>\n",
       "      <td>6.4</td>\n",
       "      <td>VC</td>\n",
       "      <td>0.5</td>\n",
       "    </tr>\n",
       "  </tbody>\n",
       "</table>\n",
       "</div>"
      ],
      "text/plain": [
       "    len supp  dose\n",
       "0   4.2   VC   0.5\n",
       "1  11.5   VC   0.5\n",
       "2   7.3   VC   0.5\n",
       "3   5.8   VC   0.5\n",
       "4   6.4   VC   0.5"
      ]
     },
     "execution_count": 17,
     "metadata": {},
     "output_type": "execute_result"
    }
   ],
   "source": [
    "df = pd.read_table('Datasets/ToothGrowth.txt', sep=',')\n",
    "df.head()"
   ]
  },
  {
   "cell_type": "markdown",
   "id": "tDjx8o1c0eT7",
   "metadata": {
    "id": "tDjx8o1c0eT7"
   },
   "source": [
    "__You can directly read a file from the internet__"
   ]
  },
  {
   "cell_type": "code",
   "execution_count": null,
   "id": "SWZs1uJL0eT7",
   "metadata": {
    "id": "SWZs1uJL0eT7",
    "outputId": "10cd0312-6002-4c25-d30c-222c1e66471b"
   },
   "outputs": [
    {
     "data": {
      "text/html": [
       "<div>\n",
       "<style scoped>\n",
       "    .dataframe tbody tr th:only-of-type {\n",
       "        vertical-align: middle;\n",
       "    }\n",
       "\n",
       "    .dataframe tbody tr th {\n",
       "        vertical-align: top;\n",
       "    }\n",
       "\n",
       "    .dataframe thead th {\n",
       "        text-align: right;\n",
       "    }\n",
       "</style>\n",
       "<table border=\"1\" class=\"dataframe\">\n",
       "  <thead>\n",
       "    <tr style=\"text-align: right;\">\n",
       "      <th></th>\n",
       "      <th>len</th>\n",
       "      <th>supp</th>\n",
       "      <th>dose</th>\n",
       "    </tr>\n",
       "  </thead>\n",
       "  <tbody>\n",
       "    <tr>\n",
       "      <th>0</th>\n",
       "      <td>4.2</td>\n",
       "      <td>VC</td>\n",
       "      <td>0.5</td>\n",
       "    </tr>\n",
       "    <tr>\n",
       "      <th>1</th>\n",
       "      <td>11.5</td>\n",
       "      <td>VC</td>\n",
       "      <td>0.5</td>\n",
       "    </tr>\n",
       "    <tr>\n",
       "      <th>2</th>\n",
       "      <td>7.3</td>\n",
       "      <td>VC</td>\n",
       "      <td>0.5</td>\n",
       "    </tr>\n",
       "    <tr>\n",
       "      <th>3</th>\n",
       "      <td>5.8</td>\n",
       "      <td>VC</td>\n",
       "      <td>0.5</td>\n",
       "    </tr>\n",
       "    <tr>\n",
       "      <th>4</th>\n",
       "      <td>6.4</td>\n",
       "      <td>VC</td>\n",
       "      <td>0.5</td>\n",
       "    </tr>\n",
       "  </tbody>\n",
       "</table>\n",
       "</div>"
      ],
      "text/plain": [
       "    len supp  dose\n",
       "0   4.2   VC   0.5\n",
       "1  11.5   VC   0.5\n",
       "2   7.3   VC   0.5\n",
       "3   5.8   VC   0.5\n",
       "4   6.4   VC   0.5"
      ]
     },
     "execution_count": 18,
     "metadata": {},
     "output_type": "execute_result"
    }
   ],
   "source": [
    "df = pd.read_csv(\"https://raw.githubusercontent.com/selva86/datasets/master/ToothGrowth.csv\")\n",
    "df.head()"
   ]
  },
  {
   "cell_type": "markdown",
   "id": "BoRuw-wD0eT7",
   "metadata": {
    "id": "BoRuw-wD0eT7"
   },
   "source": [
    "__From your clipboard as well__"
   ]
  },
  {
   "cell_type": "code",
   "execution_count": null,
   "id": "4ag3MTsS0eT7",
   "metadata": {
    "id": "4ag3MTsS0eT7",
    "outputId": "46897ae5-c648-48fb-d17f-be3fe490b817",
    "scrolled": false
   },
   "outputs": [
    {
     "data": {
      "text/html": [
       "<div>\n",
       "<style scoped>\n",
       "    .dataframe tbody tr th:only-of-type {\n",
       "        vertical-align: middle;\n",
       "    }\n",
       "\n",
       "    .dataframe tbody tr th {\n",
       "        vertical-align: top;\n",
       "    }\n",
       "\n",
       "    .dataframe thead th {\n",
       "        text-align: right;\n",
       "    }\n",
       "</style>\n",
       "<table border=\"1\" class=\"dataframe\">\n",
       "  <thead>\n",
       "    <tr style=\"text-align: right;\">\n",
       "      <th></th>\n",
       "      <th>len</th>\n",
       "      <th>supp</th>\n",
       "      <th>dose</th>\n",
       "    </tr>\n",
       "  </thead>\n",
       "  <tbody>\n",
       "    <tr>\n",
       "      <th>0</th>\n",
       "      <td>4.2</td>\n",
       "      <td>VC</td>\n",
       "      <td>0.5</td>\n",
       "    </tr>\n",
       "    <tr>\n",
       "      <th>1</th>\n",
       "      <td>11.5</td>\n",
       "      <td>VC</td>\n",
       "      <td>0.5</td>\n",
       "    </tr>\n",
       "    <tr>\n",
       "      <th>2</th>\n",
       "      <td>7.3</td>\n",
       "      <td>VC</td>\n",
       "      <td>0.5</td>\n",
       "    </tr>\n",
       "    <tr>\n",
       "      <th>3</th>\n",
       "      <td>5.8</td>\n",
       "      <td>VC</td>\n",
       "      <td>0.5</td>\n",
       "    </tr>\n",
       "    <tr>\n",
       "      <th>4</th>\n",
       "      <td>6.4</td>\n",
       "      <td>VC</td>\n",
       "      <td>0.5</td>\n",
       "    </tr>\n",
       "  </tbody>\n",
       "</table>\n",
       "</div>"
      ],
      "text/plain": [
       "    len supp  dose\n",
       "0   4.2   VC   0.5\n",
       "1  11.5   VC   0.5\n",
       "2   7.3   VC   0.5\n",
       "3   5.8   VC   0.5\n",
       "4   6.4   VC   0.5"
      ]
     },
     "execution_count": 19,
     "metadata": {},
     "output_type": "execute_result"
    }
   ],
   "source": [
    "df = pd.read_clipboard(sep=\"\\t\")\n",
    "df.head()"
   ]
  },
  {
   "cell_type": "code",
   "execution_count": null,
   "id": "NDj2Kdlu0eT8",
   "metadata": {
    "id": "NDj2Kdlu0eT8",
    "outputId": "624a1326-1b05-46f6-a317-4f8dc63fd78f"
   },
   "outputs": [
    {
     "data": {
      "text/html": [
       "<div>\n",
       "<style scoped>\n",
       "    .dataframe tbody tr th:only-of-type {\n",
       "        vertical-align: middle;\n",
       "    }\n",
       "\n",
       "    .dataframe tbody tr th {\n",
       "        vertical-align: top;\n",
       "    }\n",
       "\n",
       "    .dataframe thead th {\n",
       "        text-align: right;\n",
       "    }\n",
       "</style>\n",
       "<table border=\"1\" class=\"dataframe\">\n",
       "  <thead>\n",
       "    <tr style=\"text-align: right;\">\n",
       "      <th></th>\n",
       "      <th>len</th>\n",
       "      <th>supp</th>\n",
       "      <th>dose</th>\n",
       "    </tr>\n",
       "  </thead>\n",
       "  <tbody>\n",
       "    <tr>\n",
       "      <th>0</th>\n",
       "      <td>4.2</td>\n",
       "      <td>VC</td>\n",
       "      <td>0.5</td>\n",
       "    </tr>\n",
       "    <tr>\n",
       "      <th>1</th>\n",
       "      <td>11.5</td>\n",
       "      <td>VC</td>\n",
       "      <td>0.5</td>\n",
       "    </tr>\n",
       "    <tr>\n",
       "      <th>2</th>\n",
       "      <td>7.3</td>\n",
       "      <td>VC</td>\n",
       "      <td>0.5</td>\n",
       "    </tr>\n",
       "    <tr>\n",
       "      <th>3</th>\n",
       "      <td>5.8</td>\n",
       "      <td>VC</td>\n",
       "      <td>0.5</td>\n",
       "    </tr>\n",
       "    <tr>\n",
       "      <th>4</th>\n",
       "      <td>6.4</td>\n",
       "      <td>VC</td>\n",
       "      <td>0.5</td>\n",
       "    </tr>\n",
       "    <tr>\n",
       "      <th>5</th>\n",
       "      <td>10.0</td>\n",
       "      <td>VC</td>\n",
       "      <td>0.5</td>\n",
       "    </tr>\n",
       "    <tr>\n",
       "      <th>6</th>\n",
       "      <td>11.2</td>\n",
       "      <td>VC</td>\n",
       "      <td>0.5</td>\n",
       "    </tr>\n",
       "    <tr>\n",
       "      <th>7</th>\n",
       "      <td>11.2</td>\n",
       "      <td>VC</td>\n",
       "      <td>0.5</td>\n",
       "    </tr>\n",
       "    <tr>\n",
       "      <th>8</th>\n",
       "      <td>5.2</td>\n",
       "      <td>VC</td>\n",
       "      <td>0.5</td>\n",
       "    </tr>\n",
       "    <tr>\n",
       "      <th>9</th>\n",
       "      <td>7.0</td>\n",
       "      <td>VC</td>\n",
       "      <td>0.5</td>\n",
       "    </tr>\n",
       "    <tr>\n",
       "      <th>10</th>\n",
       "      <td>16.5</td>\n",
       "      <td>VC</td>\n",
       "      <td>1.0</td>\n",
       "    </tr>\n",
       "    <tr>\n",
       "      <th>11</th>\n",
       "      <td>16.5</td>\n",
       "      <td>VC</td>\n",
       "      <td>1.0</td>\n",
       "    </tr>\n",
       "    <tr>\n",
       "      <th>12</th>\n",
       "      <td>15.2</td>\n",
       "      <td>VC</td>\n",
       "      <td>1.0</td>\n",
       "    </tr>\n",
       "  </tbody>\n",
       "</table>\n",
       "</div>"
      ],
      "text/plain": [
       "     len supp  dose\n",
       "0    4.2   VC   0.5\n",
       "1   11.5   VC   0.5\n",
       "2    7.3   VC   0.5\n",
       "3    5.8   VC   0.5\n",
       "4    6.4   VC   0.5\n",
       "5   10.0   VC   0.5\n",
       "6   11.2   VC   0.5\n",
       "7   11.2   VC   0.5\n",
       "8    5.2   VC   0.5\n",
       "9    7.0   VC   0.5\n",
       "10  16.5   VC   1.0\n",
       "11  16.5   VC   1.0\n",
       "12  15.2   VC   1.0"
      ]
     },
     "execution_count": 20,
     "metadata": {},
     "output_type": "execute_result"
    }
   ],
   "source": [
    "df"
   ]
  },
  {
   "cell_type": "markdown",
   "id": "2-NCs79J0eT9",
   "metadata": {
    "id": "2-NCs79J0eT9"
   },
   "source": [
    "Besides this, pandas also support reading files in a variety of file formats such as __pickle__, __fwf__ (fixed width format), __Excel__, __JSON, HTML Tables, HDF Store, Feather, Parquet, ORC, SAS, SPSS, Stata, Sql Queries and Google Big Query__."
   ]
  },
  {
   "cell_type": "markdown",
   "id": "RqxE4e1o0eT9",
   "metadata": {
    "id": "RqxE4e1o0eT9",
    "solution": "shown",
    "solution_first": true
   },
   "source": [
    "### Mini Challenge\n",
    "\n",
    "Convert the following lists to a Pandas DataFrame with two columns and an index.\n",
    "\n",
    "1. \n",
    "```python\n",
    "index = [1,2,3,4,5]\n",
    "col1 = list('abcde')\n",
    "col2 = list('pqrst')\n",
    "```"
   ]
  },
  {
   "cell_type": "code",
   "execution_count": null,
   "id": "_8u7oC9t0eT9",
   "metadata": {
    "id": "_8u7oC9t0eT9",
    "solution": "shown"
   },
   "outputs": [],
   "source": [
    "# Solution 1\n",
    "import pandas as pd\n",
    "index = [1,2,3,4,5]\n",
    "col1 = list('abcde')\n",
    "col2 = list('pqrst')\n",
    "\n",
    "pd.DataFrame({'col1':col1, 'col2':col2}, index=index)"
   ]
  },
  {
   "cell_type": "markdown",
   "id": "BfuGzhlF0eT-",
   "metadata": {
    "id": "BfuGzhlF0eT-",
    "solution": "shown",
    "solution_first": true
   },
   "source": [
    "2.\n",
    "```python\n",
    "# column names: 'name' and 'age'\n",
    "lst = [['Bunny', 25], ['Sunny', 30], \n",
    "       ['Funny', 26], ['Hunny', 22]] \n",
    "```"
   ]
  },
  {
   "cell_type": "code",
   "execution_count": null,
   "id": "xd6sbAtK0eT-",
   "metadata": {
    "id": "xd6sbAtK0eT-",
    "solution": "shown"
   },
   "outputs": [],
   "source": [
    "# Solution 2\n",
    "lst = [['Bunny', 25], \n",
    "       ['Sunny', 30], \n",
    "       ['Funny', 26], \n",
    "       ['Hunny', 22]] \n",
    "\n",
    "df = pd.DataFrame(lst, columns =['name', 'age']) \n",
    "print(df )"
   ]
  },
  {
   "cell_type": "code",
   "execution_count": null,
   "id": "rKefDw040eT_",
   "metadata": {
    "id": "rKefDw040eT_",
    "solution": "shown"
   },
   "outputs": [],
   "source": [
    "https://git.io/Jsvl6"
   ]
  },
  {
   "cell_type": "code",
   "execution_count": null,
   "id": "dpODPQuJ0eT_",
   "metadata": {
    "id": "dpODPQuJ0eT_"
   },
   "outputs": [],
   "source": []
  },
  {
   "cell_type": "code",
   "execution_count": null,
   "id": "9qn9gX-L0eT_",
   "metadata": {
    "id": "9qn9gX-L0eT_"
   },
   "outputs": [],
   "source": []
  },
  {
   "cell_type": "code",
   "execution_count": null,
   "id": "-NRHoGLP0eT_",
   "metadata": {
    "id": "-NRHoGLP0eT_"
   },
   "outputs": [],
   "source": []
  },
  {
   "cell_type": "code",
   "execution_count": null,
   "id": "MaFYMZ1e0eT_",
   "metadata": {
    "id": "MaFYMZ1e0eT_"
   },
   "outputs": [],
   "source": []
  },
  {
   "cell_type": "code",
   "execution_count": null,
   "id": "kqtiHkZB0eT_",
   "metadata": {
    "id": "kqtiHkZB0eT_"
   },
   "outputs": [],
   "source": []
  },
  {
   "cell_type": "code",
   "execution_count": null,
   "id": "isioOLeJ0eUA",
   "metadata": {
    "id": "isioOLeJ0eUA"
   },
   "outputs": [],
   "source": []
  },
  {
   "cell_type": "code",
   "execution_count": null,
   "id": "Vg2-O_tc0eUA",
   "metadata": {
    "id": "Vg2-O_tc0eUA"
   },
   "outputs": [],
   "source": []
  },
  {
   "cell_type": "code",
   "execution_count": null,
   "id": "YcHdbGuN0eUA",
   "metadata": {
    "id": "YcHdbGuN0eUA"
   },
   "outputs": [],
   "source": []
  },
  {
   "cell_type": "markdown",
   "id": "tQgJxvkL0eUA",
   "metadata": {
    "id": "tQgJxvkL0eUA"
   },
   "source": [
    " <div class=\"alert alert-info\" style=\"background-color:#006666; color:white; padding:0px 10px; border-radius:5px;\"><h2 style='margin:10px 5px'>3. Series and its relation with Dataframe</h2>\n",
    "</div>"
   ]
  },
  {
   "cell_type": "markdown",
   "id": "_icHR1-G0eUB",
   "metadata": {
    "id": "_icHR1-G0eUB"
   },
   "source": [
    "A `Series` is a type that is used to store one column only. You can think of a Series as one column of a `DataFrame` extracted.\n",
    "\n",
    "Series is very similar to a NumPy array, with a main difference that it has an index label for each observation. "
   ]
  },
  {
   "cell_type": "code",
   "execution_count": null,
   "id": "vPA-ktal0eUB",
   "metadata": {
    "id": "vPA-ktal0eUB"
   },
   "outputs": [],
   "source": [
    "import numpy as np\n",
    "import pandas as pd"
   ]
  },
  {
   "cell_type": "markdown",
   "id": "sYNWGlPo0eUB",
   "metadata": {
    "id": "sYNWGlPo0eUB"
   },
   "source": [
    "__Relationship between a Series and a DataFrame__\n",
    "\n",
    "If you extract any given column from a DataFrame, the resulting object is a Series. "
   ]
  },
  {
   "cell_type": "code",
   "execution_count": null,
   "id": "Y1Z40igK0eUB",
   "metadata": {
    "id": "Y1Z40igK0eUB",
    "outputId": "6d018ae2-85e8-4502-a5b5-b35faeffd34a"
   },
   "outputs": [
    {
     "data": {
      "text/html": [
       "<div>\n",
       "<style scoped>\n",
       "    .dataframe tbody tr th:only-of-type {\n",
       "        vertical-align: middle;\n",
       "    }\n",
       "\n",
       "    .dataframe tbody tr th {\n",
       "        vertical-align: top;\n",
       "    }\n",
       "\n",
       "    .dataframe thead th {\n",
       "        text-align: right;\n",
       "    }\n",
       "</style>\n",
       "<table border=\"1\" class=\"dataframe\">\n",
       "  <thead>\n",
       "    <tr style=\"text-align: right;\">\n",
       "      <th></th>\n",
       "      <th>a</th>\n",
       "      <th>b</th>\n",
       "      <th>c</th>\n",
       "      <th>d</th>\n",
       "    </tr>\n",
       "  </thead>\n",
       "  <tbody>\n",
       "    <tr>\n",
       "      <th>0</th>\n",
       "      <td>25</td>\n",
       "      <td>16</td>\n",
       "      <td>61</td>\n",
       "      <td>59</td>\n",
       "    </tr>\n",
       "    <tr>\n",
       "      <th>1</th>\n",
       "      <td>17</td>\n",
       "      <td>10</td>\n",
       "      <td>94</td>\n",
       "      <td>87</td>\n",
       "    </tr>\n",
       "    <tr>\n",
       "      <th>2</th>\n",
       "      <td>3</td>\n",
       "      <td>28</td>\n",
       "      <td>5</td>\n",
       "      <td>32</td>\n",
       "    </tr>\n",
       "    <tr>\n",
       "      <th>3</th>\n",
       "      <td>2</td>\n",
       "      <td>14</td>\n",
       "      <td>84</td>\n",
       "      <td>5</td>\n",
       "    </tr>\n",
       "    <tr>\n",
       "      <th>4</th>\n",
       "      <td>92</td>\n",
       "      <td>60</td>\n",
       "      <td>68</td>\n",
       "      <td>8</td>\n",
       "    </tr>\n",
       "  </tbody>\n",
       "</table>\n",
       "</div>"
      ],
      "text/plain": [
       "    a   b   c   d\n",
       "0  25  16  61  59\n",
       "1  17  10  94  87\n",
       "2   3  28   5  32\n",
       "3   2  14  84   5\n",
       "4  92  60  68   8"
      ]
     },
     "execution_count": 22,
     "metadata": {},
     "output_type": "execute_result"
    }
   ],
   "source": [
    "df = pd.DataFrame(np.random.randint(1,100, (5,4)), columns=list('abcd'))\n",
    "df"
   ]
  },
  {
   "cell_type": "code",
   "execution_count": null,
   "id": "aLOaW4FA0eUC",
   "metadata": {
    "id": "aLOaW4FA0eUC",
    "outputId": "50986b43-8e41-4252-8a2d-789b3a936928"
   },
   "outputs": [
    {
     "data": {
      "text/plain": [
       "0    25\n",
       "1    17\n",
       "2     3\n",
       "3     2\n",
       "4    92\n",
       "Name: a, dtype: int32"
      ]
     },
     "execution_count": 23,
     "metadata": {},
     "output_type": "execute_result"
    }
   ],
   "source": [
    "df['a']"
   ]
  },
  {
   "cell_type": "code",
   "execution_count": null,
   "id": "Ove61zZb0eUC",
   "metadata": {
    "id": "Ove61zZb0eUC",
    "outputId": "4d603e35-e39b-490b-ffc2-54dc49134f8e"
   },
   "outputs": [
    {
     "data": {
      "text/plain": [
       "pandas.core.series.Series"
      ]
     },
     "execution_count": 24,
     "metadata": {},
     "output_type": "execute_result"
    }
   ],
   "source": [
    "type(df['a'])"
   ]
  },
  {
   "cell_type": "markdown",
   "id": "gqyu7YR30eUD",
   "metadata": {
    "id": "gqyu7YR30eUD"
   },
   "source": [
    "From this you can use indexing to get specific elements."
   ]
  },
  {
   "cell_type": "code",
   "execution_count": null,
   "id": "_CP2fTvj0eUD",
   "metadata": {
    "id": "_CP2fTvj0eUD",
    "outputId": "78ed1c26-9ea6-4593-a507-62bf7e8fe429",
    "scrolled": true
   },
   "outputs": [
    {
     "data": {
      "text/plain": [
       "0    25\n",
       "1    17\n",
       "2     3\n",
       "Name: a, dtype: int32"
      ]
     },
     "execution_count": 25,
     "metadata": {},
     "output_type": "execute_result"
    }
   ],
   "source": [
    "df['a'][0:3]"
   ]
  },
  {
   "cell_type": "markdown",
   "id": "MMEw4ECM0eUD",
   "metadata": {
    "id": "MMEw4ECM0eUD"
   },
   "source": [
    "To get the numpy array, use `.values`."
   ]
  },
  {
   "cell_type": "code",
   "execution_count": null,
   "id": "aVSgNjks0eUD",
   "metadata": {
    "id": "aVSgNjks0eUD",
    "outputId": "d7406230-b758-43f6-a41a-4abdbcfd857f"
   },
   "outputs": [
    {
     "data": {
      "text/plain": [
       "array([25, 17,  3])"
      ]
     },
     "execution_count": 26,
     "metadata": {},
     "output_type": "execute_result"
    }
   ],
   "source": [
    "df['a'][0:3].values"
   ]
  },
  {
   "cell_type": "markdown",
   "id": "RcjC7Zpm0eUE",
   "metadata": {
    "id": "RcjC7Zpm0eUE"
   },
   "source": [
    "You can further convert it to a list."
   ]
  },
  {
   "cell_type": "code",
   "execution_count": null,
   "id": "CVNCGbaC0eUE",
   "metadata": {
    "id": "CVNCGbaC0eUE",
    "outputId": "837525cd-189a-4f1e-9eea-39cddbe18b7b"
   },
   "outputs": [
    {
     "data": {
      "text/plain": [
       "[25, 17, 3]"
      ]
     },
     "execution_count": 27,
     "metadata": {},
     "output_type": "execute_result"
    }
   ],
   "source": [
    "df['a'][0:3].values.tolist()"
   ]
  },
  {
   "cell_type": "markdown",
   "id": "FNMm3Jov0eUF",
   "metadata": {
    "id": "FNMm3Jov0eUF"
   },
   "source": [
    "__Create a standalone Series object__"
   ]
  },
  {
   "cell_type": "code",
   "execution_count": null,
   "id": "9aOjI-NG0eUF",
   "metadata": {
    "id": "9aOjI-NG0eUF",
    "outputId": "e7ec0956-d050-417e-ca71-28713c16d0cc"
   },
   "outputs": [
    {
     "data": {
      "text/plain": [
       "0    0\n",
       "1    1\n",
       "2    2\n",
       "3    3\n",
       "4    4\n",
       "5    5\n",
       "6    6\n",
       "7    7\n",
       "8    8\n",
       "9    9\n",
       "Name: numbers, dtype: int32"
      ]
     },
     "execution_count": 28,
     "metadata": {},
     "output_type": "execute_result"
    }
   ],
   "source": [
    "data = np.arange(10)\n",
    "index = ['a', 'b', 'c', 'd', 'e', 'f', 'g', 'h', 'i', 'j']\n",
    "\n",
    "ser = pd.Series(data=data, name='numbers')  # name is optional. \n",
    "ser\n",
    "\n",
    "# IF you don't provide index, pandas will create a default starting with 0 "
   ]
  },
  {
   "cell_type": "code",
   "execution_count": null,
   "id": "Ub_wIRIu0eUG",
   "metadata": {
    "id": "Ub_wIRIu0eUG",
    "outputId": "a8cd8f7a-607e-4b71-cce6-4b2b7a40e426"
   },
   "outputs": [
    {
     "data": {
      "text/plain": [
       "a    0\n",
       "b    1\n",
       "c    2\n",
       "d    3\n",
       "e    4\n",
       "f    5\n",
       "g    6\n",
       "h    7\n",
       "i    8\n",
       "j    9\n",
       "Name: numbers, dtype: int32"
      ]
     },
     "execution_count": 29,
     "metadata": {},
     "output_type": "execute_result"
    }
   ],
   "source": [
    "ser = pd.Series(data=data, index=index, name='numbers')  # name is optional. \n",
    "ser"
   ]
  },
  {
   "cell_type": "code",
   "execution_count": null,
   "id": "5fiErHph0eUG",
   "metadata": {
    "id": "5fiErHph0eUG",
    "outputId": "d23bc7da-18ad-41e9-ad08-fa546dd09dcd"
   },
   "outputs": [
    {
     "data": {
      "text/plain": [
       "pandas.core.series.Series"
      ]
     },
     "execution_count": 30,
     "metadata": {},
     "output_type": "execute_result"
    }
   ],
   "source": [
    "type(ser)"
   ]
  },
  {
   "cell_type": "markdown",
   "id": "ll3CnNox0eUH",
   "metadata": {
    "id": "ll3CnNox0eUH"
   },
   "source": [
    "Series are vectorized objects by default. Ex: To multiply every item by 2, you don't have to write a for-loop. Just multiply the series by 2"
   ]
  },
  {
   "cell_type": "code",
   "execution_count": null,
   "id": "Pd3lD1L-0eUH",
   "metadata": {
    "id": "Pd3lD1L-0eUH",
    "outputId": "8e1b0f25-2689-4f76-ce4f-2391d9f2eb60"
   },
   "outputs": [
    {
     "data": {
      "text/plain": [
       "a     0\n",
       "b     2\n",
       "c     4\n",
       "d     6\n",
       "e     8\n",
       "f    10\n",
       "g    12\n",
       "h    14\n",
       "i    16\n",
       "j    18\n",
       "Name: numbers, dtype: int32"
      ]
     },
     "execution_count": 31,
     "metadata": {},
     "output_type": "execute_result"
    }
   ],
   "source": [
    "ser * 2"
   ]
  },
  {
   "cell_type": "markdown",
   "id": "3n6zfUlD0eUI",
   "metadata": {
    "id": "3n6zfUlD0eUI"
   },
   "source": [
    "__Extract an item__"
   ]
  },
  {
   "cell_type": "code",
   "execution_count": null,
   "id": "aPOA0vzh0eUI",
   "metadata": {
    "id": "aPOA0vzh0eUI",
    "outputId": "c930a442-ca86-4df9-81e2-a6748b5b679d",
    "scrolled": true
   },
   "outputs": [
    {
     "data": {
      "text/plain": [
       "1"
      ]
     },
     "execution_count": 32,
     "metadata": {},
     "output_type": "execute_result"
    }
   ],
   "source": [
    "ser['b']"
   ]
  },
  {
   "cell_type": "markdown",
   "id": "vNlqJkZW0eUI",
   "metadata": {
    "id": "vNlqJkZW0eUI"
   },
   "source": [
    "To extract more than one item, put all the item labels in a list and pass that list as argument."
   ]
  },
  {
   "cell_type": "markdown",
   "id": "ROG2ndBO0eUJ",
   "metadata": {
    "id": "ROG2ndBO0eUJ"
   },
   "source": [
    "This won't work. Because, Series is one dimensional object and therefore will accept only one argument."
   ]
  },
  {
   "cell_type": "code",
   "execution_count": null,
   "id": "vGcCnvKw0eUJ",
   "metadata": {
    "id": "vGcCnvKw0eUJ"
   },
   "outputs": [],
   "source": [
    "# This wont work\n",
    "# ser['a', 'b']"
   ]
  },
  {
   "cell_type": "markdown",
   "id": "X8NQHWm70eUJ",
   "metadata": {
    "id": "X8NQHWm70eUJ"
   },
   "source": [
    "So, pass all arguments in a square bracket."
   ]
  },
  {
   "cell_type": "code",
   "execution_count": null,
   "id": "8jUvtpbC0eUJ",
   "metadata": {
    "id": "8jUvtpbC0eUJ",
    "outputId": "064e7878-4634-4736-ecd3-15810336b334"
   },
   "outputs": [
    {
     "data": {
      "text/plain": [
       "a    0\n",
       "b    1\n",
       "Name: numbers, dtype: int32"
      ]
     },
     "execution_count": 33,
     "metadata": {},
     "output_type": "execute_result"
    }
   ],
   "source": [
    "ser[['a', 'b']]"
   ]
  },
  {
   "cell_type": "markdown",
   "id": "mFWAn75O0eUK",
   "metadata": {
    "id": "mFWAn75O0eUK"
   },
   "source": [
    "You can extract the index as well."
   ]
  },
  {
   "cell_type": "code",
   "execution_count": null,
   "id": "C8kIFlgP0eUL",
   "metadata": {
    "id": "C8kIFlgP0eUL",
    "outputId": "fceecbd0-6fb3-4eea-b164-86f66eb1b200"
   },
   "outputs": [
    {
     "data": {
      "text/plain": [
       "Index(['a', 'b', 'c', 'd', 'e', 'f', 'g', 'h', 'i', 'j'], dtype='object')"
      ]
     },
     "execution_count": 34,
     "metadata": {},
     "output_type": "execute_result"
    }
   ],
   "source": [
    "# method 1\n",
    "ser.index"
   ]
  },
  {
   "cell_type": "code",
   "execution_count": null,
   "id": "UMbaqAr60eUL",
   "metadata": {
    "id": "UMbaqAr60eUL",
    "outputId": "7f74d3db-166d-4f5b-cf60-ef558651498e"
   },
   "outputs": [
    {
     "data": {
      "text/plain": [
       "Index(['a', 'b', 'c', 'd', 'e', 'f', 'g', 'h', 'i', 'j'], dtype='object')"
      ]
     },
     "execution_count": 35,
     "metadata": {},
     "output_type": "execute_result"
    }
   ],
   "source": [
    "# method 2\n",
    "ser.keys()"
   ]
  },
  {
   "cell_type": "markdown",
   "id": "DzR-_W_p0eUL",
   "metadata": {
    "id": "DzR-_W_p0eUL"
   },
   "source": [
    "Also if you simply extract one column from a DataFrame, it becomes a Series. So, you can think of a DataFrame as a 'column-wise arrangement of Series'."
   ]
  },
  {
   "cell_type": "markdown",
   "id": "9kl3G7pE0eUM",
   "metadata": {
    "id": "9kl3G7pE0eUM"
   },
   "source": [
    "You can __create a `series` from a `dict` as well__"
   ]
  },
  {
   "cell_type": "code",
   "execution_count": null,
   "id": "aCRf24lD0eUP",
   "metadata": {
    "id": "aCRf24lD0eUP"
   },
   "outputs": [],
   "source": [
    "d1 = {'a': 0, 'b':1, 'c':3}\n",
    "d2 = {'b': 0, 'c':1, 'd':3}"
   ]
  },
  {
   "cell_type": "code",
   "execution_count": null,
   "id": "Irph-pmb0eUP",
   "metadata": {
    "id": "Irph-pmb0eUP",
    "outputId": "28a6b300-f637-43e6-d0cd-8efdef9b684c"
   },
   "outputs": [
    {
     "data": {
      "text/plain": [
       "a    0\n",
       "b    1\n",
       "c    3\n",
       "dtype: int64"
      ]
     },
     "execution_count": 38,
     "metadata": {},
     "output_type": "execute_result"
    }
   ],
   "source": [
    "ser1 = pd.Series(d1)\n",
    "ser2 = pd.Series(d2)\n",
    "ser1"
   ]
  },
  {
   "cell_type": "code",
   "execution_count": null,
   "id": "xSXuw-Fl0eUQ",
   "metadata": {
    "id": "xSXuw-Fl0eUQ",
    "outputId": "fd1f8c64-d649-40b3-93e9-af6b9feaf77b"
   },
   "outputs": [
    {
     "data": {
      "text/plain": [
       "b    0\n",
       "c    1\n",
       "d    3\n",
       "dtype: int64"
      ]
     },
     "execution_count": 39,
     "metadata": {},
     "output_type": "execute_result"
    }
   ],
   "source": [
    "ser2"
   ]
  },
  {
   "cell_type": "markdown",
   "id": "r7IZWZz80eUQ",
   "metadata": {
    "id": "r7IZWZz80eUQ"
   },
   "source": [
    "__Addition__"
   ]
  },
  {
   "cell_type": "code",
   "execution_count": null,
   "id": "qgoVuJFM0eUQ",
   "metadata": {
    "id": "qgoVuJFM0eUQ",
    "outputId": "5d5cafca-fc3f-44e0-da61-60f63d26993d"
   },
   "outputs": [
    {
     "data": {
      "text/plain": [
       "a    NaN\n",
       "b    1.0\n",
       "c    4.0\n",
       "d    NaN\n",
       "dtype: float64"
      ]
     },
     "execution_count": 40,
     "metadata": {},
     "output_type": "execute_result"
    }
   ],
   "source": [
    "ser1 + ser2"
   ]
  },
  {
   "cell_type": "markdown",
   "id": "fqhhx2Nq0eUR",
   "metadata": {
    "id": "fqhhx2Nq0eUR"
   },
   "source": [
    "In place of missing value, use zero for computation."
   ]
  },
  {
   "cell_type": "code",
   "execution_count": null,
   "id": "QGYPuI0h0eUR",
   "metadata": {
    "id": "QGYPuI0h0eUR",
    "outputId": "f27754a1-b952-4933-b1d7-b8bf920e9a51"
   },
   "outputs": [
    {
     "data": {
      "text/plain": [
       "a    0.0\n",
       "b    1.0\n",
       "c    4.0\n",
       "d    3.0\n",
       "dtype: float64"
      ]
     },
     "execution_count": 41,
     "metadata": {},
     "output_type": "execute_result"
    }
   ],
   "source": [
    "ser1.add(ser2, fill_value=0)"
   ]
  },
  {
   "cell_type": "markdown",
   "id": "fHDHj8fp0eUR",
   "metadata": {
    "id": "fHDHj8fp0eUR"
   },
   "source": [
    "### Mini Challenge"
   ]
  },
  {
   "cell_type": "markdown",
   "id": "uNxylJLR0eUR",
   "metadata": {
    "id": "uNxylJLR0eUR"
   },
   "source": [
    "For the given series, compute the differences between successive elements.\n",
    "\n",
    "__Input__\n",
    "```python\n",
    "np.random.seed(101)\n",
    "ser = pd.Series(np.random.randint(1,100, 10))\n",
    "ser\n",
    "#> 0    96\n",
    "#> 1    12\n",
    "#> 2    82\n",
    "#> 3    71\n",
    "#> 4    64\n",
    "#> 5    88\n",
    "#> 6    76\n",
    "#> 7    10\n",
    "#> 8    78\n",
    "#> 9    41\n",
    "#> dtype: int32\n",
    "```\n",
    "\n",
    "__Desired Output__\n",
    "\n",
    "```\n",
    "#> [-84,  70, -11,  -7,  24, -12, -66,  68, -37]\n",
    "```"
   ]
  },
  {
   "cell_type": "code",
   "execution_count": null,
   "id": "87lXuqjn0eUS",
   "metadata": {
    "id": "87lXuqjn0eUS",
    "outputId": "d666763f-45b9-4f5c-ca3f-1c5db7c32afe"
   },
   "outputs": [
    {
     "data": {
      "text/plain": [
       "0    96\n",
       "1    12\n",
       "2    82\n",
       "3    71\n",
       "4    64\n",
       "5    88\n",
       "6    76\n",
       "7    10\n",
       "8    78\n",
       "9    41\n",
       "dtype: int32"
      ]
     },
     "execution_count": 42,
     "metadata": {},
     "output_type": "execute_result"
    }
   ],
   "source": [
    "np.random.seed(101)\n",
    "ser = pd.Series(np.random.randint(1,100, 10))\n",
    "ser"
   ]
  },
  {
   "cell_type": "markdown",
   "id": "jBVLnz2C0eUS",
   "metadata": {
    "id": "jBVLnz2C0eUS"
   },
   "source": [
    "If you just subtract the series the result will not be as intended, because the subtraction happens after aligning the indexes."
   ]
  },
  {
   "cell_type": "code",
   "execution_count": null,
   "id": "GyM_7YK30eUS",
   "metadata": {
    "id": "GyM_7YK30eUS",
    "outputId": "f96bfabb-7ac3-4b54-d22c-08de61a6918a"
   },
   "outputs": [
    {
     "data": {
      "text/plain": [
       "0    NaN\n",
       "1    0.0\n",
       "2    0.0\n",
       "3    0.0\n",
       "4    0.0\n",
       "5    0.0\n",
       "6    0.0\n",
       "7    0.0\n",
       "8    0.0\n",
       "9    NaN\n",
       "dtype: float64"
      ]
     },
     "execution_count": 43,
     "metadata": {},
     "output_type": "execute_result"
    }
   ],
   "source": [
    "ser[1:] - ser[:-1]"
   ]
  },
  {
   "cell_type": "markdown",
   "id": "cCf0LTZZ0eUS",
   "metadata": {
    "id": "cCf0LTZZ0eUS"
   },
   "source": [
    "So convert to a numpy array and then do subtraction."
   ]
  },
  {
   "cell_type": "code",
   "execution_count": null,
   "id": "G6s_nzrS0eUT",
   "metadata": {
    "id": "G6s_nzrS0eUT",
    "outputId": "8028b7c2-208c-40e5-c8d9-ca1d86fa401b"
   },
   "outputs": [
    {
     "data": {
      "text/plain": [
       "array([-84,  70, -11,  -7,  24, -12, -66,  68, -37])"
      ]
     },
     "execution_count": 44,
     "metadata": {},
     "output_type": "execute_result"
    }
   ],
   "source": [
    "ser.values[1:] - ser.values[:-1]"
   ]
  },
  {
   "cell_type": "code",
   "execution_count": null,
   "id": "2HP8PBRj0eUT",
   "metadata": {
    "id": "2HP8PBRj0eUT",
    "outputId": "0cb38cdb-5c9a-4dff-d14b-33ae313b979c"
   },
   "outputs": [
    {
     "data": {
      "text/plain": [
       "[-84, 70, -11, -7, 24, -12, -66, 68, -37]"
      ]
     },
     "execution_count": 45,
     "metadata": {},
     "output_type": "execute_result"
    }
   ],
   "source": [
    "out = ser.values[1:] - ser.values[:-1]\n",
    "out.tolist()"
   ]
  },
  {
   "cell_type": "markdown",
   "id": "T4S6flOz0eUT",
   "metadata": {
    "id": "T4S6flOz0eUT"
   },
   "source": [
    "Or simply use the in-built `diff()` method. \n",
    "\n",
    "Don't bother about this new method at the moment, we will be covering all functions you need to know as we go through the course."
   ]
  },
  {
   "cell_type": "code",
   "execution_count": null,
   "id": "8ZCIYphy0eUT",
   "metadata": {
    "id": "8ZCIYphy0eUT",
    "outputId": "3a7d1feb-edb4-42ce-da6c-8f2ffad708f0"
   },
   "outputs": [
    {
     "data": {
      "text/plain": [
       "0     NaN\n",
       "1   -84.0\n",
       "2    70.0\n",
       "3   -11.0\n",
       "4    -7.0\n",
       "5    24.0\n",
       "6   -12.0\n",
       "7   -66.0\n",
       "8    68.0\n",
       "9   -37.0\n",
       "dtype: float64"
      ]
     },
     "execution_count": 46,
     "metadata": {},
     "output_type": "execute_result"
    }
   ],
   "source": [
    "ser.diff()"
   ]
  },
  {
   "cell_type": "code",
   "execution_count": null,
   "id": "nyyf05XF0eUU",
   "metadata": {
    "id": "nyyf05XF0eUU"
   },
   "outputs": [],
   "source": []
  }
 ],
 "metadata": {
  "colab": {
   "collapsed_sections": [
    "RqxE4e1o0eT9",
    "fHDHj8fp0eUR"
   ],
   "name": "01_Introduction_to_Pandas.ipynb",
   "provenance": []
  },
  "hide_input": false,
  "kernelspec": {
   "display_name": "base",
   "language": "python",
   "name": "python3"
  },
  "language_info": {
   "codemirror_mode": {
    "name": "ipython",
    "version": 3
   },
   "file_extension": ".py",
   "mimetype": "text/x-python",
   "name": "python",
   "nbconvert_exporter": "python",
   "pygments_lexer": "ipython3",
   "version": "3.12.7"
  },
  "toc": {
   "base_numbering": 1,
   "nav_menu": {},
   "number_sections": false,
   "sideBar": true,
   "skip_h1_title": false,
   "title_cell": "Table of Contents",
   "title_sidebar": "Contents",
   "toc_cell": false,
   "toc_position": {
    "height": "calc(100% - 180px)",
    "left": "10px",
    "top": "150px",
    "width": "387.2px"
   },
   "toc_section_display": true,
   "toc_window_display": false
  }
 },
 "nbformat": 4,
 "nbformat_minor": 5
}
