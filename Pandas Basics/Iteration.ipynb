{
 "cells": [
  {
   "cell_type": "markdown",
   "metadata": {},
   "source": [
    "Iteration can be through many methods"
   ]
  },
  {
   "cell_type": "markdown",
   "metadata": {},
   "source": [
    "# __Looping Through Rows Using iterrows()__"
   ]
  },
  {
   "cell_type": "markdown",
   "metadata": {},
   "source": [
    "This method allows you to iterate over rows in a DataFrame as pairs of index and row Series.\n"
   ]
  },
  {
   "cell_type": "code",
   "execution_count": 4,
   "metadata": {},
   "outputs": [
    {
     "name": "stdout",
     "output_type": "stream",
     "text": [
      "Index: 0, Name: Alice, Age: 25\n",
      "Index: 1, Name: Bob, Age: 30\n"
     ]
    }
   ],
   "source": [
    "import pandas as pd\n",
    "\n",
    "df = pd.DataFrame({'Name': ['Alice', 'Bob'], 'Age': [25, 30]})\n",
    "\n",
    "# Iterate through rows\n",
    "for index, row in df.iterrows():\n",
    "    print(f\"Index: {index}, Name: {row['Name']}, Age: {row['Age']}\")\n"
   ]
  },
  {
   "cell_type": "markdown",
   "metadata": {},
   "source": [
    "When to Use iterrows()\n",
    "\n",
    "Use when you need row-wise processing and the operation is not vectorizable.\n",
    "\n",
    "Drawback: Slow for large DataFrames, as it converts rows into Series objects, which is inefficient."
   ]
  },
  {
   "cell_type": "markdown",
   "metadata": {},
   "source": [
    "# __Using itertuples() (Faster Alternative)__\n",
    "\n",
    "This method returns each row as a named tuple, making it faster than iterrows()."
   ]
  },
  {
   "cell_type": "code",
   "execution_count": 2,
   "metadata": {},
   "outputs": [
    {
     "name": "stdout",
     "output_type": "stream",
     "text": [
      "Index: 0, Name: Alice, Age: 25\n",
      "Index: 1, Name: Bob, Age: 30\n"
     ]
    }
   ],
   "source": [
    "for row in df.itertuples():\n",
    "    print(f\"Index: {row.Index}, Name: {row.Name}, Age: {row.Age}\")\n"
   ]
  },
  {
   "cell_type": "markdown",
   "metadata": {},
   "source": [
    "## __Row-Wise Custom Logic Using Loops__"
   ]
  },
  {
   "cell_type": "code",
   "execution_count": 5,
   "metadata": {},
   "outputs": [
    {
     "name": "stdout",
     "output_type": "stream",
     "text": [
      "    Name  Age Category\n",
      "0  Alice   25  Younger\n",
      "1    Bob   30    Older\n"
     ]
    }
   ],
   "source": [
    "# Add a new column based on a custom condition\n",
    "for index, row in df.iterrows():\n",
    "    if row['Age'] > 26:\n",
    "        df.loc[index, 'Category'] = 'Older'\n",
    "    else:\n",
    "        df.loc[index, 'Category'] = 'Younger'\n",
    "\n",
    "print(df)\n"
   ]
  },
  {
   "cell_type": "markdown",
   "metadata": {},
   "source": [
    "# __2. Looping Through Columns__\n",
    "\n",
    "You can loop through the columns of a DataFrame using for col in df.columns"
   ]
  },
  {
   "cell_type": "code",
   "execution_count": 6,
   "metadata": {},
   "outputs": [
    {
     "name": "stdout",
     "output_type": "stream",
     "text": [
      "Column: Name, Values: ['Alice' 'Bob']\n",
      "Column: Age, Values: [25 30]\n",
      "Column: Category, Values: ['Younger' 'Older']\n"
     ]
    }
   ],
   "source": [
    "for col in df.columns:\n",
    "    print(f\"Column: {col}, Values: {df[col].values}\")"
   ]
  }
 ],
 "metadata": {
  "kernelspec": {
   "display_name": "Python 3",
   "language": "python",
   "name": "python3"
  },
  "language_info": {
   "codemirror_mode": {
    "name": "ipython",
    "version": 3
   },
   "file_extension": ".py",
   "mimetype": "text/x-python",
   "name": "python",
   "nbconvert_exporter": "python",
   "pygments_lexer": "ipython3",
   "version": "3.13.0"
  }
 },
 "nbformat": 4,
 "nbformat_minor": 2
}
