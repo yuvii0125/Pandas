{
 "cells": [
  {
   "cell_type": "markdown",
   "metadata": {},
   "source": [
    "# Random Sampling in Pandas\n",
    "In this notebook, we'll explore how to perform random sampling in Pandas using the `sample()` method. Random sampling is useful for creating subsets of data for analysis, training/testing, or bootstrapping."
   ]
  },
  {
   "cell_type": "markdown",
   "metadata": {},
   "source": [
    "## 1. Basic Random Sampling\n",
    "Use the `sample()` method to randomly sample a specified number of rows."
   ]
  },
  {
   "cell_type": "code",
   "execution_count": 1,
   "metadata": {},
   "outputs": [
    {
     "name": "stdout",
     "output_type": "stream",
     "text": [
      "   A   B\n",
      "4  5  50\n",
      "0  1  10\n"
     ]
    }
   ],
   "source": [
    "import pandas as pd\n",
    "\n",
    "# Sample DataFrame\n",
    "data = {'A': [1, 2, 3, 4, 5], 'B': [10, 20, 30, 40, 50]}\n",
    "df = pd.DataFrame(data)\n",
    "\n",
    "# Randomly sample 2 rows\n",
    "sampled_df = df.sample(n=2)\n",
    "print(sampled_df)"
   ]
  },
  {
   "cell_type": "markdown",
   "metadata": {},
   "source": [
    "## 2. Sampling with a Fraction of the Data\n",
    "Instead of specifying the number of rows, you can sample a fraction of the data using the `frac` parameter."
   ]
  },
  {
   "cell_type": "code",
   "execution_count": 2,
   "metadata": {},
   "outputs": [
    {
     "name": "stdout",
     "output_type": "stream",
     "text": [
      "   A   B\n",
      "1  2  20\n",
      "2  3  30\n"
     ]
    }
   ],
   "source": [
    "# Sample 40% of the rows\n",
    "sampled_df = df.sample(frac=0.4)\n",
    "print(sampled_df)"
   ]
  },
  {
   "cell_type": "markdown",
   "metadata": {},
   "source": [
    "## 3. Random Sampling with Reproducibility\n",
    "To ensure reproducibility (getting the same random sample every time), set a random seed using the `random_state` parameter."
   ]
  },
  {
   "cell_type": "code",
   "execution_count": 3,
   "metadata": {},
   "outputs": [
    {
     "name": "stdout",
     "output_type": "stream",
     "text": [
      "   A   B\n",
      "1  2  20\n",
      "4  5  50\n",
      "2  3  30\n"
     ]
    }
   ],
   "source": [
    "# Sample with a fixed random seed\n",
    "sampled_df = df.sample(n=3, random_state=42)\n",
    "print(sampled_df)"
   ]
  },
  {
   "cell_type": "markdown",
   "metadata": {},
   "source": [
    "## 4. Random Sampling with Replacement\n",
    "By default, sampling is done without replacement. To allow duplicates, set `replace=True`."
   ]
  },
  {
   "cell_type": "code",
   "execution_count": 4,
   "metadata": {},
   "outputs": [
    {
     "name": "stdout",
     "output_type": "stream",
     "text": [
      "   A   B\n",
      "2  3  30\n",
      "0  1  10\n",
      "1  2  20\n",
      "4  5  50\n",
      "3  4  40\n",
      "3  4  40\n"
     ]
    }
   ],
   "source": [
    "# Sample with replacement\n",
    "sampled_df = df.sample(n=6, replace=True)\n",
    "print(sampled_df)"
   ]
  },
  {
   "cell_type": "markdown",
   "metadata": {},
   "source": [
    "## 5. Random Sampling of Columns\n",
    "To sample random columns instead of rows, use the `axis` parameter."
   ]
  },
  {
   "cell_type": "code",
   "execution_count": 5,
   "metadata": {},
   "outputs": [
    {
     "name": "stdout",
     "output_type": "stream",
     "text": [
      "   A\n",
      "0  1\n",
      "1  2\n",
      "2  3\n",
      "3  4\n",
      "4  5\n"
     ]
    }
   ],
   "source": [
    "# Randomly sample 1 column\n",
    "sampled_columns = df.sample(n=1, axis=1)\n",
    "print(sampled_columns)"
   ]
  },
  {
   "cell_type": "markdown",
   "metadata": {},
   "source": [
    "## 6. Weighted Sampling\n",
    "You can specify weights for rows using the `weights` parameter. This assigns different probabilities to rows being selected."
   ]
  },
  {
   "cell_type": "code",
   "execution_count": 6,
   "metadata": {},
   "outputs": [
    {
     "name": "stdout",
     "output_type": "stream",
     "text": [
      "   A   B\n",
      "2  3  30\n",
      "3  4  40\n",
      "1  2  20\n"
     ]
    }
   ],
   "source": [
    "# Assign weights to rows\n",
    "sampled_df = df.sample(n=3, weights=[0.1, 0.2, 0.3, 0.4, 0.0], random_state=42)\n",
    "print(sampled_df)"
   ]
  },
  {
   "cell_type": "markdown",
   "metadata": {},
   "source": [
    "## 7. Shuffling Rows\n",
    "Random sampling of all rows (`frac=1`) achieves shuffling."
   ]
  },
  {
   "cell_type": "code",
   "execution_count": 7,
   "metadata": {},
   "outputs": [
    {
     "name": "stdout",
     "output_type": "stream",
     "text": [
      "   A   B\n",
      "1  2  20\n",
      "4  5  50\n",
      "2  3  30\n",
      "0  1  10\n",
      "3  4  40\n"
     ]
    }
   ],
   "source": [
    "# Shuffle the entire DataFrame\n",
    "shuffled_df = df.sample(frac=1, random_state=42)\n",
    "print(shuffled_df)"
   ]
  },
  {
   "cell_type": "markdown",
   "metadata": {},
   "source": [
    "# Examples with Real Dataset"
   ]
  }
 ],
 "metadata": {
  "kernelspec": {
   "display_name": "Python 3",
   "language": "python",
   "name": "python3"
  },
  "language_info": {
   "codemirror_mode": {
    "name": "ipython",
    "version": 3
   },
   "file_extension": ".py",
   "mimetype": "text/x-python",
   "name": "python",
   "nbconvert_exporter": "python",
   "pygments_lexer": "ipython3",
   "version": "3.13.0"
  }
 },
 "nbformat": 4,
 "nbformat_minor": 2
}
