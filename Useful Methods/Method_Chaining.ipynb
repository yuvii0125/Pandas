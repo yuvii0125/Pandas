{
 "cells": [
  {
   "cell_type": "markdown",
   "metadata": {},
   "source": [
    "## Method chainng is programming style where you implement a pipeline functions in a single call"
   ]
  },
  {
   "cell_type": "markdown",
   "metadata": {},
   "source": [
    "## Advantage\n",
    "\n",
    "1. Makes the code easier to read , in sequence it happens\n",
    "\n",
    "2. Make your codebase compact and Organized "
   ]
  },
  {
   "cell_type": "markdown",
   "metadata": {},
   "source": [
    "## Disvantage\n",
    "\n",
    "Hard to debug"
   ]
  },
  {
   "cell_type": "code",
   "execution_count": 6,
   "metadata": {},
   "outputs": [],
   "source": [
    "# Without method chaining"
   ]
  },
  {
   "cell_type": "code",
   "execution_count": 7,
   "metadata": {},
   "outputs": [
    {
     "name": "stdout",
     "output_type": "stream",
     "text": [
      "      Name  Score\n",
      "3    David    100\n",
      "2  Charlie     95\n",
      "4      Eve     80\n"
     ]
    }
   ],
   "source": [
    "import pandas as pd\n",
    "\n",
    "# Sample DataFrame\n",
    "data = {'Name': ['Alice', 'Bob', 'Charlie', 'David', 'Eve'],\n",
    "        'Age': [25, 30, 35, 40, 45],\n",
    "        'Score': [85, 90, 95, 100, 80]}\n",
    "\n",
    "df = pd.DataFrame(data)\n",
    "\n",
    "# Filtering, sorting, and selecting columns\n",
    "filtered = df[df['Age'] > 30]\n",
    "sorted_df = filtered.sort_values(by='Score', ascending=False)\n",
    "result = sorted_df[['Name', 'Score']]\n",
    "\n",
    "print(result)\n"
   ]
  },
  {
   "cell_type": "code",
   "execution_count": 8,
   "metadata": {},
   "outputs": [],
   "source": [
    "# With Method Chaining"
   ]
  },
  {
   "cell_type": "code",
   "execution_count": 9,
   "metadata": {},
   "outputs": [
    {
     "name": "stdout",
     "output_type": "stream",
     "text": [
      "      Name  Score\n",
      "3    David    100\n",
      "2  Charlie     95\n",
      "4      Eve     80\n"
     ]
    }
   ],
   "source": [
    "import pandas as pd\n",
    "\n",
    "# Sample DataFrame\n",
    "data = {'Name': ['Alice', 'Bob', 'Charlie', 'David', 'Eve'],\n",
    "        'Age': [25, 30, 35, 40, 45],\n",
    "        'Score': [85, 90, 95, 100, 80]}\n",
    "\n",
    "df = pd.DataFrame(data)\n",
    "\n",
    "# Method chaining\n",
    "result = (df[df['Age'] > 30]\n",
    "          .sort_values(by='Score', ascending=False)\n",
    "          [['Name', 'Score']])\n",
    "\n",
    "print(result)\n"
   ]
  }
 ],
 "metadata": {
  "kernelspec": {
   "display_name": "Python 3",
   "language": "python",
   "name": "python3"
  },
  "language_info": {
   "codemirror_mode": {
    "name": "ipython",
    "version": 3
   },
   "file_extension": ".py",
   "mimetype": "text/x-python",
   "name": "python",
   "nbconvert_exporter": "python",
   "pygments_lexer": "ipython3",
   "version": "3.13.0"
  }
 },
 "nbformat": 4,
 "nbformat_minor": 2
}
