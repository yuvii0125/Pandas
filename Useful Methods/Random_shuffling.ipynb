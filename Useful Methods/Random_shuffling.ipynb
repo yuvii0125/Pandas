{
 "cells": [
  {
   "cell_type": "markdown",
   "metadata": {},
   "source": [
    "# Random Sampling in Pandas\n",
    "In this notebook, we'll explore how to perform random sampling in Pandas using the `sample()` method. Random sampling is useful for creating subsets of data for analysis, training/testing, or bootstrapping."
   ]
  },
  {
   "cell_type": "markdown",
   "metadata": {},
   "source": [
    "## 1. Basic Random Sampling\n",
    "Use the `sample()` method to randomly sample a specified number of rows."
   ]
  },
  {
   "cell_type": "code",
   "execution_count": 3,
   "metadata": {},
   "outputs": [
    {
     "name": "stdout",
     "output_type": "stream",
     "text": [
      "   A   B\n",
      "3  4  40\n",
      "2  3  30\n"
     ]
    }
   ],
   "source": [
    "import pandas as pd\n",
    "\n",
    "# Sample DataFrame\n",
    "data = {'A': [1, 2, 3, 4, 5], 'B': [10, 20, 30, 40, 50]}\n",
    "df = pd.DataFrame(data)\n",
    "\n",
    "# Randomly sample 2 rows\n",
    "sampled_df = df.sample(n=2)\n",
    "print(sampled_df)"
   ]
  },
  {
   "cell_type": "markdown",
   "metadata": {},
   "source": [
    "## 2. Sampling with a Fraction of the Data\n",
    "Instead of specifying the number of rows, you can sample a fraction of the data using the `frac` parameter."
   ]
  },
  {
   "cell_type": "code",
   "execution_count": 5,
   "metadata": {},
   "outputs": [
    {
     "name": "stdout",
     "output_type": "stream",
     "text": [
      "   A   B\n",
      "2  3  30\n",
      "3  4  40\n"
     ]
    }
   ],
   "source": [
    "# Sample 40% of the rows\n",
    "sampled_df = df.sample(frac=0.4)\n",
    "print(sampled_df)"
   ]
  },
  {
   "cell_type": "markdown",
   "metadata": {},
   "source": [
    "## 3. Random Sampling with Reproducibility\n",
    "To ensure reproducibility (getting the same random sample every time), set a random seed using the `random_state` parameter."
   ]
  },
  {
   "cell_type": "code",
   "execution_count": 9,
   "metadata": {},
   "outputs": [
    {
     "name": "stdout",
     "output_type": "stream",
     "text": [
      "   A   B\n",
      "1  2  20\n",
      "4  5  50\n",
      "2  3  30\n"
     ]
    }
   ],
   "source": [
    "# Sample with a fixed random seed\n",
    "sampled_df = df.sample(n=3, random_state=42)\n",
    "print(sampled_df)"
   ]
  },
  {
   "cell_type": "markdown",
   "metadata": {},
   "source": [
    "## 4. Random Sampling with Replacement\n",
    "By default, sampling is done without replacement. To allow duplicates, set `replace=True`."
   ]
  },
  {
   "cell_type": "code",
   "execution_count": 12,
   "metadata": {},
   "outputs": [
    {
     "name": "stdout",
     "output_type": "stream",
     "text": [
      "   A   B\n",
      "1  2  20\n",
      "1  2  20\n",
      "0  1  10\n",
      "2  3  30\n",
      "2  3  30\n",
      "3  4  40\n"
     ]
    }
   ],
   "source": [
    "# Sample with replacement\n",
    "sampled_df = df.sample(n=6, replace=True)\n",
    "print(sampled_df)"
   ]
  },
  {
   "cell_type": "markdown",
   "metadata": {},
   "source": [
    "## 5. Random Sampling of Columns\n",
    "To sample random columns instead of rows, use the `axis` parameter."
   ]
  },
  {
   "cell_type": "code",
   "execution_count": 15,
   "metadata": {},
   "outputs": [
    {
     "name": "stdout",
     "output_type": "stream",
     "text": [
      "   A\n",
      "0  1\n",
      "1  2\n",
      "2  3\n",
      "3  4\n",
      "4  5\n"
     ]
    }
   ],
   "source": [
    "# Randomly sample 1 column\n",
    "sampled_columns = df.sample(n=1, axis=1)\n",
    "print(sampled_columns)"
   ]
  },
  {
   "cell_type": "markdown",
   "metadata": {},
   "source": [
    "## 6. Weighted Sampling\n",
    "You can specify weights for rows using the `weights` parameter. This assigns different probabilities to rows being selected."
   ]
  },
  {
   "cell_type": "code",
   "execution_count": 18,
   "metadata": {},
   "outputs": [
    {
     "name": "stdout",
     "output_type": "stream",
     "text": [
      "   A   B\n",
      "2  3  30\n",
      "3  4  40\n",
      "1  2  20\n"
     ]
    }
   ],
   "source": [
    "# Assign weights to rows\n",
    "sampled_df = df.sample(n=3, weights=[0.1, 0.2, 0.3, 0.4, 0.0], random_state=42)\n",
    "print(sampled_df)"
   ]
  },
  {
   "cell_type": "markdown",
   "metadata": {},
   "source": [
    "## 7. Shuffling Rows\n",
    "Random sampling of all rows (`frac=1`) achieves shuffling."
   ]
  },
  {
   "cell_type": "code",
   "execution_count": 21,
   "metadata": {},
   "outputs": [
    {
     "name": "stdout",
     "output_type": "stream",
     "text": [
      "   A   B\n",
      "1  2  20\n",
      "4  5  50\n",
      "2  3  30\n",
      "0  1  10\n",
      "3  4  40\n"
     ]
    }
   ],
   "source": [
    "# Shuffle the entire DataFrame\n",
    "shuffled_df = df.sample(frac=1, random_state=42)\n",
    "print(shuffled_df)"
   ]
  },
  {
   "cell_type": "markdown",
   "metadata": {},
   "source": [
    "# Examples with Real Dataset"
   ]
  },
  {
   "cell_type": "markdown",
   "metadata": {},
   "source": [
    "### If we use replace = false it will not give the repetitive elements"
   ]
  },
  {
   "cell_type": "code",
   "execution_count": 35,
   "metadata": {},
   "outputs": [],
   "source": [
    "## For same random state the output will be the same"
   ]
  },
  {
   "cell_type": "code",
   "execution_count": 37,
   "metadata": {},
   "outputs": [
    {
     "data": {
      "text/html": [
       "<div>\n",
       "<style scoped>\n",
       "    .dataframe tbody tr th:only-of-type {\n",
       "        vertical-align: middle;\n",
       "    }\n",
       "\n",
       "    .dataframe tbody tr th {\n",
       "        vertical-align: top;\n",
       "    }\n",
       "\n",
       "    .dataframe thead th {\n",
       "        text-align: right;\n",
       "    }\n",
       "</style>\n",
       "<table border=\"1\" class=\"dataframe\">\n",
       "  <thead>\n",
       "    <tr style=\"text-align: right;\">\n",
       "      <th></th>\n",
       "      <th>Area_Name</th>\n",
       "      <th>Year</th>\n",
       "      <th>Group_Name</th>\n",
       "      <th>Sub_Group_Name</th>\n",
       "      <th>Cases_Property_Recovered</th>\n",
       "      <th>Cases_Property_Stolen</th>\n",
       "      <th>Value_of_Property_Recovered</th>\n",
       "      <th>Value_of_Property_Stolen</th>\n",
       "    </tr>\n",
       "  </thead>\n",
       "  <tbody>\n",
       "    <tr>\n",
       "      <th>0</th>\n",
       "      <td>Andaman &amp; Nicobar Islands</td>\n",
       "      <td>2001</td>\n",
       "      <td>Burglary - Property</td>\n",
       "      <td>3. Burglary</td>\n",
       "      <td>27</td>\n",
       "      <td>64</td>\n",
       "      <td>755858</td>\n",
       "      <td>1321961</td>\n",
       "    </tr>\n",
       "    <tr>\n",
       "      <th>1</th>\n",
       "      <td>Andhra Pradesh</td>\n",
       "      <td>2001</td>\n",
       "      <td>Burglary - Property</td>\n",
       "      <td>3. Burglary</td>\n",
       "      <td>3321</td>\n",
       "      <td>7134</td>\n",
       "      <td>51483437</td>\n",
       "      <td>147019348</td>\n",
       "    </tr>\n",
       "    <tr>\n",
       "      <th>2</th>\n",
       "      <td>Arunachal Pradesh</td>\n",
       "      <td>2001</td>\n",
       "      <td>Burglary - Property</td>\n",
       "      <td>3. Burglary</td>\n",
       "      <td>66</td>\n",
       "      <td>248</td>\n",
       "      <td>825115</td>\n",
       "      <td>4931904</td>\n",
       "    </tr>\n",
       "    <tr>\n",
       "      <th>3</th>\n",
       "      <td>Assam</td>\n",
       "      <td>2001</td>\n",
       "      <td>Burglary - Property</td>\n",
       "      <td>3. Burglary</td>\n",
       "      <td>539</td>\n",
       "      <td>2423</td>\n",
       "      <td>3722850</td>\n",
       "      <td>21466955</td>\n",
       "    </tr>\n",
       "    <tr>\n",
       "      <th>4</th>\n",
       "      <td>Bihar</td>\n",
       "      <td>2001</td>\n",
       "      <td>Burglary - Property</td>\n",
       "      <td>3. Burglary</td>\n",
       "      <td>367</td>\n",
       "      <td>3231</td>\n",
       "      <td>2327135</td>\n",
       "      <td>17023937</td>\n",
       "    </tr>\n",
       "  </tbody>\n",
       "</table>\n",
       "</div>"
      ],
      "text/plain": [
       "                   Area_Name  Year           Group_Name Sub_Group_Name  \\\n",
       "0  Andaman & Nicobar Islands  2001  Burglary - Property    3. Burglary   \n",
       "1             Andhra Pradesh  2001  Burglary - Property    3. Burglary   \n",
       "2          Arunachal Pradesh  2001  Burglary - Property    3. Burglary   \n",
       "3                      Assam  2001  Burglary - Property    3. Burglary   \n",
       "4                      Bihar  2001  Burglary - Property    3. Burglary   \n",
       "\n",
       "   Cases_Property_Recovered  Cases_Property_Stolen  \\\n",
       "0                        27                     64   \n",
       "1                      3321                   7134   \n",
       "2                        66                    248   \n",
       "3                       539                   2423   \n",
       "4                       367                   3231   \n",
       "\n",
       "   Value_of_Property_Recovered  Value_of_Property_Stolen  \n",
       "0                       755858                   1321961  \n",
       "1                     51483437                 147019348  \n",
       "2                       825115                   4931904  \n",
       "3                      3722850                  21466955  \n",
       "4                      2327135                  17023937  "
      ]
     },
     "execution_count": 37,
     "metadata": {},
     "output_type": "execute_result"
    }
   ],
   "source": [
    "df = pd.read_csv(r'../Datasets/Property_Crimes.csv')\n",
    "df.head()"
   ]
  },
  {
   "cell_type": "code",
   "execution_count": 39,
   "metadata": {},
   "outputs": [
    {
     "data": {
      "text/html": [
       "<div>\n",
       "<style scoped>\n",
       "    .dataframe tbody tr th:only-of-type {\n",
       "        vertical-align: middle;\n",
       "    }\n",
       "\n",
       "    .dataframe tbody tr th {\n",
       "        vertical-align: top;\n",
       "    }\n",
       "\n",
       "    .dataframe thead th {\n",
       "        text-align: right;\n",
       "    }\n",
       "</style>\n",
       "<table border=\"1\" class=\"dataframe\">\n",
       "  <thead>\n",
       "    <tr style=\"text-align: right;\">\n",
       "      <th></th>\n",
       "      <th>Area_Name</th>\n",
       "      <th>Year</th>\n",
       "      <th>Group_Name</th>\n",
       "      <th>Sub_Group_Name</th>\n",
       "      <th>Cases_Property_Recovered</th>\n",
       "      <th>Cases_Property_Stolen</th>\n",
       "      <th>Value_of_Property_Recovered</th>\n",
       "      <th>Value_of_Property_Stolen</th>\n",
       "    </tr>\n",
       "  </thead>\n",
       "  <tbody>\n",
       "    <tr>\n",
       "      <th>386</th>\n",
       "      <td>Andhra Pradesh</td>\n",
       "      <td>2002</td>\n",
       "      <td>Criminal Breach of Trust - Property</td>\n",
       "      <td>5. Criminal Breach of Trust</td>\n",
       "      <td>104</td>\n",
       "      <td>382</td>\n",
       "      <td>6462978</td>\n",
       "      <td>67143584</td>\n",
       "    </tr>\n",
       "    <tr>\n",
       "      <th>2415</th>\n",
       "      <td>Andhra Pradesh</td>\n",
       "      <td>2010</td>\n",
       "      <td>Total Property</td>\n",
       "      <td>7. Total Property Stolen &amp; Recovered</td>\n",
       "      <td>19848</td>\n",
       "      <td>36407</td>\n",
       "      <td>725079668</td>\n",
       "      <td>1533054566</td>\n",
       "    </tr>\n",
       "    <tr>\n",
       "      <th>919</th>\n",
       "      <td>Delhi</td>\n",
       "      <td>2007</td>\n",
       "      <td>Dacoity -Property</td>\n",
       "      <td>1. Dacoity</td>\n",
       "      <td>30</td>\n",
       "      <td>34</td>\n",
       "      <td>1310250</td>\n",
       "      <td>6374650</td>\n",
       "    </tr>\n",
       "    <tr>\n",
       "      <th>238</th>\n",
       "      <td>Rajasthan</td>\n",
       "      <td>2007</td>\n",
       "      <td>Burglary - Property</td>\n",
       "      <td>3. Burglary</td>\n",
       "      <td>1634</td>\n",
       "      <td>4951</td>\n",
       "      <td>72297141</td>\n",
       "      <td>166591147</td>\n",
       "    </tr>\n",
       "    <tr>\n",
       "      <th>2400</th>\n",
       "      <td>Manipur</td>\n",
       "      <td>2009</td>\n",
       "      <td>Total Property</td>\n",
       "      <td>7. Total Property Stolen &amp; Recovered</td>\n",
       "      <td>33</td>\n",
       "      <td>698</td>\n",
       "      <td>48045570</td>\n",
       "      <td>119195331</td>\n",
       "    </tr>\n",
       "    <tr>\n",
       "      <th>...</th>\n",
       "      <td>...</td>\n",
       "      <td>...</td>\n",
       "      <td>...</td>\n",
       "      <td>...</td>\n",
       "      <td>...</td>\n",
       "      <td>...</td>\n",
       "      <td>...</td>\n",
       "      <td>...</td>\n",
       "    </tr>\n",
       "    <tr>\n",
       "      <th>665</th>\n",
       "      <td>Andaman &amp; Nicobar Islands</td>\n",
       "      <td>2010</td>\n",
       "      <td>Criminal Breach of Trust - Property</td>\n",
       "      <td>5. Criminal Breach of Trust</td>\n",
       "      <td>2</td>\n",
       "      <td>10</td>\n",
       "      <td>147644</td>\n",
       "      <td>530144</td>\n",
       "    </tr>\n",
       "    <tr>\n",
       "      <th>271</th>\n",
       "      <td>Puducherry</td>\n",
       "      <td>2008</td>\n",
       "      <td>Burglary - Property</td>\n",
       "      <td>3. Burglary</td>\n",
       "      <td>50</td>\n",
       "      <td>90</td>\n",
       "      <td>3810322</td>\n",
       "      <td>5486940</td>\n",
       "    </tr>\n",
       "    <tr>\n",
       "      <th>1756</th>\n",
       "      <td>Chhattisgarh</td>\n",
       "      <td>2001</td>\n",
       "      <td>Theft - Property</td>\n",
       "      <td>4. Theft</td>\n",
       "      <td>1664</td>\n",
       "      <td>4812</td>\n",
       "      <td>22767348</td>\n",
       "      <td>51329061</td>\n",
       "    </tr>\n",
       "    <tr>\n",
       "      <th>780</th>\n",
       "      <td>Goa</td>\n",
       "      <td>2003</td>\n",
       "      <td>Dacoity -Property</td>\n",
       "      <td>1. Dacoity</td>\n",
       "      <td>1</td>\n",
       "      <td>4</td>\n",
       "      <td>255000</td>\n",
       "      <td>1303000</td>\n",
       "    </tr>\n",
       "    <tr>\n",
       "      <th>956</th>\n",
       "      <td>Gujarat</td>\n",
       "      <td>2008</td>\n",
       "      <td>Dacoity -Property</td>\n",
       "      <td>1. Dacoity</td>\n",
       "      <td>144</td>\n",
       "      <td>245</td>\n",
       "      <td>20476176</td>\n",
       "      <td>47516980</td>\n",
       "    </tr>\n",
       "  </tbody>\n",
       "</table>\n",
       "<p>1714 rows × 8 columns</p>\n",
       "</div>"
      ],
      "text/plain": [
       "                      Area_Name  Year                           Group_Name  \\\n",
       "386              Andhra Pradesh  2002  Criminal Breach of Trust - Property   \n",
       "2415             Andhra Pradesh  2010                       Total Property   \n",
       "919                       Delhi  2007                    Dacoity -Property   \n",
       "238                   Rajasthan  2007                  Burglary - Property   \n",
       "2400                    Manipur  2009                       Total Property   \n",
       "...                         ...   ...                                  ...   \n",
       "665   Andaman & Nicobar Islands  2010  Criminal Breach of Trust - Property   \n",
       "271                  Puducherry  2008                  Burglary - Property   \n",
       "1756               Chhattisgarh  2001                     Theft - Property   \n",
       "780                         Goa  2003                    Dacoity -Property   \n",
       "956                     Gujarat  2008                    Dacoity -Property   \n",
       "\n",
       "                            Sub_Group_Name  Cases_Property_Recovered  \\\n",
       "386            5. Criminal Breach of Trust                       104   \n",
       "2415  7. Total Property Stolen & Recovered                     19848   \n",
       "919                             1. Dacoity                        30   \n",
       "238                            3. Burglary                      1634   \n",
       "2400  7. Total Property Stolen & Recovered                        33   \n",
       "...                                    ...                       ...   \n",
       "665            5. Criminal Breach of Trust                         2   \n",
       "271                            3. Burglary                        50   \n",
       "1756                              4. Theft                      1664   \n",
       "780                             1. Dacoity                         1   \n",
       "956                             1. Dacoity                       144   \n",
       "\n",
       "      Cases_Property_Stolen  Value_of_Property_Recovered  \\\n",
       "386                     382                      6462978   \n",
       "2415                  36407                    725079668   \n",
       "919                      34                      1310250   \n",
       "238                    4951                     72297141   \n",
       "2400                    698                     48045570   \n",
       "...                     ...                          ...   \n",
       "665                      10                       147644   \n",
       "271                      90                      3810322   \n",
       "1756                   4812                     22767348   \n",
       "780                       4                       255000   \n",
       "956                     245                     20476176   \n",
       "\n",
       "      Value_of_Property_Stolen  \n",
       "386                   67143584  \n",
       "2415                1533054566  \n",
       "919                    6374650  \n",
       "238                  166591147  \n",
       "2400                 119195331  \n",
       "...                        ...  \n",
       "665                     530144  \n",
       "271                    5486940  \n",
       "1756                  51329061  \n",
       "780                    1303000  \n",
       "956                   47516980  \n",
       "\n",
       "[1714 rows x 8 columns]"
      ]
     },
     "execution_count": 39,
     "metadata": {},
     "output_type": "execute_result"
    }
   ],
   "source": [
    "nrows = round(df.shape[0] * .7)\n",
    "df_sample = df.sample(nrows,replace=False,random_state=100)\n",
    "df_sample"
   ]
  },
  {
   "cell_type": "markdown",
   "metadata": {},
   "source": [
    "##  BootStrap Sampling"
   ]
  },
  {
   "cell_type": "markdown",
   "metadata": {},
   "source": [
    "Bootstrap sampling is when you pick the same number of rows as in the datasets but with replacment . we can use df.sample() "
   ]
  },
  {
   "cell_type": "code",
   "execution_count": 45,
   "metadata": {},
   "outputs": [
    {
     "data": {
      "text/html": [
       "<div>\n",
       "<style scoped>\n",
       "    .dataframe tbody tr th:only-of-type {\n",
       "        vertical-align: middle;\n",
       "    }\n",
       "\n",
       "    .dataframe tbody tr th {\n",
       "        vertical-align: top;\n",
       "    }\n",
       "\n",
       "    .dataframe thead th {\n",
       "        text-align: right;\n",
       "    }\n",
       "</style>\n",
       "<table border=\"1\" class=\"dataframe\">\n",
       "  <thead>\n",
       "    <tr style=\"text-align: right;\">\n",
       "      <th></th>\n",
       "      <th>Area_Name</th>\n",
       "      <th>Year</th>\n",
       "      <th>Group_Name</th>\n",
       "      <th>Sub_Group_Name</th>\n",
       "      <th>Cases_Property_Recovered</th>\n",
       "      <th>Cases_Property_Stolen</th>\n",
       "      <th>Value_of_Property_Recovered</th>\n",
       "      <th>Value_of_Property_Stolen</th>\n",
       "    </tr>\n",
       "  </thead>\n",
       "  <tbody>\n",
       "    <tr>\n",
       "      <th>1544</th>\n",
       "      <td>Bihar</td>\n",
       "      <td>2005</td>\n",
       "      <td>Robbery - Property</td>\n",
       "      <td>2. Robbery</td>\n",
       "      <td>439</td>\n",
       "      <td>2374</td>\n",
       "      <td>17663039</td>\n",
       "      <td>65234508</td>\n",
       "    </tr>\n",
       "    <tr>\n",
       "      <th>1859</th>\n",
       "      <td>Bihar</td>\n",
       "      <td>2004</td>\n",
       "      <td>Theft - Property</td>\n",
       "      <td>4. Theft</td>\n",
       "      <td>1989</td>\n",
       "      <td>11113</td>\n",
       "      <td>23897635</td>\n",
       "      <td>125439263</td>\n",
       "    </tr>\n",
       "    <tr>\n",
       "      <th>79</th>\n",
       "      <td>Delhi</td>\n",
       "      <td>2003</td>\n",
       "      <td>Burglary - Property</td>\n",
       "      <td>3. Burglary</td>\n",
       "      <td>758</td>\n",
       "      <td>1898</td>\n",
       "      <td>4268081</td>\n",
       "      <td>84069640</td>\n",
       "    </tr>\n",
       "    <tr>\n",
       "      <th>1930</th>\n",
       "      <td>Chandigarh</td>\n",
       "      <td>2006</td>\n",
       "      <td>Theft - Property</td>\n",
       "      <td>4. Theft</td>\n",
       "      <td>597</td>\n",
       "      <td>1234</td>\n",
       "      <td>13750425</td>\n",
       "      <td>36268500</td>\n",
       "    </tr>\n",
       "    <tr>\n",
       "      <th>350</th>\n",
       "      <td>Andaman &amp; Nicobar Islands</td>\n",
       "      <td>2001</td>\n",
       "      <td>Criminal Breach of Trust - Property</td>\n",
       "      <td>5. Criminal Breach of Trust</td>\n",
       "      <td>1</td>\n",
       "      <td>10</td>\n",
       "      <td>80000</td>\n",
       "      <td>1226967</td>\n",
       "    </tr>\n",
       "    <tr>\n",
       "      <th>...</th>\n",
       "      <td>...</td>\n",
       "      <td>...</td>\n",
       "      <td>...</td>\n",
       "      <td>...</td>\n",
       "      <td>...</td>\n",
       "      <td>...</td>\n",
       "      <td>...</td>\n",
       "      <td>...</td>\n",
       "    </tr>\n",
       "    <tr>\n",
       "      <th>1198</th>\n",
       "      <td>Daman &amp; Diu</td>\n",
       "      <td>2005</td>\n",
       "      <td>Other heads of Property</td>\n",
       "      <td>6. Other Property</td>\n",
       "      <td>2</td>\n",
       "      <td>3</td>\n",
       "      <td>45000</td>\n",
       "      <td>45000</td>\n",
       "    </tr>\n",
       "    <tr>\n",
       "      <th>1752</th>\n",
       "      <td>Arunachal Pradesh</td>\n",
       "      <td>2001</td>\n",
       "      <td>Theft - Property</td>\n",
       "      <td>4. Theft</td>\n",
       "      <td>193</td>\n",
       "      <td>443</td>\n",
       "      <td>6344706</td>\n",
       "      <td>12395613</td>\n",
       "    </tr>\n",
       "    <tr>\n",
       "      <th>2231</th>\n",
       "      <td>Puducherry</td>\n",
       "      <td>2004</td>\n",
       "      <td>Total Property</td>\n",
       "      <td>7. Total Property Stolen &amp; Recovered</td>\n",
       "      <td>464</td>\n",
       "      <td>730</td>\n",
       "      <td>7984326</td>\n",
       "      <td>14967498</td>\n",
       "    </tr>\n",
       "    <tr>\n",
       "      <th>23</th>\n",
       "      <td>Mizoram</td>\n",
       "      <td>2001</td>\n",
       "      <td>Burglary - Property</td>\n",
       "      <td>3. Burglary</td>\n",
       "      <td>188</td>\n",
       "      <td>417</td>\n",
       "      <td>1595997</td>\n",
       "      <td>3249203</td>\n",
       "    </tr>\n",
       "    <tr>\n",
       "      <th>1596</th>\n",
       "      <td>Manipur</td>\n",
       "      <td>2006</td>\n",
       "      <td>Robbery - Property</td>\n",
       "      <td>2. Robbery</td>\n",
       "      <td>0</td>\n",
       "      <td>8</td>\n",
       "      <td>0</td>\n",
       "      <td>68000</td>\n",
       "    </tr>\n",
       "  </tbody>\n",
       "</table>\n",
       "<p>2449 rows × 8 columns</p>\n",
       "</div>"
      ],
      "text/plain": [
       "                      Area_Name  Year                           Group_Name  \\\n",
       "1544                      Bihar  2005                   Robbery - Property   \n",
       "1859                      Bihar  2004                     Theft - Property   \n",
       "79                        Delhi  2003                  Burglary - Property   \n",
       "1930                 Chandigarh  2006                     Theft - Property   \n",
       "350   Andaman & Nicobar Islands  2001  Criminal Breach of Trust - Property   \n",
       "...                         ...   ...                                  ...   \n",
       "1198                Daman & Diu  2005              Other heads of Property   \n",
       "1752          Arunachal Pradesh  2001                     Theft - Property   \n",
       "2231                 Puducherry  2004                       Total Property   \n",
       "23                      Mizoram  2001                  Burglary - Property   \n",
       "1596                    Manipur  2006                   Robbery - Property   \n",
       "\n",
       "                            Sub_Group_Name  Cases_Property_Recovered  \\\n",
       "1544                            2. Robbery                       439   \n",
       "1859                              4. Theft                      1989   \n",
       "79                             3. Burglary                       758   \n",
       "1930                              4. Theft                       597   \n",
       "350            5. Criminal Breach of Trust                         1   \n",
       "...                                    ...                       ...   \n",
       "1198                     6. Other Property                         2   \n",
       "1752                              4. Theft                       193   \n",
       "2231  7. Total Property Stolen & Recovered                       464   \n",
       "23                             3. Burglary                       188   \n",
       "1596                            2. Robbery                         0   \n",
       "\n",
       "      Cases_Property_Stolen  Value_of_Property_Recovered  \\\n",
       "1544                   2374                     17663039   \n",
       "1859                  11113                     23897635   \n",
       "79                     1898                      4268081   \n",
       "1930                   1234                     13750425   \n",
       "350                      10                        80000   \n",
       "...                     ...                          ...   \n",
       "1198                      3                        45000   \n",
       "1752                    443                      6344706   \n",
       "2231                    730                      7984326   \n",
       "23                      417                      1595997   \n",
       "1596                      8                            0   \n",
       "\n",
       "      Value_of_Property_Stolen  \n",
       "1544                  65234508  \n",
       "1859                 125439263  \n",
       "79                    84069640  \n",
       "1930                  36268500  \n",
       "350                    1226967  \n",
       "...                        ...  \n",
       "1198                     45000  \n",
       "1752                  12395613  \n",
       "2231                  14967498  \n",
       "23                     3249203  \n",
       "1596                     68000  \n",
       "\n",
       "[2449 rows x 8 columns]"
      ]
     },
     "execution_count": 45,
     "metadata": {},
     "output_type": "execute_result"
    }
   ],
   "source": [
    "df.sample(frac=1,replace=True,random_state=100)"
   ]
  },
  {
   "cell_type": "code",
   "execution_count": null,
   "metadata": {},
   "outputs": [],
   "source": []
  }
 ],
 "metadata": {
  "kernelspec": {
   "display_name": "Python 3",
   "language": "python",
   "name": "python3"
  },
  "language_info": {
   "codemirror_mode": {
    "name": "ipython",
    "version": 3
   },
   "file_extension": ".py",
   "mimetype": "text/x-python",
   "name": "python",
   "nbconvert_exporter": "python",
   "pygments_lexer": "ipython3",
   "version": "3.13.0"
  }
 },
 "nbformat": 4,
 "nbformat_minor": 4
}
