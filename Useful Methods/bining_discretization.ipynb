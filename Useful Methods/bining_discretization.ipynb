{
 "cells": [
  {
   "cell_type": "code",
   "execution_count": 1,
   "metadata": {},
   "outputs": [],
   "source": [
    "import numpy as np\n",
    "import pandas as pd"
   ]
  },
  {
   "cell_type": "code",
   "execution_count": 2,
   "metadata": {},
   "outputs": [
    {
     "data": {
      "text/html": [
       "<div>\n",
       "<style scoped>\n",
       "    .dataframe tbody tr th:only-of-type {\n",
       "        vertical-align: middle;\n",
       "    }\n",
       "\n",
       "    .dataframe tbody tr th {\n",
       "        vertical-align: top;\n",
       "    }\n",
       "\n",
       "    .dataframe thead th {\n",
       "        text-align: right;\n",
       "    }\n",
       "</style>\n",
       "<table border=\"1\" class=\"dataframe\">\n",
       "  <thead>\n",
       "    <tr style=\"text-align: right;\">\n",
       "      <th></th>\n",
       "      <th>Date</th>\n",
       "      <th>BUDAPEST</th>\n",
       "      <th>BARANYA</th>\n",
       "      <th>BACS</th>\n",
       "      <th>BEKES</th>\n",
       "      <th>BORSOD</th>\n",
       "      <th>CSONGRAD</th>\n",
       "      <th>FEJER</th>\n",
       "      <th>GYOR</th>\n",
       "      <th>HAJDU</th>\n",
       "      <th>...</th>\n",
       "      <th>JASZ</th>\n",
       "      <th>KOMAROM</th>\n",
       "      <th>NOGRAD</th>\n",
       "      <th>PEST</th>\n",
       "      <th>SOMOGY</th>\n",
       "      <th>SZABOLCS</th>\n",
       "      <th>TOLNA</th>\n",
       "      <th>VAS</th>\n",
       "      <th>VESZPREM</th>\n",
       "      <th>ZALA</th>\n",
       "    </tr>\n",
       "  </thead>\n",
       "  <tbody>\n",
       "    <tr>\n",
       "      <th>0</th>\n",
       "      <td>03/01/2005</td>\n",
       "      <td>168</td>\n",
       "      <td>79</td>\n",
       "      <td>30</td>\n",
       "      <td>173</td>\n",
       "      <td>169</td>\n",
       "      <td>42</td>\n",
       "      <td>136</td>\n",
       "      <td>120</td>\n",
       "      <td>162</td>\n",
       "      <td>...</td>\n",
       "      <td>130</td>\n",
       "      <td>57</td>\n",
       "      <td>2</td>\n",
       "      <td>178</td>\n",
       "      <td>66</td>\n",
       "      <td>64</td>\n",
       "      <td>11</td>\n",
       "      <td>29</td>\n",
       "      <td>87</td>\n",
       "      <td>68</td>\n",
       "    </tr>\n",
       "    <tr>\n",
       "      <th>1</th>\n",
       "      <td>10/01/2005</td>\n",
       "      <td>157</td>\n",
       "      <td>60</td>\n",
       "      <td>30</td>\n",
       "      <td>92</td>\n",
       "      <td>200</td>\n",
       "      <td>53</td>\n",
       "      <td>51</td>\n",
       "      <td>70</td>\n",
       "      <td>84</td>\n",
       "      <td>...</td>\n",
       "      <td>80</td>\n",
       "      <td>50</td>\n",
       "      <td>29</td>\n",
       "      <td>141</td>\n",
       "      <td>48</td>\n",
       "      <td>29</td>\n",
       "      <td>58</td>\n",
       "      <td>53</td>\n",
       "      <td>68</td>\n",
       "      <td>26</td>\n",
       "    </tr>\n",
       "    <tr>\n",
       "      <th>2</th>\n",
       "      <td>17/01/2005</td>\n",
       "      <td>96</td>\n",
       "      <td>44</td>\n",
       "      <td>31</td>\n",
       "      <td>86</td>\n",
       "      <td>93</td>\n",
       "      <td>30</td>\n",
       "      <td>93</td>\n",
       "      <td>84</td>\n",
       "      <td>191</td>\n",
       "      <td>...</td>\n",
       "      <td>64</td>\n",
       "      <td>46</td>\n",
       "      <td>4</td>\n",
       "      <td>157</td>\n",
       "      <td>33</td>\n",
       "      <td>33</td>\n",
       "      <td>24</td>\n",
       "      <td>18</td>\n",
       "      <td>62</td>\n",
       "      <td>44</td>\n",
       "    </tr>\n",
       "    <tr>\n",
       "      <th>3</th>\n",
       "      <td>24/01/2005</td>\n",
       "      <td>163</td>\n",
       "      <td>49</td>\n",
       "      <td>43</td>\n",
       "      <td>126</td>\n",
       "      <td>46</td>\n",
       "      <td>39</td>\n",
       "      <td>52</td>\n",
       "      <td>114</td>\n",
       "      <td>107</td>\n",
       "      <td>...</td>\n",
       "      <td>63</td>\n",
       "      <td>54</td>\n",
       "      <td>14</td>\n",
       "      <td>107</td>\n",
       "      <td>66</td>\n",
       "      <td>50</td>\n",
       "      <td>25</td>\n",
       "      <td>21</td>\n",
       "      <td>43</td>\n",
       "      <td>31</td>\n",
       "    </tr>\n",
       "    <tr>\n",
       "      <th>4</th>\n",
       "      <td>31/01/2005</td>\n",
       "      <td>122</td>\n",
       "      <td>78</td>\n",
       "      <td>53</td>\n",
       "      <td>87</td>\n",
       "      <td>103</td>\n",
       "      <td>34</td>\n",
       "      <td>95</td>\n",
       "      <td>131</td>\n",
       "      <td>172</td>\n",
       "      <td>...</td>\n",
       "      <td>61</td>\n",
       "      <td>49</td>\n",
       "      <td>11</td>\n",
       "      <td>124</td>\n",
       "      <td>63</td>\n",
       "      <td>56</td>\n",
       "      <td>7</td>\n",
       "      <td>47</td>\n",
       "      <td>85</td>\n",
       "      <td>60</td>\n",
       "    </tr>\n",
       "    <tr>\n",
       "      <th>...</th>\n",
       "      <td>...</td>\n",
       "      <td>...</td>\n",
       "      <td>...</td>\n",
       "      <td>...</td>\n",
       "      <td>...</td>\n",
       "      <td>...</td>\n",
       "      <td>...</td>\n",
       "      <td>...</td>\n",
       "      <td>...</td>\n",
       "      <td>...</td>\n",
       "      <td>...</td>\n",
       "      <td>...</td>\n",
       "      <td>...</td>\n",
       "      <td>...</td>\n",
       "      <td>...</td>\n",
       "      <td>...</td>\n",
       "      <td>...</td>\n",
       "      <td>...</td>\n",
       "      <td>...</td>\n",
       "      <td>...</td>\n",
       "      <td>...</td>\n",
       "    </tr>\n",
       "    <tr>\n",
       "      <th>517</th>\n",
       "      <td>01/12/2014</td>\n",
       "      <td>95</td>\n",
       "      <td>12</td>\n",
       "      <td>41</td>\n",
       "      <td>6</td>\n",
       "      <td>39</td>\n",
       "      <td>0</td>\n",
       "      <td>16</td>\n",
       "      <td>15</td>\n",
       "      <td>14</td>\n",
       "      <td>...</td>\n",
       "      <td>56</td>\n",
       "      <td>7</td>\n",
       "      <td>13</td>\n",
       "      <td>122</td>\n",
       "      <td>4</td>\n",
       "      <td>23</td>\n",
       "      <td>4</td>\n",
       "      <td>11</td>\n",
       "      <td>110</td>\n",
       "      <td>10</td>\n",
       "    </tr>\n",
       "    <tr>\n",
       "      <th>518</th>\n",
       "      <td>08/12/2014</td>\n",
       "      <td>43</td>\n",
       "      <td>39</td>\n",
       "      <td>31</td>\n",
       "      <td>10</td>\n",
       "      <td>34</td>\n",
       "      <td>3</td>\n",
       "      <td>2</td>\n",
       "      <td>30</td>\n",
       "      <td>25</td>\n",
       "      <td>...</td>\n",
       "      <td>34</td>\n",
       "      <td>20</td>\n",
       "      <td>18</td>\n",
       "      <td>70</td>\n",
       "      <td>36</td>\n",
       "      <td>5</td>\n",
       "      <td>23</td>\n",
       "      <td>22</td>\n",
       "      <td>63</td>\n",
       "      <td>9</td>\n",
       "    </tr>\n",
       "    <tr>\n",
       "      <th>519</th>\n",
       "      <td>15/12/2014</td>\n",
       "      <td>35</td>\n",
       "      <td>7</td>\n",
       "      <td>15</td>\n",
       "      <td>0</td>\n",
       "      <td>0</td>\n",
       "      <td>0</td>\n",
       "      <td>7</td>\n",
       "      <td>7</td>\n",
       "      <td>4</td>\n",
       "      <td>...</td>\n",
       "      <td>30</td>\n",
       "      <td>36</td>\n",
       "      <td>4</td>\n",
       "      <td>72</td>\n",
       "      <td>5</td>\n",
       "      <td>21</td>\n",
       "      <td>14</td>\n",
       "      <td>0</td>\n",
       "      <td>17</td>\n",
       "      <td>10</td>\n",
       "    </tr>\n",
       "    <tr>\n",
       "      <th>520</th>\n",
       "      <td>22/12/2014</td>\n",
       "      <td>30</td>\n",
       "      <td>23</td>\n",
       "      <td>8</td>\n",
       "      <td>0</td>\n",
       "      <td>11</td>\n",
       "      <td>4</td>\n",
       "      <td>1</td>\n",
       "      <td>9</td>\n",
       "      <td>10</td>\n",
       "      <td>...</td>\n",
       "      <td>27</td>\n",
       "      <td>17</td>\n",
       "      <td>21</td>\n",
       "      <td>12</td>\n",
       "      <td>5</td>\n",
       "      <td>17</td>\n",
       "      <td>1</td>\n",
       "      <td>1</td>\n",
       "      <td>83</td>\n",
       "      <td>2</td>\n",
       "    </tr>\n",
       "    <tr>\n",
       "      <th>521</th>\n",
       "      <td>29/12/2014</td>\n",
       "      <td>259</td>\n",
       "      <td>42</td>\n",
       "      <td>49</td>\n",
       "      <td>32</td>\n",
       "      <td>38</td>\n",
       "      <td>15</td>\n",
       "      <td>11</td>\n",
       "      <td>98</td>\n",
       "      <td>61</td>\n",
       "      <td>...</td>\n",
       "      <td>112</td>\n",
       "      <td>61</td>\n",
       "      <td>53</td>\n",
       "      <td>256</td>\n",
       "      <td>45</td>\n",
       "      <td>39</td>\n",
       "      <td>27</td>\n",
       "      <td>11</td>\n",
       "      <td>103</td>\n",
       "      <td>25</td>\n",
       "    </tr>\n",
       "  </tbody>\n",
       "</table>\n",
       "<p>522 rows × 21 columns</p>\n",
       "</div>"
      ],
      "text/plain": [
       "           Date  BUDAPEST  BARANYA  BACS  BEKES  BORSOD  CSONGRAD  FEJER  \\\n",
       "0    03/01/2005       168       79    30    173     169        42    136   \n",
       "1    10/01/2005       157       60    30     92     200        53     51   \n",
       "2    17/01/2005        96       44    31     86      93        30     93   \n",
       "3    24/01/2005       163       49    43    126      46        39     52   \n",
       "4    31/01/2005       122       78    53     87     103        34     95   \n",
       "..          ...       ...      ...   ...    ...     ...       ...    ...   \n",
       "517  01/12/2014        95       12    41      6      39         0     16   \n",
       "518  08/12/2014        43       39    31     10      34         3      2   \n",
       "519  15/12/2014        35        7    15      0       0         0      7   \n",
       "520  22/12/2014        30       23     8      0      11         4      1   \n",
       "521  29/12/2014       259       42    49     32      38        15     11   \n",
       "\n",
       "     GYOR  HAJDU  ...  JASZ  KOMAROM  NOGRAD  PEST  SOMOGY  SZABOLCS  TOLNA  \\\n",
       "0     120    162  ...   130       57       2   178      66        64     11   \n",
       "1      70     84  ...    80       50      29   141      48        29     58   \n",
       "2      84    191  ...    64       46       4   157      33        33     24   \n",
       "3     114    107  ...    63       54      14   107      66        50     25   \n",
       "4     131    172  ...    61       49      11   124      63        56      7   \n",
       "..    ...    ...  ...   ...      ...     ...   ...     ...       ...    ...   \n",
       "517    15     14  ...    56        7      13   122       4        23      4   \n",
       "518    30     25  ...    34       20      18    70      36         5     23   \n",
       "519     7      4  ...    30       36       4    72       5        21     14   \n",
       "520     9     10  ...    27       17      21    12       5        17      1   \n",
       "521    98     61  ...   112       61      53   256      45        39     27   \n",
       "\n",
       "     VAS  VESZPREM  ZALA  \n",
       "0     29        87    68  \n",
       "1     53        68    26  \n",
       "2     18        62    44  \n",
       "3     21        43    31  \n",
       "4     47        85    60  \n",
       "..   ...       ...   ...  \n",
       "517   11       110    10  \n",
       "518   22        63     9  \n",
       "519    0        17    10  \n",
       "520    1        83     2  \n",
       "521   11       103    25  \n",
       "\n",
       "[522 rows x 21 columns]"
      ]
     },
     "execution_count": 2,
     "metadata": {},
     "output_type": "execute_result"
    }
   ],
   "source": [
    "df = pd.read_csv(r\"../Datasets/hungary_chickenpox.csv\")\n",
    "df"
   ]
  },
  {
   "cell_type": "markdown",
   "metadata": {},
   "source": [
    "Discretizing Data\n",
    "\n",
    "Discretizing data means converting continuous variables (which can take any value within a range) into discrete variables (which can only take specific, fixed values). This process groups numerical values into intervals or categories.\n",
    "\n",
    "For example:\n",
    "\n",
    "Continuous variable: Heights of people (e.g., 160.5 cm, 172.8 cm, etc.).\n",
    "\n",
    "Discretized version: Group heights into categories like Short, Medium, Tall."
   ]
  },
  {
   "cell_type": "markdown",
   "metadata": {},
   "source": [
    "_____________________________________________________________________________________________________________________"
   ]
  },
  {
   "cell_type": "markdown",
   "metadata": {},
   "source": [
    "Binning Data\n",
    "\n",
    "Binning is the process of dividing a continuous variable into intervals (bins) and assigning a label or category to each interval. Each data point falls into one of these bins based on its value.\n",
    "\n",
    "For example: If you have a continuous variable of test scores ranging from 0 to 100, you can bin it into:\n",
    "\n",
    "Bins: [0–50], [51–75], [76–100]\n",
    "\n",
    "Labels: Low, Medium, High"
   ]
  },
  {
   "cell_type": "markdown",
   "metadata": {},
   "source": [
    "_____________________________________________________________________________________________________________________"
   ]
  },
  {
   "cell_type": "markdown",
   "metadata": {},
   "source": [
    "Pandas provides two main methods for binning:\n",
    "\n",
    "pd.cut(): Used for creating bins of fixed width or custom-defined bins.\n",
    "\n",
    "pd.qcut(): Used for creating quantile-based bins where each bin contains approximately the same number of data points.\n"
   ]
  },
  {
   "cell_type": "markdown",
   "metadata": {},
   "source": [
    "# __pandas.cut()__\n",
    "\n",
    "The cut() function is used to segment and sort data values into bins. This method is ideal when you already know the bin edges or want equally spaced intervals.\n",
    "\n",
    "Parameters\n",
    "\n",
    "x: The data you want to bin.\n",
    "\n",
    "bins: The boundaries of the bins.\n",
    "\n",
    "labels: Labels for the bins (optional).\n",
    "\n",
    "right: Whether the bin intervals should be right-inclusive (default is True)."
   ]
  },
  {
   "cell_type": "code",
   "execution_count": 3,
   "metadata": {},
   "outputs": [
    {
     "name": "stdout",
     "output_type": "stream",
     "text": [
      "['Child', 'Child', 'Teen', 'Adult', 'Adult', 'Adult', 'Senior', 'Senior']\n",
      "Categories (4, object): ['Child' < 'Teen' < 'Adult' < 'Senior']\n"
     ]
    }
   ],
   "source": [
    "# Example data\n",
    "ages = [5, 12, 17, 24, 35, 50, 70, 85]\n",
    "\n",
    "# Define bin edges\n",
    "bins = [0, 12, 18, 60, 100]\n",
    "labels = [\"Child\", \"Teen\", \"Adult\", \"Senior\"]\n",
    "\n",
    "# Apply pd.cut()\n",
    "age_categories = pd.cut(ages, bins=bins, labels=labels)\n",
    "print(age_categories)"
   ]
  },
  {
   "cell_type": "markdown",
   "metadata": {},
   "source": [
    "__New Task:__ \n",
    "\n",
    "Bin `BUDAPEST` based on predetermined buckets: [10, 50, 100]\n",
    "\n",
    "You need to make sure all the possible cases will be covered by the specified bin, else, expand your bin ranges."
   ]
  },
  {
   "cell_type": "code",
   "execution_count": 4,
   "metadata": {},
   "outputs": [
    {
     "data": {
      "text/plain": [
       "0      (100, 1000]\n",
       "1      (100, 1000]\n",
       "2        (50, 100]\n",
       "3      (100, 1000]\n",
       "4      (100, 1000]\n",
       "          ...     \n",
       "517      (50, 100]\n",
       "518       (10, 50]\n",
       "519       (10, 50]\n",
       "520       (10, 50]\n",
       "521    (100, 1000]\n",
       "Name: BUDAPEST, Length: 522, dtype: category\n",
       "Categories (4, interval[int64, right]): [(0, 10] < (10, 50] < (50, 100] < (100, 1000]]"
      ]
     },
     "execution_count": 4,
     "metadata": {},
     "output_type": "execute_result"
    }
   ],
   "source": [
    "pd.cut(df['BUDAPEST'],bins=[0,10,50,100,1000] )"
   ]
  },
  {
   "cell_type": "code",
   "execution_count": 5,
   "metadata": {},
   "outputs": [
    {
     "data": {
      "text/plain": [
       "0      4\n",
       "1      4\n",
       "2      3\n",
       "3      4\n",
       "4      4\n",
       "      ..\n",
       "517    3\n",
       "518    2\n",
       "519    2\n",
       "520    2\n",
       "521    4\n",
       "Name: BUDAPEST, Length: 522, dtype: category\n",
       "Categories (4, int64): [1 < 2 < 3 < 4]"
      ]
     },
     "execution_count": 5,
     "metadata": {},
     "output_type": "execute_result"
    }
   ],
   "source": [
    "# cut with labels\n",
    "pd.cut(df['BUDAPEST'], bins=[0, 10, 50, 100, 1000], labels=[1,2,3,4])"
   ]
  },
  {
   "cell_type": "markdown",
   "metadata": {},
   "source": [
    "## Numbers to labels"
   ]
  },
  {
   "cell_type": "code",
   "execution_count": 6,
   "metadata": {},
   "outputs": [
    {
     "data": {
      "text/plain": [
       "0      VERY HIGH\n",
       "1      VERY HIGH\n",
       "2           HIGH\n",
       "3      VERY HIGH\n",
       "4           HIGH\n",
       "         ...    \n",
       "517         HIGH\n",
       "518       MEDIUM\n",
       "519       MEDIUM\n",
       "520          LOW\n",
       "521    VERY HIGH\n",
       "Name: BUDAPEST, Length: 522, dtype: category\n",
       "Categories (4, object): ['LOW' < 'MEDIUM' < 'HIGH' < 'VERY HIGH']"
      ]
     },
     "execution_count": 6,
     "metadata": {},
     "output_type": "execute_result"
    }
   ],
   "source": [
    "quantile = pd.qcut(df['BUDAPEST'],q=4,labels=['LOW','MEDIUM','HIGH','VERY HIGH'])\n",
    "quantile"
   ]
  },
  {
   "cell_type": "markdown",
   "metadata": {},
   "source": [
    "# __3. pandas.qcut()__\n",
    "The qcut() function divides data into quantiles (bins with approximately equal numbers of observations). This is useful when the data distribution is uneven."
   ]
  },
  {
   "cell_type": "markdown",
   "metadata": {},
   "source": [
    "Example 1: Quantile-Based Binning\n",
    "\n",
    "Suppose we want to split the data into 4 quartiles."
   ]
  },
  {
   "cell_type": "code",
   "execution_count": 7,
   "metadata": {},
   "outputs": [
    {
     "name": "stdout",
     "output_type": "stream",
     "text": [
      "[(9.999, 32.5], (9.999, 32.5], (9.999, 32.5], (32.5, 55.0], (32.5, 55.0], (55.0, 77.5], (55.0, 77.5], (77.5, 100.0], (77.5, 100.0], (77.5, 100.0]]\n",
      "Categories (4, interval[float64, right]): [(9.999, 32.5] < (32.5, 55.0] < (55.0, 77.5] < (77.5, 100.0]]\n"
     ]
    }
   ],
   "source": [
    "data = [10, 20, 30, 40, 50, 60, 70, 80, 90, 100]\n",
    "\n",
    "# Divide into 4 quantile bins\n",
    "quantile_bins = pd.qcut(data, q=4)\n",
    "print(quantile_bins)\n"
   ]
  },
  {
   "cell_type": "markdown",
   "metadata": {},
   "source": [
    "Example 2: Quantile Binning with Labels"
   ]
  },
  {
   "cell_type": "code",
   "execution_count": 8,
   "metadata": {},
   "outputs": [
    {
     "name": "stdout",
     "output_type": "stream",
     "text": [
      "['Q1', 'Q1', 'Q1', 'Q2', 'Q2', 'Q3', 'Q3', 'Q4', 'Q4', 'Q4']\n",
      "Categories (4, object): ['Q1' < 'Q2' < 'Q3' < 'Q4']\n"
     ]
    }
   ],
   "source": [
    "labels = [\"Q1\", \"Q2\", \"Q3\", \"Q4\"]\n",
    "quantile_bins = pd.qcut(data, q=4, labels=labels)\n",
    "print(quantile_bins)\n"
   ]
  },
  {
   "cell_type": "code",
   "execution_count": 9,
   "metadata": {},
   "outputs": [
    {
     "data": {
      "text/plain": [
       "0       (149.0, 479.0]\n",
       "1       (149.0, 479.0]\n",
       "2        (93.0, 149.0]\n",
       "3       (149.0, 479.0]\n",
       "4        (93.0, 149.0]\n",
       "            ...       \n",
       "517      (93.0, 149.0]\n",
       "518      (34.25, 93.0]\n",
       "519      (34.25, 93.0]\n",
       "520    (-0.001, 34.25]\n",
       "521     (149.0, 479.0]\n",
       "Name: BUDAPEST, Length: 522, dtype: category\n",
       "Categories (4, interval[float64, right]): [(-0.001, 34.25] < (34.25, 93.0] < (93.0, 149.0] < (149.0, 479.0]]"
      ]
     },
     "execution_count": 9,
     "metadata": {},
     "output_type": "execute_result"
    }
   ],
   "source": [
    "# qcut bins each item into the respective bucket\n",
    "quantile = pd.qcut(df['BUDAPEST'],q=4)\n",
    "quantile"
   ]
  },
  {
   "cell_type": "code",
   "execution_count": null,
   "metadata": {},
   "outputs": [],
   "source": []
  },
  {
   "cell_type": "markdown",
   "metadata": {},
   "source": [
    "## Numbers to labels"
   ]
  },
  {
   "cell_type": "code",
   "execution_count": 10,
   "metadata": {},
   "outputs": [
    {
     "data": {
      "text/plain": [
       "0      VERY HIGH\n",
       "1      VERY HIGH\n",
       "2           HIGH\n",
       "3      VERY HIGH\n",
       "4           HIGH\n",
       "         ...    \n",
       "517         HIGH\n",
       "518       MEDIUM\n",
       "519       MEDIUM\n",
       "520          LOW\n",
       "521    VERY HIGH\n",
       "Name: BUDAPEST, Length: 522, dtype: category\n",
       "Categories (4, object): ['LOW' < 'MEDIUM' < 'HIGH' < 'VERY HIGH']"
      ]
     },
     "execution_count": 10,
     "metadata": {},
     "output_type": "execute_result"
    }
   ],
   "source": [
    "quantile = pd.qcut(df['BUDAPEST'],q=4,labels=['LOW','MEDIUM','HIGH','VERY HIGH'])\n",
    "quantile"
   ]
  }
 ],
 "metadata": {
  "kernelspec": {
   "display_name": "Python 3",
   "language": "python",
   "name": "python3"
  },
  "language_info": {
   "codemirror_mode": {
    "name": "ipython",
    "version": 3
   },
   "file_extension": ".py",
   "mimetype": "text/x-python",
   "name": "python",
   "nbconvert_exporter": "python",
   "pygments_lexer": "ipython3",
   "version": "3.13.0"
  }
 },
 "nbformat": 4,
 "nbformat_minor": 2
}
