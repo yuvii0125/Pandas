{
 "cells": [
  {
   "cell_type": "markdown",
   "id": "57af1767",
   "metadata": {},
   "source": [
    "# One-Hot Encoding in Pandas\n",
    "One-hot encoding is a method used to convert categorical data into numerical format. This is essential for machine learning algorithms that require numerical inputs.\n",
    "\n",
    "In this tutorial, we'll cover:\n",
    "- Basic one-hot encoding\n",
    "- Adding dummy variables to the original DataFrame\n",
    "- One-hot encoding for multiple columns\n",
    "- Dropping the first dummy variable to avoid multicollinearity"
   ]
  },
  {
   "cell_type": "markdown",
   "id": "7bfa6630",
   "metadata": {},
   "source": [
    "## Step 1: Basic One-Hot Encoding"
   ]
  },
  {
   "cell_type": "code",
   "execution_count": 11,
   "id": "755c1d8b",
   "metadata": {},
   "outputs": [
    {
     "name": "stdout",
     "output_type": "stream",
     "text": [
      "    Blue  Green    Red\n",
      "0  False  False   True\n",
      "1   True  False  False\n",
      "2  False   True  False\n",
      "3  False  False   True\n"
     ]
    }
   ],
   "source": [
    "import pandas as pd\n",
    "\n",
    "# Sample DataFrame\n",
    "data = {'Color': ['Red', 'Blue', 'Green', 'Red']}\n",
    "df = pd.DataFrame(data)\n",
    "\n",
    "# Create dummy variables\n",
    "one_hot = pd.get_dummies(df['Color'])\n",
    "\n",
    "# Display the result\n",
    "print(one_hot)"
   ]
  },
  {
   "cell_type": "markdown",
   "id": "e2dfc888",
   "metadata": {},
   "source": [
    "### Explanation:\n",
    "- `pd.get_dummies()` converts the categorical column `Color` into binary columns for each unique category.\n",
    "- Each row contains 1 if the category is present and 0 otherwise."
   ]
  },
  {
   "cell_type": "markdown",
   "id": "2b852ad4",
   "metadata": {},
   "source": [
    "## Step 2: Adding Dummy Variables to the Original DataFrame"
   ]
  },
  {
   "cell_type": "code",
   "execution_count": 12,
   "id": "3028ba78",
   "metadata": {},
   "outputs": [
    {
     "name": "stdout",
     "output_type": "stream",
     "text": [
      "   Color   Blue  Green    Red\n",
      "0    Red  False  False   True\n",
      "1   Blue   True  False  False\n",
      "2  Green  False   True  False\n",
      "3    Red  False  False   True\n"
     ]
    }
   ],
   "source": [
    "# Add dummy variables to the original DataFrame\n",
    "df_with_dummies = pd.concat([df, one_hot], axis=1)\n",
    "\n",
    "print(df_with_dummies)"
   ]
  },
  {
   "cell_type": "markdown",
   "id": "67d96742",
   "metadata": {},
   "source": [
    "### Explanation:\n",
    "- `pd.concat()` is used to merge the original DataFrame with the dummy variables.\n",
    "- This way, the original column is preserved alongside the new binary columns."
   ]
  },
  {
   "cell_type": "markdown",
   "id": "20eeaadc",
   "metadata": {},
   "source": [
    "## Step 3: One-Hot Encoding for Multiple Columns"
   ]
  },
  {
   "cell_type": "code",
   "execution_count": 13,
   "id": "e512af5a",
   "metadata": {},
   "outputs": [
    {
     "name": "stdout",
     "output_type": "stream",
     "text": [
      "   Color_Blue  Color_Green  Color_Red  Size_L  Size_M  Size_S  Size_XL\n",
      "0       False        False       True   False   False    True    False\n",
      "1        True        False      False   False    True   False    False\n",
      "2       False         True      False    True   False   False    False\n",
      "3       False        False       True   False   False   False     True\n"
     ]
    }
   ],
   "source": [
    "# Sample DataFrame with multiple columns\n",
    "data = {\n",
    "    'Color': ['Red', 'Blue', 'Green', 'Red'],\n",
    "    'Size': ['S', 'M', 'L', 'XL']\n",
    "}\n",
    "df_multi = pd.DataFrame(data)\n",
    "\n",
    "# Create dummy variables for all categorical columns\n",
    "one_hot_multi = pd.get_dummies(df_multi)\n",
    "\n",
    "print(one_hot_multi)"
   ]
  },
  {
   "cell_type": "markdown",
   "id": "06183122",
   "metadata": {},
   "source": [
    "### Explanation:\n",
    "- `get_dummies()` handles all categorical columns automatically when passed the entire DataFrame."
   ]
  },
  {
   "cell_type": "markdown",
   "id": "7733a8c7",
   "metadata": {},
   "source": [
    "## Step 4: Dropping the First Dummy Variable"
   ]
  },
  {
   "cell_type": "code",
   "execution_count": 14,
   "id": "18d21e38",
   "metadata": {},
   "outputs": [
    {
     "name": "stdout",
     "output_type": "stream",
     "text": [
      "   Color_Green  Color_Red  Size_M  Size_S  Size_XL\n",
      "0        False       True   False    True    False\n",
      "1        False      False    True   False    False\n",
      "2         True      False   False   False    False\n",
      "3        False       True   False   False     True\n"
     ]
    }
   ],
   "source": [
    "# Create dummy variables with drop_first=True\n",
    "one_hot_drop = pd.get_dummies(df_multi, drop_first=True)\n",
    "\n",
    "print(one_hot_drop)"
   ]
  },
  {
   "cell_type": "markdown",
   "id": "69016fd5",
   "metadata": {},
   "source": [
    "### Explanation:\n",
    "- `drop_first=True` removes the first category for each column to avoid the **dummy variable trap**.\n",
    "- This is especially important for linear regression models to avoid multicollinearity."
   ]
  },
  {
   "cell_type": "markdown",
   "id": "89dcb9d1",
   "metadata": {},
   "source": [
    "# REAL LIFE EXAMPLES"
   ]
  },
  {
   "cell_type": "code",
   "execution_count": 18,
   "id": "64d7268b",
   "metadata": {},
   "outputs": [
    {
     "data": {
      "text/html": [
       "<div>\n",
       "<style scoped>\n",
       "    .dataframe tbody tr th:only-of-type {\n",
       "        vertical-align: middle;\n",
       "    }\n",
       "\n",
       "    .dataframe tbody tr th {\n",
       "        vertical-align: top;\n",
       "    }\n",
       "\n",
       "    .dataframe thead th {\n",
       "        text-align: right;\n",
       "    }\n",
       "</style>\n",
       "<table border=\"1\" class=\"dataframe\">\n",
       "  <thead>\n",
       "    <tr style=\"text-align: right;\">\n",
       "      <th></th>\n",
       "      <th>Area_Name</th>\n",
       "      <th>Year</th>\n",
       "      <th>Group_Name</th>\n",
       "      <th>Sub_Group_Name</th>\n",
       "      <th>Cases_Property_Recovered</th>\n",
       "      <th>Cases_Property_Stolen</th>\n",
       "      <th>Value_of_Property_Recovered</th>\n",
       "      <th>Value_of_Property_Stolen</th>\n",
       "    </tr>\n",
       "  </thead>\n",
       "  <tbody>\n",
       "    <tr>\n",
       "      <th>0</th>\n",
       "      <td>Andaman &amp; Nicobar Islands</td>\n",
       "      <td>2001</td>\n",
       "      <td>Burglary - Property</td>\n",
       "      <td>3. Burglary</td>\n",
       "      <td>27</td>\n",
       "      <td>64</td>\n",
       "      <td>755858</td>\n",
       "      <td>1321961</td>\n",
       "    </tr>\n",
       "    <tr>\n",
       "      <th>1</th>\n",
       "      <td>Andhra Pradesh</td>\n",
       "      <td>2001</td>\n",
       "      <td>Burglary - Property</td>\n",
       "      <td>3. Burglary</td>\n",
       "      <td>3321</td>\n",
       "      <td>7134</td>\n",
       "      <td>51483437</td>\n",
       "      <td>147019348</td>\n",
       "    </tr>\n",
       "    <tr>\n",
       "      <th>2</th>\n",
       "      <td>Arunachal Pradesh</td>\n",
       "      <td>2001</td>\n",
       "      <td>Burglary - Property</td>\n",
       "      <td>3. Burglary</td>\n",
       "      <td>66</td>\n",
       "      <td>248</td>\n",
       "      <td>825115</td>\n",
       "      <td>4931904</td>\n",
       "    </tr>\n",
       "    <tr>\n",
       "      <th>3</th>\n",
       "      <td>Assam</td>\n",
       "      <td>2001</td>\n",
       "      <td>Burglary - Property</td>\n",
       "      <td>3. Burglary</td>\n",
       "      <td>539</td>\n",
       "      <td>2423</td>\n",
       "      <td>3722850</td>\n",
       "      <td>21466955</td>\n",
       "    </tr>\n",
       "    <tr>\n",
       "      <th>4</th>\n",
       "      <td>Bihar</td>\n",
       "      <td>2001</td>\n",
       "      <td>Burglary - Property</td>\n",
       "      <td>3. Burglary</td>\n",
       "      <td>367</td>\n",
       "      <td>3231</td>\n",
       "      <td>2327135</td>\n",
       "      <td>17023937</td>\n",
       "    </tr>\n",
       "  </tbody>\n",
       "</table>\n",
       "</div>"
      ],
      "text/plain": [
       "                   Area_Name  Year           Group_Name Sub_Group_Name  \\\n",
       "0  Andaman & Nicobar Islands  2001  Burglary - Property    3. Burglary   \n",
       "1             Andhra Pradesh  2001  Burglary - Property    3. Burglary   \n",
       "2          Arunachal Pradesh  2001  Burglary - Property    3. Burglary   \n",
       "3                      Assam  2001  Burglary - Property    3. Burglary   \n",
       "4                      Bihar  2001  Burglary - Property    3. Burglary   \n",
       "\n",
       "   Cases_Property_Recovered  Cases_Property_Stolen  \\\n",
       "0                        27                     64   \n",
       "1                      3321                   7134   \n",
       "2                        66                    248   \n",
       "3                       539                   2423   \n",
       "4                       367                   3231   \n",
       "\n",
       "   Value_of_Property_Recovered  Value_of_Property_Stolen  \n",
       "0                       755858                   1321961  \n",
       "1                     51483437                 147019348  \n",
       "2                       825115                   4931904  \n",
       "3                      3722850                  21466955  \n",
       "4                      2327135                  17023937  "
      ]
     },
     "execution_count": 18,
     "metadata": {},
     "output_type": "execute_result"
    }
   ],
   "source": [
    "df = pd.read_csv(r'../Datasets/Property_Crimes.csv')\n",
    "df.head()"
   ]
  },
  {
   "cell_type": "code",
   "execution_count": 16,
   "id": "31d94d5f",
   "metadata": {},
   "outputs": [
    {
     "data": {
      "text/plain": [
       "(2449, 8)"
      ]
     },
     "execution_count": 16,
     "metadata": {},
     "output_type": "execute_result"
    }
   ],
   "source": [
    "df.shape"
   ]
  },
  {
   "cell_type": "code",
   "execution_count": 17,
   "id": "58eca11a",
   "metadata": {},
   "outputs": [
    {
     "data": {
      "text/html": [
       "<div>\n",
       "<style scoped>\n",
       "    .dataframe tbody tr th:only-of-type {\n",
       "        vertical-align: middle;\n",
       "    }\n",
       "\n",
       "    .dataframe tbody tr th {\n",
       "        vertical-align: top;\n",
       "    }\n",
       "\n",
       "    .dataframe thead th {\n",
       "        text-align: right;\n",
       "    }\n",
       "</style>\n",
       "<table border=\"1\" class=\"dataframe\">\n",
       "  <thead>\n",
       "    <tr style=\"text-align: right;\">\n",
       "      <th></th>\n",
       "      <th>Group_Burglary - Property</th>\n",
       "      <th>Group_Criminal Breach of Trust - Property</th>\n",
       "      <th>Group_Dacoity -Property</th>\n",
       "      <th>Group_Other heads of Property</th>\n",
       "      <th>Group_Robbery - Property</th>\n",
       "      <th>Group_Theft - Property</th>\n",
       "      <th>Group_Total Property</th>\n",
       "    </tr>\n",
       "  </thead>\n",
       "  <tbody>\n",
       "    <tr>\n",
       "      <th>0</th>\n",
       "      <td>True</td>\n",
       "      <td>False</td>\n",
       "      <td>False</td>\n",
       "      <td>False</td>\n",
       "      <td>False</td>\n",
       "      <td>False</td>\n",
       "      <td>False</td>\n",
       "    </tr>\n",
       "    <tr>\n",
       "      <th>1</th>\n",
       "      <td>True</td>\n",
       "      <td>False</td>\n",
       "      <td>False</td>\n",
       "      <td>False</td>\n",
       "      <td>False</td>\n",
       "      <td>False</td>\n",
       "      <td>False</td>\n",
       "    </tr>\n",
       "    <tr>\n",
       "      <th>2</th>\n",
       "      <td>True</td>\n",
       "      <td>False</td>\n",
       "      <td>False</td>\n",
       "      <td>False</td>\n",
       "      <td>False</td>\n",
       "      <td>False</td>\n",
       "      <td>False</td>\n",
       "    </tr>\n",
       "    <tr>\n",
       "      <th>3</th>\n",
       "      <td>True</td>\n",
       "      <td>False</td>\n",
       "      <td>False</td>\n",
       "      <td>False</td>\n",
       "      <td>False</td>\n",
       "      <td>False</td>\n",
       "      <td>False</td>\n",
       "    </tr>\n",
       "    <tr>\n",
       "      <th>4</th>\n",
       "      <td>True</td>\n",
       "      <td>False</td>\n",
       "      <td>False</td>\n",
       "      <td>False</td>\n",
       "      <td>False</td>\n",
       "      <td>False</td>\n",
       "      <td>False</td>\n",
       "    </tr>\n",
       "  </tbody>\n",
       "</table>\n",
       "</div>"
      ],
      "text/plain": [
       "   Group_Burglary - Property  Group_Criminal Breach of Trust - Property  \\\n",
       "0                       True                                      False   \n",
       "1                       True                                      False   \n",
       "2                       True                                      False   \n",
       "3                       True                                      False   \n",
       "4                       True                                      False   \n",
       "\n",
       "   Group_Dacoity -Property  Group_Other heads of Property  \\\n",
       "0                    False                          False   \n",
       "1                    False                          False   \n",
       "2                    False                          False   \n",
       "3                    False                          False   \n",
       "4                    False                          False   \n",
       "\n",
       "   Group_Robbery - Property  Group_Theft - Property  Group_Total Property  \n",
       "0                     False                   False                 False  \n",
       "1                     False                   False                 False  \n",
       "2                     False                   False                 False  \n",
       "3                     False                   False                 False  \n",
       "4                     False                   False                 False  "
      ]
     },
     "execution_count": 17,
     "metadata": {},
     "output_type": "execute_result"
    }
   ],
   "source": [
    "pd.get_dummies(df.Group_Name,prefix='Group').head()"
   ]
  },
  {
   "cell_type": "markdown",
   "id": "3b111d6b",
   "metadata": {},
   "source": [
    "## Notes:\n",
    "- **When to Use One-Hot Encoding**: Use it for non-ordinal categorical data.\n",
    "- **Scalability**: Be cautious with datasets that have many unique categories, as it can lead to high memory usage.\n",
    "- **Best Practices**: Always review your dataset to decide whether to drop the first dummy variable based on the model being used."
   ]
  }
 ],
 "metadata": {
  "kernelspec": {
   "display_name": "Python 3",
   "language": "python",
   "name": "python3"
  },
  "language_info": {
   "codemirror_mode": {
    "name": "ipython",
    "version": 3
   },
   "file_extension": ".py",
   "mimetype": "text/x-python",
   "name": "python",
   "nbconvert_exporter": "python",
   "pygments_lexer": "ipython3",
   "version": "3.13.0"
  }
 },
 "nbformat": 4,
 "nbformat_minor": 5
}
